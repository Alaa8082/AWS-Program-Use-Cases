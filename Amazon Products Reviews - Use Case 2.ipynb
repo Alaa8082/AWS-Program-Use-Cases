{
 "cells": [
  {
   "cell_type": "markdown",
   "metadata": {},
   "source": [
    "# Amazon Products Reviews - Use Case 2"
   ]
  },
  {
   "cell_type": "markdown",
   "metadata": {},
   "source": [
    "#### by/Alaa Hassan"
   ]
  },
  {
   "cell_type": "markdown",
   "metadata": {},
   "source": [
    "### NLP Approach to Mining Online Reviews using Topic Modeling \n",
    "##### Let’s first load all the necessary libraries:"
   ]
  },
  {
   "cell_type": "code",
   "execution_count": 1,
   "metadata": {},
   "outputs": [],
   "source": [
    "import nltk\n",
    "from nltk import FreqDist\n"
   ]
  },
  {
   "cell_type": "code",
   "execution_count": 2,
   "metadata": {},
   "outputs": [],
   "source": [
    "import pandas as pd\n",
    "pd.set_option(\"display.max_colwidth\", 200)\n",
    "import numpy as np\n",
    "import re\n",
    "import spacy\n",
    "\n",
    "import gensim\n",
    "from gensim import corpora\n",
    "\n",
    "# libraries for visualization\n",
    "import pyLDAvis\n",
    "import pyLDAvis.gensim\n",
    "import matplotlib.pyplot as plt\n",
    "import seaborn as sns\n",
    "%matplotlib inline"
   ]
  },
  {
   "cell_type": "code",
   "execution_count": 3,
   "metadata": {},
   "outputs": [],
   "source": [
    "df = pd.read_csv(r'F:\\A-W-S\\UseCases\\Use Case 2\\Data\\1429_1.csv.zip' ,low_memory=False)\n"
   ]
  },
  {
   "cell_type": "code",
   "execution_count": 4,
   "metadata": {},
   "outputs": [
    {
     "data": {
      "text/html": [
       "<div>\n",
       "<style scoped>\n",
       "    .dataframe tbody tr th:only-of-type {\n",
       "        vertical-align: middle;\n",
       "    }\n",
       "\n",
       "    .dataframe tbody tr th {\n",
       "        vertical-align: top;\n",
       "    }\n",
       "\n",
       "    .dataframe thead th {\n",
       "        text-align: right;\n",
       "    }\n",
       "</style>\n",
       "<table border=\"1\" class=\"dataframe\">\n",
       "  <thead>\n",
       "    <tr style=\"text-align: right;\">\n",
       "      <th></th>\n",
       "      <th>id</th>\n",
       "      <th>name</th>\n",
       "      <th>asins</th>\n",
       "      <th>brand</th>\n",
       "      <th>categories</th>\n",
       "      <th>keys</th>\n",
       "      <th>manufacturer</th>\n",
       "      <th>reviews.date</th>\n",
       "      <th>reviews.dateAdded</th>\n",
       "      <th>reviews.dateSeen</th>\n",
       "      <th>...</th>\n",
       "      <th>reviews.doRecommend</th>\n",
       "      <th>reviews.id</th>\n",
       "      <th>reviews.numHelpful</th>\n",
       "      <th>reviews.rating</th>\n",
       "      <th>reviews.sourceURLs</th>\n",
       "      <th>reviews.text</th>\n",
       "      <th>reviews.title</th>\n",
       "      <th>reviews.userCity</th>\n",
       "      <th>reviews.userProvince</th>\n",
       "      <th>reviews.username</th>\n",
       "    </tr>\n",
       "  </thead>\n",
       "  <tbody>\n",
       "    <tr>\n",
       "      <th>0</th>\n",
       "      <td>AVqkIhwDv8e3D1O-lebb</td>\n",
       "      <td>All-New Fire HD 8 Tablet, 8 HD Display, Wi-Fi, 16 GB - Includes Special Offers, Magenta</td>\n",
       "      <td>B01AHB9CN2</td>\n",
       "      <td>Amazon</td>\n",
       "      <td>Electronics,iPad &amp; Tablets,All Tablets,Fire Tablets,Tablets,Computers &amp; Tablets</td>\n",
       "      <td>841667104676,amazon/53004484,amazon/b01ahb9cn2,0841667104676,allnewfirehd8tablet8hddisplaywifi16gbincludesspecialoffersmagenta/5620406,allnewfirehd8tablet8hddisplaywifi16gbincludesspecialoffersmag...</td>\n",
       "      <td>Amazon</td>\n",
       "      <td>2017-01-13T00:00:00.000Z</td>\n",
       "      <td>2017-07-03T23:33:15Z</td>\n",
       "      <td>2017-06-07T09:04:00.000Z,2017-04-30T00:45:00.000Z</td>\n",
       "      <td>...</td>\n",
       "      <td>True</td>\n",
       "      <td>NaN</td>\n",
       "      <td>0.0</td>\n",
       "      <td>5.0</td>\n",
       "      <td>http://reviews.bestbuy.com/3545/5620406/reviews.htm?format=embedded&amp;page=200,http://reviews.bestbuy.com/3545/5620406/reviews.htm?format=embedded&amp;page=166</td>\n",
       "      <td>This product so far has not disappointed. My children love to use it and I like the ability to monitor control what content they see with ease.</td>\n",
       "      <td>Kindle</td>\n",
       "      <td>NaN</td>\n",
       "      <td>NaN</td>\n",
       "      <td>Adapter</td>\n",
       "    </tr>\n",
       "    <tr>\n",
       "      <th>1</th>\n",
       "      <td>AVqkIhwDv8e3D1O-lebb</td>\n",
       "      <td>All-New Fire HD 8 Tablet, 8 HD Display, Wi-Fi, 16 GB - Includes Special Offers, Magenta</td>\n",
       "      <td>B01AHB9CN2</td>\n",
       "      <td>Amazon</td>\n",
       "      <td>Electronics,iPad &amp; Tablets,All Tablets,Fire Tablets,Tablets,Computers &amp; Tablets</td>\n",
       "      <td>841667104676,amazon/53004484,amazon/b01ahb9cn2,0841667104676,allnewfirehd8tablet8hddisplaywifi16gbincludesspecialoffersmagenta/5620406,allnewfirehd8tablet8hddisplaywifi16gbincludesspecialoffersmag...</td>\n",
       "      <td>Amazon</td>\n",
       "      <td>2017-01-13T00:00:00.000Z</td>\n",
       "      <td>2017-07-03T23:33:15Z</td>\n",
       "      <td>2017-06-07T09:04:00.000Z,2017-04-30T00:45:00.000Z</td>\n",
       "      <td>...</td>\n",
       "      <td>True</td>\n",
       "      <td>NaN</td>\n",
       "      <td>0.0</td>\n",
       "      <td>5.0</td>\n",
       "      <td>http://reviews.bestbuy.com/3545/5620406/reviews.htm?format=embedded&amp;page=200,http://reviews.bestbuy.com/3545/5620406/reviews.htm?format=embedded&amp;page=167</td>\n",
       "      <td>great for beginner or experienced person. Bought as a gift and she loves it</td>\n",
       "      <td>very fast</td>\n",
       "      <td>NaN</td>\n",
       "      <td>NaN</td>\n",
       "      <td>truman</td>\n",
       "    </tr>\n",
       "    <tr>\n",
       "      <th>2</th>\n",
       "      <td>AVqkIhwDv8e3D1O-lebb</td>\n",
       "      <td>All-New Fire HD 8 Tablet, 8 HD Display, Wi-Fi, 16 GB - Includes Special Offers, Magenta</td>\n",
       "      <td>B01AHB9CN2</td>\n",
       "      <td>Amazon</td>\n",
       "      <td>Electronics,iPad &amp; Tablets,All Tablets,Fire Tablets,Tablets,Computers &amp; Tablets</td>\n",
       "      <td>841667104676,amazon/53004484,amazon/b01ahb9cn2,0841667104676,allnewfirehd8tablet8hddisplaywifi16gbincludesspecialoffersmagenta/5620406,allnewfirehd8tablet8hddisplaywifi16gbincludesspecialoffersmag...</td>\n",
       "      <td>Amazon</td>\n",
       "      <td>2017-01-13T00:00:00.000Z</td>\n",
       "      <td>2017-07-03T23:33:15Z</td>\n",
       "      <td>2017-06-07T09:04:00.000Z,2017-04-30T00:45:00.000Z</td>\n",
       "      <td>...</td>\n",
       "      <td>True</td>\n",
       "      <td>NaN</td>\n",
       "      <td>0.0</td>\n",
       "      <td>5.0</td>\n",
       "      <td>http://reviews.bestbuy.com/3545/5620406/reviews.htm?format=embedded&amp;page=200,http://reviews.bestbuy.com/3545/5620406/reviews.htm?format=embedded&amp;page=167</td>\n",
       "      <td>Inexpensive tablet for him to use and learn on, step up from the NABI. He was thrilled with it, learn how to Skype on it already...</td>\n",
       "      <td>Beginner tablet for our 9 year old son.</td>\n",
       "      <td>NaN</td>\n",
       "      <td>NaN</td>\n",
       "      <td>DaveZ</td>\n",
       "    </tr>\n",
       "    <tr>\n",
       "      <th>3</th>\n",
       "      <td>AVqkIhwDv8e3D1O-lebb</td>\n",
       "      <td>All-New Fire HD 8 Tablet, 8 HD Display, Wi-Fi, 16 GB - Includes Special Offers, Magenta</td>\n",
       "      <td>B01AHB9CN2</td>\n",
       "      <td>Amazon</td>\n",
       "      <td>Electronics,iPad &amp; Tablets,All Tablets,Fire Tablets,Tablets,Computers &amp; Tablets</td>\n",
       "      <td>841667104676,amazon/53004484,amazon/b01ahb9cn2,0841667104676,allnewfirehd8tablet8hddisplaywifi16gbincludesspecialoffersmagenta/5620406,allnewfirehd8tablet8hddisplaywifi16gbincludesspecialoffersmag...</td>\n",
       "      <td>Amazon</td>\n",
       "      <td>2017-01-13T00:00:00.000Z</td>\n",
       "      <td>2017-07-03T23:33:15Z</td>\n",
       "      <td>2017-06-07T09:04:00.000Z,2017-04-30T00:45:00.000Z</td>\n",
       "      <td>...</td>\n",
       "      <td>True</td>\n",
       "      <td>NaN</td>\n",
       "      <td>0.0</td>\n",
       "      <td>4.0</td>\n",
       "      <td>http://reviews.bestbuy.com/3545/5620406/reviews.htm?format=embedded&amp;page=200,http://reviews.bestbuy.com/3545/5620406/reviews.htm?format=embedded&amp;page=167</td>\n",
       "      <td>I've had my Fire HD 8 two weeks now and I love it. This tablet is a great value.We are Prime Members and that is where this tablet SHINES. I love being able to easily access all of the Prime conte...</td>\n",
       "      <td>Good!!!</td>\n",
       "      <td>NaN</td>\n",
       "      <td>NaN</td>\n",
       "      <td>Shacks</td>\n",
       "    </tr>\n",
       "    <tr>\n",
       "      <th>4</th>\n",
       "      <td>AVqkIhwDv8e3D1O-lebb</td>\n",
       "      <td>All-New Fire HD 8 Tablet, 8 HD Display, Wi-Fi, 16 GB - Includes Special Offers, Magenta</td>\n",
       "      <td>B01AHB9CN2</td>\n",
       "      <td>Amazon</td>\n",
       "      <td>Electronics,iPad &amp; Tablets,All Tablets,Fire Tablets,Tablets,Computers &amp; Tablets</td>\n",
       "      <td>841667104676,amazon/53004484,amazon/b01ahb9cn2,0841667104676,allnewfirehd8tablet8hddisplaywifi16gbincludesspecialoffersmagenta/5620406,allnewfirehd8tablet8hddisplaywifi16gbincludesspecialoffersmag...</td>\n",
       "      <td>Amazon</td>\n",
       "      <td>2017-01-12T00:00:00.000Z</td>\n",
       "      <td>2017-07-03T23:33:15Z</td>\n",
       "      <td>2017-06-07T09:04:00.000Z,2017-04-30T00:45:00.000Z</td>\n",
       "      <td>...</td>\n",
       "      <td>True</td>\n",
       "      <td>NaN</td>\n",
       "      <td>0.0</td>\n",
       "      <td>5.0</td>\n",
       "      <td>http://reviews.bestbuy.com/3545/5620406/reviews.htm?format=embedded&amp;page=200,http://reviews.bestbuy.com/3545/5620406/reviews.htm?format=embedded&amp;page=167</td>\n",
       "      <td>I bought this for my grand daughter when she comes over to visit. I set it up with her as the user, entered her age and name and now Amazon makes sure that she only accesses sites and content that...</td>\n",
       "      <td>Fantastic Tablet for kids</td>\n",
       "      <td>NaN</td>\n",
       "      <td>NaN</td>\n",
       "      <td>explore42</td>\n",
       "    </tr>\n",
       "  </tbody>\n",
       "</table>\n",
       "<p>5 rows × 21 columns</p>\n",
       "</div>"
      ],
      "text/plain": [
       "                     id  \\\n",
       "0  AVqkIhwDv8e3D1O-lebb   \n",
       "1  AVqkIhwDv8e3D1O-lebb   \n",
       "2  AVqkIhwDv8e3D1O-lebb   \n",
       "3  AVqkIhwDv8e3D1O-lebb   \n",
       "4  AVqkIhwDv8e3D1O-lebb   \n",
       "\n",
       "                                                                                      name  \\\n",
       "0  All-New Fire HD 8 Tablet, 8 HD Display, Wi-Fi, 16 GB - Includes Special Offers, Magenta   \n",
       "1  All-New Fire HD 8 Tablet, 8 HD Display, Wi-Fi, 16 GB - Includes Special Offers, Magenta   \n",
       "2  All-New Fire HD 8 Tablet, 8 HD Display, Wi-Fi, 16 GB - Includes Special Offers, Magenta   \n",
       "3  All-New Fire HD 8 Tablet, 8 HD Display, Wi-Fi, 16 GB - Includes Special Offers, Magenta   \n",
       "4  All-New Fire HD 8 Tablet, 8 HD Display, Wi-Fi, 16 GB - Includes Special Offers, Magenta   \n",
       "\n",
       "        asins   brand  \\\n",
       "0  B01AHB9CN2  Amazon   \n",
       "1  B01AHB9CN2  Amazon   \n",
       "2  B01AHB9CN2  Amazon   \n",
       "3  B01AHB9CN2  Amazon   \n",
       "4  B01AHB9CN2  Amazon   \n",
       "\n",
       "                                                                        categories  \\\n",
       "0  Electronics,iPad & Tablets,All Tablets,Fire Tablets,Tablets,Computers & Tablets   \n",
       "1  Electronics,iPad & Tablets,All Tablets,Fire Tablets,Tablets,Computers & Tablets   \n",
       "2  Electronics,iPad & Tablets,All Tablets,Fire Tablets,Tablets,Computers & Tablets   \n",
       "3  Electronics,iPad & Tablets,All Tablets,Fire Tablets,Tablets,Computers & Tablets   \n",
       "4  Electronics,iPad & Tablets,All Tablets,Fire Tablets,Tablets,Computers & Tablets   \n",
       "\n",
       "                                                                                                                                                                                                      keys  \\\n",
       "0  841667104676,amazon/53004484,amazon/b01ahb9cn2,0841667104676,allnewfirehd8tablet8hddisplaywifi16gbincludesspecialoffersmagenta/5620406,allnewfirehd8tablet8hddisplaywifi16gbincludesspecialoffersmag...   \n",
       "1  841667104676,amazon/53004484,amazon/b01ahb9cn2,0841667104676,allnewfirehd8tablet8hddisplaywifi16gbincludesspecialoffersmagenta/5620406,allnewfirehd8tablet8hddisplaywifi16gbincludesspecialoffersmag...   \n",
       "2  841667104676,amazon/53004484,amazon/b01ahb9cn2,0841667104676,allnewfirehd8tablet8hddisplaywifi16gbincludesspecialoffersmagenta/5620406,allnewfirehd8tablet8hddisplaywifi16gbincludesspecialoffersmag...   \n",
       "3  841667104676,amazon/53004484,amazon/b01ahb9cn2,0841667104676,allnewfirehd8tablet8hddisplaywifi16gbincludesspecialoffersmagenta/5620406,allnewfirehd8tablet8hddisplaywifi16gbincludesspecialoffersmag...   \n",
       "4  841667104676,amazon/53004484,amazon/b01ahb9cn2,0841667104676,allnewfirehd8tablet8hddisplaywifi16gbincludesspecialoffersmagenta/5620406,allnewfirehd8tablet8hddisplaywifi16gbincludesspecialoffersmag...   \n",
       "\n",
       "  manufacturer              reviews.date     reviews.dateAdded  \\\n",
       "0       Amazon  2017-01-13T00:00:00.000Z  2017-07-03T23:33:15Z   \n",
       "1       Amazon  2017-01-13T00:00:00.000Z  2017-07-03T23:33:15Z   \n",
       "2       Amazon  2017-01-13T00:00:00.000Z  2017-07-03T23:33:15Z   \n",
       "3       Amazon  2017-01-13T00:00:00.000Z  2017-07-03T23:33:15Z   \n",
       "4       Amazon  2017-01-12T00:00:00.000Z  2017-07-03T23:33:15Z   \n",
       "\n",
       "                                    reviews.dateSeen  ... reviews.doRecommend  \\\n",
       "0  2017-06-07T09:04:00.000Z,2017-04-30T00:45:00.000Z  ...                True   \n",
       "1  2017-06-07T09:04:00.000Z,2017-04-30T00:45:00.000Z  ...                True   \n",
       "2  2017-06-07T09:04:00.000Z,2017-04-30T00:45:00.000Z  ...                True   \n",
       "3  2017-06-07T09:04:00.000Z,2017-04-30T00:45:00.000Z  ...                True   \n",
       "4  2017-06-07T09:04:00.000Z,2017-04-30T00:45:00.000Z  ...                True   \n",
       "\n",
       "  reviews.id  reviews.numHelpful  reviews.rating  \\\n",
       "0        NaN                 0.0             5.0   \n",
       "1        NaN                 0.0             5.0   \n",
       "2        NaN                 0.0             5.0   \n",
       "3        NaN                 0.0             4.0   \n",
       "4        NaN                 0.0             5.0   \n",
       "\n",
       "                                                                                                                                          reviews.sourceURLs  \\\n",
       "0  http://reviews.bestbuy.com/3545/5620406/reviews.htm?format=embedded&page=200,http://reviews.bestbuy.com/3545/5620406/reviews.htm?format=embedded&page=166   \n",
       "1  http://reviews.bestbuy.com/3545/5620406/reviews.htm?format=embedded&page=200,http://reviews.bestbuy.com/3545/5620406/reviews.htm?format=embedded&page=167   \n",
       "2  http://reviews.bestbuy.com/3545/5620406/reviews.htm?format=embedded&page=200,http://reviews.bestbuy.com/3545/5620406/reviews.htm?format=embedded&page=167   \n",
       "3  http://reviews.bestbuy.com/3545/5620406/reviews.htm?format=embedded&page=200,http://reviews.bestbuy.com/3545/5620406/reviews.htm?format=embedded&page=167   \n",
       "4  http://reviews.bestbuy.com/3545/5620406/reviews.htm?format=embedded&page=200,http://reviews.bestbuy.com/3545/5620406/reviews.htm?format=embedded&page=167   \n",
       "\n",
       "                                                                                                                                                                                              reviews.text  \\\n",
       "0                                                          This product so far has not disappointed. My children love to use it and I like the ability to monitor control what content they see with ease.   \n",
       "1                                                                                                                              great for beginner or experienced person. Bought as a gift and she loves it   \n",
       "2                                                                      Inexpensive tablet for him to use and learn on, step up from the NABI. He was thrilled with it, learn how to Skype on it already...   \n",
       "3  I've had my Fire HD 8 two weeks now and I love it. This tablet is a great value.We are Prime Members and that is where this tablet SHINES. I love being able to easily access all of the Prime conte...   \n",
       "4  I bought this for my grand daughter when she comes over to visit. I set it up with her as the user, entered her age and name and now Amazon makes sure that she only accesses sites and content that...   \n",
       "\n",
       "                             reviews.title reviews.userCity  \\\n",
       "0                                   Kindle              NaN   \n",
       "1                                very fast              NaN   \n",
       "2  Beginner tablet for our 9 year old son.              NaN   \n",
       "3                                  Good!!!              NaN   \n",
       "4                Fantastic Tablet for kids              NaN   \n",
       "\n",
       "   reviews.userProvince  reviews.username  \n",
       "0                   NaN           Adapter  \n",
       "1                   NaN            truman  \n",
       "2                   NaN             DaveZ  \n",
       "3                   NaN            Shacks  \n",
       "4                   NaN         explore42  \n",
       "\n",
       "[5 rows x 21 columns]"
      ]
     },
     "execution_count": 4,
     "metadata": {},
     "output_type": "execute_result"
    }
   ],
   "source": [
    "df.head()"
   ]
  },
  {
   "cell_type": "code",
   "execution_count": 5,
   "metadata": {},
   "outputs": [],
   "source": [
    "# Drop unnecessary columns\n",
    "df = df.drop(['id', 'name', 'asins', 'brand', 'categories', 'keys', 'manufacturer',\n",
    "       'reviews.date', 'reviews.dateAdded', 'reviews.dateSeen',\n",
    "       'reviews.didPurchase', 'reviews.doRecommend', 'reviews.id',\n",
    "       'reviews.numHelpful','reviews.sourceURLs','reviews.title', 'reviews.userCity',\n",
    "       'reviews.userProvince', 'reviews.username'],axis=1)"
   ]
  },
  {
   "cell_type": "code",
   "execution_count": 6,
   "metadata": {},
   "outputs": [
    {
     "data": {
      "text/plain": [
       "array([ 5.,  4.,  2.,  1.,  3., nan])"
      ]
     },
     "execution_count": 6,
     "metadata": {},
     "output_type": "execute_result"
    }
   ],
   "source": [
    "pd.set_option('display.max_columns', 10)\n",
    "df['reviews.rating'].unique()"
   ]
  },
  {
   "cell_type": "code",
   "execution_count": 7,
   "metadata": {},
   "outputs": [],
   "source": [
    "df['reviews.rating'] = df['reviews.rating'].fillna(0)\n"
   ]
  },
  {
   "cell_type": "code",
   "execution_count": 8,
   "metadata": {},
   "outputs": [],
   "source": [
    "df['reviews.text'] = df['reviews.text'].astype('str')"
   ]
  },
  {
   "cell_type": "code",
   "execution_count": 9,
   "metadata": {},
   "outputs": [],
   "source": [
    "df['reviews.rating'] = df['reviews.rating'].astype('int')"
   ]
  },
  {
   "cell_type": "code",
   "execution_count": 10,
   "metadata": {},
   "outputs": [
    {
     "name": "stdout",
     "output_type": "stream",
     "text": [
      "<class 'pandas.core.frame.DataFrame'>\n",
      "RangeIndex: 34660 entries, 0 to 34659\n",
      "Data columns (total 2 columns):\n",
      " #   Column          Non-Null Count  Dtype \n",
      "---  ------          --------------  ----- \n",
      " 0   reviews.rating  34660 non-null  int32 \n",
      " 1   reviews.text    34660 non-null  object\n",
      "dtypes: int32(1), object(1)\n",
      "memory usage: 406.3+ KB\n"
     ]
    }
   ],
   "source": [
    "df.info()"
   ]
  },
  {
   "cell_type": "markdown",
   "metadata": {},
   "source": [
    "#### Data Preprocessing"
   ]
  },
  {
   "cell_type": "code",
   "execution_count": 11,
   "metadata": {},
   "outputs": [],
   "source": [
    "# function to plot most frequent terms\n",
    "def freq_words(x, terms = 30):\n",
    "  all_words = ' '.join([text for text in x])\n",
    "  all_words = all_words.split()\n",
    "\n",
    "  fdist = FreqDist(all_words)\n",
    "  words_df = pd.DataFrame({'word':list(fdist.keys()), 'count':list(fdist.values())})\n",
    "\n",
    "  # selecting top 20 most frequent words\n",
    "  d = words_df.nlargest(columns=\"count\", n = terms) \n",
    "  plt.figure(figsize=(20,5))\n",
    "  ax = sns.barplot(data=d, x= \"word\", y = \"count\")\n",
    "  ax.set(ylabel = 'Count')\n",
    "  plt.show()"
   ]
  },
  {
   "cell_type": "code",
   "execution_count": 12,
   "metadata": {},
   "outputs": [
    {
     "data": {
      "image/png": "[encoded data removed]",
      "text/plain": [
       "<Figure size 1440x360 with 1 Axes>"
      ]
     },
     "metadata": {
      "needs_background": "light"
     },
     "output_type": "display_data"
    }
   ],
   "source": [
    "freq_words(df['reviews.text'])\n"
   ]
  },
  {
   "cell_type": "code",
   "execution_count": 13,
   "metadata": {},
   "outputs": [],
   "source": [
    "# remove unwanted characters, numbers and symbols\n",
    "df['reviews.text'] = df['reviews.text'].str.replace(\"[^a-zA-Z#]\", \" \")"
   ]
  },
  {
   "cell_type": "code",
   "execution_count": 14,
   "metadata": {},
   "outputs": [],
   "source": [
    "from nltk.corpus import stopwords\n",
    "stop_words = stopwords.words('english')"
   ]
  },
  {
   "cell_type": "code",
   "execution_count": 15,
   "metadata": {},
   "outputs": [],
   "source": [
    "# function to remove stopwords\n",
    "def remove_stopwords(rev):\n",
    "    rev_new = \" \".join([i for i in rev if i not in stop_words])\n",
    "    return rev_new\n",
    "\n",
    "# remove short words (length < 3)\n",
    "df['reviews.text'] = df['reviews.text'].apply(lambda x: ' '.join([w for w in x.split() if len(w)>2]))\n",
    "\n",
    "# remove stopwords from the text\n",
    "reviews = [remove_stopwords(r.split()) for r in df['reviews.text']]\n",
    "\n",
    "# make entire text lowercase\n",
    "reviews = [r.lower() for r in reviews]"
   ]
  },
  {
   "cell_type": "code",
   "execution_count": 16,
   "metadata": {},
   "outputs": [
    {
     "data": {
      "image/png": "[encoded data removed]",
      "text/plain": [
       "<Figure size 1440x360 with 1 Axes>"
      ]
     },
     "metadata": {
      "needs_background": "light"
     },
     "output_type": "display_data"
    }
   ],
   "source": [
    "freq_words(reviews, 35)"
   ]
  },
  {
   "cell_type": "code",
   "execution_count": 17,
   "metadata": {},
   "outputs": [],
   "source": [
    "nlp = spacy.load('en_core_web_sm', disable=['parser', 'ner'])\n",
    "\n",
    "def lemmatization(texts, tags=['NOUN', 'ADJ']): # filter noun and adjective\n",
    "       output = []\n",
    "       for sent in texts:\n",
    "             doc = nlp(\" \".join(sent)) \n",
    "             output.append([token.lemma_ for token in doc if token.pos_ in tags])\n",
    "       return output"
   ]
  },
  {
   "cell_type": "code",
   "execution_count": 18,
   "metadata": {},
   "outputs": [
    {
     "name": "stdout",
     "output_type": "stream",
     "text": [
      "['great', 'beginner', 'experienced', 'person', 'bought', 'gift', 'loves']\n"
     ]
    }
   ],
   "source": [
    "tokenized_reviews = pd.Series(reviews).apply(lambda x: x.split())\n",
    "print(tokenized_reviews[1])"
   ]
  },
  {
   "cell_type": "code",
   "execution_count": 19,
   "metadata": {},
   "outputs": [
    {
     "name": "stdout",
     "output_type": "stream",
     "text": [
      "['person', 'gift', 'love']\n"
     ]
    }
   ],
   "source": [
    "reviews_2 = lemmatization(tokenized_reviews)\n",
    "print(reviews_2[1]) # print lemmatized review"
   ]
  },
  {
   "cell_type": "code",
   "execution_count": 20,
   "metadata": {},
   "outputs": [
    {
     "data": {
      "image/png": "[encoded data removed]",
      "text/plain": [
       "<Figure size 1440x360 with 1 Axes>"
      ]
     },
     "metadata": {
      "needs_background": "light"
     },
     "output_type": "display_data"
    }
   ],
   "source": [
    "reviews_3 = []\n",
    "for i in range(len(reviews_2)):\n",
    "    reviews_3.append(' '.join(reviews_2[i]))\n",
    "\n",
    "df['reviews'] = reviews_3\n",
    "\n",
    "freq_words(df['reviews'], 35)"
   ]
  },
  {
   "cell_type": "markdown",
   "metadata": {},
   "source": [
    "#### Building an LDA model"
   ]
  },
  {
   "cell_type": "code",
   "execution_count": 21,
   "metadata": {},
   "outputs": [],
   "source": [
    "dictionary = corpora.Dictionary(reviews_2)\n"
   ]
  },
  {
   "cell_type": "code",
   "execution_count": 22,
   "metadata": {},
   "outputs": [],
   "source": [
    "doc_term_matrix = [dictionary.doc2bow(rev) for rev in reviews_2]\n"
   ]
  },
  {
   "cell_type": "code",
   "execution_count": 23,
   "metadata": {},
   "outputs": [],
   "source": [
    "# Creating the object for LDA model using gensim library\n",
    "LDA = gensim.models.ldamodel.LdaModel\n",
    "\n",
    "# Build LDA model\n",
    "lda_model = LDA(corpus=doc_term_matrix, id2word=dictionary, num_topics=7, random_state=100,\n",
    "                chunksize=1000, passes=50)"
   ]
  },
  {
   "cell_type": "code",
   "execution_count": 24,
   "metadata": {},
   "outputs": [
    {
     "data": {
      "text/plain": [
       "[(0,\n",
       "  '0.169*\"easy\" + 0.158*\"use\" + 0.047*\"great\" + 0.035*\"gift\" + 0.034*\"product\" + 0.026*\"friend\" + 0.024*\"home\" + 0.024*\"love\" + 0.023*\"command\" + 0.022*\"house\"'),\n",
       " (1,\n",
       "  '0.042*\"fire\" + 0.036*\"device\" + 0.035*\"app\" + 0.034*\"cable\" + 0.024*\"good\" + 0.019*\"well\" + 0.016*\"speaker\" + 0.011*\"service\" + 0.011*\"apple\" + 0.011*\"fast\"'),\n",
       " (2,\n",
       "  '0.096*\"fire\" + 0.050*\"new\" + 0.049*\"love\" + 0.046*\"old\" + 0.042*\"year\" + 0.041*\"smart\" + 0.028*\"kindle\" + 0.017*\"second\" + 0.016*\"wife\" + 0.014*\"happy\"'),\n",
       " (3,\n",
       "  '0.128*\"great\" + 0.087*\"good\" + 0.076*\"product\" + 0.041*\"price\" + 0.037*\"box\" + 0.031*\"quality\" + 0.029*\"streaming\" + 0.028*\"tablet\" + 0.027*\"sound\" + 0.026*\"remote\"'),\n",
       " (4,\n",
       "  '0.090*\"music\" + 0.053*\"movie\" + 0.042*\"stick\" + 0.033*\"great\" + 0.031*\"game\" + 0.026*\"play\" + 0.025*\"prime\" + 0.025*\"weather\" + 0.024*\"amazing\" + 0.021*\"love\"'),\n",
       " (5,\n",
       "  '0.058*\"echo\" + 0.047*\"voice\" + 0.038*\"alexa\" + 0.035*\"thing\" + 0.033*\"question\" + 0.032*\"family\" + 0.030*\"fun\" + 0.027*\"control\" + 0.026*\"device\" + 0.022*\"love\"'),\n",
       " (6,\n",
       "  '0.054*\"light\" + 0.041*\"book\" + 0.030*\"screen\" + 0.029*\"great\" + 0.025*\"small\" + 0.025*\"battery\" + 0.021*\"size\" + 0.019*\"reader\" + 0.019*\"life\" + 0.019*\"love\"')]"
      ]
     },
     "execution_count": 24,
     "metadata": {},
     "output_type": "execute_result"
    }
   ],
   "source": [
    "lda_model.print_topics()\n"
   ]
  },
  {
   "cell_type": "code",
   "execution_count": 25,
   "metadata": {},
   "outputs": [
    {
     "data": {
      "text/plain": [
       "[(0,\n",
       "  '0.169*\"easy\" + 0.158*\"use\" + 0.047*\"great\" + 0.035*\"gift\" + 0.034*\"product\" + 0.026*\"friend\" + 0.024*\"home\" + 0.024*\"love\" + 0.023*\"command\" + 0.022*\"house\"'),\n",
       " (1,\n",
       "  '0.042*\"fire\" + 0.036*\"device\" + 0.035*\"app\" + 0.034*\"cable\" + 0.024*\"good\" + 0.019*\"well\" + 0.016*\"speaker\" + 0.011*\"service\" + 0.011*\"apple\" + 0.011*\"fast\"'),\n",
       " (2,\n",
       "  '0.096*\"fire\" + 0.050*\"new\" + 0.049*\"love\" + 0.046*\"old\" + 0.042*\"year\" + 0.041*\"smart\" + 0.028*\"kindle\" + 0.017*\"second\" + 0.016*\"wife\" + 0.014*\"happy\"'),\n",
       " (3,\n",
       "  '0.128*\"great\" + 0.087*\"good\" + 0.076*\"product\" + 0.041*\"price\" + 0.037*\"box\" + 0.031*\"quality\" + 0.029*\"streaming\" + 0.028*\"tablet\" + 0.027*\"sound\" + 0.026*\"remote\"'),\n",
       " (4,\n",
       "  '0.090*\"music\" + 0.053*\"movie\" + 0.042*\"stick\" + 0.033*\"great\" + 0.031*\"game\" + 0.026*\"play\" + 0.025*\"prime\" + 0.025*\"weather\" + 0.024*\"amazing\" + 0.021*\"love\"'),\n",
       " (5,\n",
       "  '0.058*\"echo\" + 0.047*\"voice\" + 0.038*\"alexa\" + 0.035*\"thing\" + 0.033*\"question\" + 0.032*\"family\" + 0.030*\"fun\" + 0.027*\"control\" + 0.026*\"device\" + 0.022*\"love\"'),\n",
       " (6,\n",
       "  '0.054*\"light\" + 0.041*\"book\" + 0.030*\"screen\" + 0.029*\"great\" + 0.025*\"small\" + 0.025*\"battery\" + 0.021*\"size\" + 0.019*\"reader\" + 0.019*\"life\" + 0.019*\"love\"')]"
      ]
     },
     "execution_count": 25,
     "metadata": {},
     "output_type": "execute_result"
    }
   ],
   "source": [
    "# Print the Keyword in the 10 topics\n",
    "lda_model.print_topics()"
   ]
  },
  {
   "cell_type": "markdown",
   "metadata": {},
   "source": [
    "#### Topics Visualization"
   ]
  },
  {
   "cell_type": "code",
   "execution_count": 26,
   "metadata": {},
   "outputs": [
    {
     "data": {
      "text/html": [
       "\n",
       "<link rel=\"stylesheet\" type=\"text/css\" href=\"https://cdn.rawgit.com/bmabey/pyLDAvis/files/ldavis.v1.0.0.css\">\n",
       "\n",
       "\n",
       "<div id=\"ldavis_el63684102190088199058936\"></div>\n",
       "<script type=\"text/javascript\">\n",
       "\n",
       "var ldavis_el63684102190088199058936_data = {\"mdsDat\": {\"x\": [0.09081367414906931, -0.25519571751705816, 0.012283714773820276, 0.06638715529370476, 0.08277712375791746, 0.26586444710037244, -0.262930397557826], \"y\": [-0.22362634383184918, -0.07309047905449279, -0.04737695400270015, 0.14229347049210345, -0.20084911520221413, 0.21801639079645838, 0.18463303080269386], \"topics\": [1, 2, 3, 4, 5, 6, 7], \"cluster\": [1, 1, 1, 1, 1, 1, 1], \"Freq\": [21.090784072875977, 18.853872299194336, 15.172028541564941, 12.60195541381836, 11.72762680053711, 10.333303451538086, 10.220427513122559]}, \"tinfo\": {\"Term\": [\"easy\", \"use\", \"fire\", \"great\", \"good\", \"music\", \"product\", \"light\", \"movie\", \"echo\", \"price\", \"new\", \"box\", \"old\", \"cable\", \"stick\", \"voice\", \"book\", \"year\", \"app\", \"smart\", \"quality\", \"love\", \"streaming\", \"alexa\", \"device\", \"sound\", \"thing\", \"kindle\", \"gift\", \"cable\", \"speaker\", \"service\", \"apple\", \"unit\", \"system\", \"interface\", \"connection\", \"channel\", \"store\", \"firetv\", \"extra\", \"playstation\", \"tap\", \"android\", \"cheap\", \"roku\", \"buffering\", \"page\", \"load\", \"song\", \"deal\", \"star\", \"people\", \"expensive\", \"reason\", \"responsive\", \"hard\", \"slow\", \"market\", \"search\", \"app\", \"well\", \"device\", \"available\", \"fire\", \"issue\", \"worth\", \"option\", \"problem\", \"month\", \"little\", \"good\", \"fast\", \"work\", \"money\", \"home\", \"content\", \"thing\", \"way\", \"many\", \"internet\", \"time\", \"price\", \"box\", \"quality\", \"streaming\", \"sound\", \"remote\", \"item\", \"setup\", \"user\", \"cord\", \"friendly\", \"recommend\", \"order\", \"paperwhite\", \"job\", \"value\", \"response\", \"minute\", \"integration\", \"tool\", \"kitchen\", \"hulu\", \"affordable\", \"opinion\", \"short\", \"instruction\", \"impressed\", \"adult\", \"slot\", \"benefit\", \"product\", \"picture\", \"excellent\", \"good\", \"buy\", \"great\", \"kid\", \"tablet\", \"technology\", \"nice\", \"fast\", \"money\", \"little\", \"purchase\", \"work\", \"worth\", \"lot\", \"light\", \"small\", \"battery\", \"size\", \"reader\", \"life\", \"reading\", \"daughter\", \"show\", \"bluetooth\", \"bill\", \"cover\", \"night\", \"eye\", \"clear\", \"large\", \"side\", \"plug\", \"volume\", \"voyage\", \"weight\", \"bed\", \"read\", \"travel\", \"word\", \"color\", \"capable\", \"info\", \"bright\", \"backlight\", \"book\", \"screen\", \"case\", \"long\", \"perfect\", \"kindle\", \"nice\", \"great\", \"love\", \"hand\", \"big\", \"time\", \"tablet\", \"device\", \"music\", \"movie\", \"stick\", \"game\", \"play\", \"prime\", \"weather\", \"amazing\", \"stream\", \"access\", \"watch\", \"news\", \"favorite\", \"download\", \"program\", \"timer\", \"account\", \"player\", \"bedroom\", \"radio\", \"sport\", \"handy\", \"station\", \"membership\", \"amount\", \"age\", \"traffic\", \"parent\", \"figure\", \"improvement\", \"able\", \"free\", \"video\", \"capability\", \"content\", \"app\", \"great\", \"love\", \"lot\", \"time\", \"kid\", \"thing\", \"device\", \"many\", \"new\", \"old\", \"year\", \"smart\", \"second\", \"charger\", \"firestick\", \"navigate\", \"charge\", \"last\", \"upgrade\", \"port\", \"thought\", \"tech\", \"electronic\", \"network\", \"present\", \"generation\", \"paper\", \"change\", \"piece\", \"third\", \"switch\", \"granddaughter\", \"grandson\", \"mine\", \"today\", \"monthly\", \"course\", \"fee\", \"one\", \"fire\", \"wife\", \"kindle\", \"first\", \"son\", \"love\", \"version\", \"happy\", \"model\", \"day\", \"well\", \"time\", \"work\", \"tablet\", \"fast\", \"much\", \"echo\", \"voice\", \"alexa\", \"question\", \"family\", \"fun\", \"control\", \"list\", \"dot\", \"answer\", \"shopping\", \"useful\", \"portable\", \"information\", \"update\", \"original\", \"whole\", \"automation\", \"helpful\", \"convenient\", \"fantastic\", \"joke\", \"recognition\", \"support\", \"alternative\", \"ready\", \"assistant\", \"open\", \"talk\", \"functionality\", \"room\", \"thing\", \"much\", \"member\", \"many\", \"device\", \"phone\", \"time\", \"love\", \"feature\", \"easy\", \"use\", \"gift\", \"friend\", \"command\", \"house\", \"skill\", \"turn\", \"ease\", \"everyday\", \"pleased\", \"wireless\", \"satellite\", \"daily\", \"living\", \"satisfied\", \"lighting\", \"mother\", \"cut\", \"investment\", \"household\", \"report\", \"trouble\", \"hold\", \"law\", \"font\", \"incredible\", \"sunlight\", \"definition\", \"beach\", \"addition\", \"set\", \"home\", \"simple\", \"awesome\", \"happy\", \"cool\", \"product\", \"great\", \"purchase\", \"love\", \"room\", \"work\"], \"Freq\": [4993.0, 4664.0, 5822.0, 10828.0, 6189.0, 3297.0, 5171.0, 2371.0, 1945.0, 1731.0, 2232.0, 1709.0, 2033.0, 1549.0, 2107.0, 1545.0, 1403.0, 2066.0, 1434.0, 2759.0, 1375.0, 1682.0, 4641.0, 1609.0, 1143.0, 3727.0, 1474.0, 1959.0, 1750.0, 1034.0, 2106.15576171875, 949.0850219726562, 689.0257568359375, 685.6100463867188, 598.7863159179688, 466.13555908203125, 432.9336242675781, 426.2144775390625, 397.6697692871094, 374.1636657714844, 363.2445068359375, 346.3084716796875, 344.03094482421875, 344.79766845703125, 319.5186462402344, 307.0073547363281, 294.23211669921875, 272.4512939453125, 260.0756530761719, 254.2117156982422, 254.4401397705078, 250.781494140625, 247.8558807373047, 235.38902282714844, 219.79225158691406, 215.81861877441406, 211.44654846191406, 203.24703979492188, 198.3060302734375, 197.74212646484375, 391.0362854003906, 2137.014404296875, 1138.7188720703125, 2211.77978515625, 479.50408935546875, 2571.046142578125, 560.0010375976562, 584.8553466796875, 498.92755126953125, 461.9263000488281, 386.79180908203125, 613.1815795898438, 1460.3427734375, 652.2833251953125, 637.5313110351562, 474.48699951171875, 506.673095703125, 434.4720764160156, 550.833740234375, 450.53515625, 463.9320983886719, 409.4912109375, 478.81036376953125, 2231.9794921875, 2032.8927001953125, 1681.8302001953125, 1608.4573974609375, 1473.5274658203125, 1404.8519287109375, 1259.35302734375, 930.996826171875, 625.3622436523438, 571.5159912109375, 475.3237609863281, 429.2411193847656, 319.9119873046875, 317.4307556152344, 281.59271240234375, 276.1010437011719, 271.8459777832031, 197.77743530273438, 171.6986083984375, 163.37448120117188, 153.45101928710938, 153.1475372314453, 131.52420043945312, 111.09894561767578, 110.99032592773438, 109.41857147216797, 108.19915008544922, 107.07525634765625, 105.38585662841797, 94.50871276855469, 4167.79345703125, 675.3224487304688, 813.12255859375, 4728.51171875, 547.3646240234375, 6975.75048828125, 984.9486694335938, 1524.197021484375, 265.4990234375, 585.140380859375, 519.0624389648438, 394.8222351074219, 400.6063537597656, 375.5210266113281, 370.9095153808594, 318.4853210449219, 303.5425109863281, 2370.724853515625, 1101.0556640625, 1094.39599609375, 913.0802612304688, 854.7461547851562, 845.73291015625, 793.2532348632812, 773.59765625, 713.0430297851562, 608.5396118164062, 516.3702392578125, 503.13421630859375, 473.6142578125, 450.1079406738281, 424.90203857421875, 345.26629638671875, 343.5616760253906, 344.166748046875, 316.0087890625, 262.3957214355469, 258.5972900390625, 254.87075805664062, 238.6728057861328, 236.2166290283203, 220.95033264160156, 216.2721710205078, 213.11148071289062, 204.17193603515625, 195.04473876953125, 192.868408203125, 1806.633056640625, 1299.8494873046875, 445.44915771484375, 584.2176513671875, 755.02783203125, 810.3975830078125, 569.8209838867188, 1262.572265625, 843.4611206054688, 328.2804870605469, 335.401611328125, 430.5530700683594, 396.4552307128906, 379.5039978027344, 3296.359619140625, 1944.642333984375, 1544.3515625, 1121.943115234375, 932.4422607421875, 919.5884399414062, 903.7986450195312, 870.9911499023438, 612.2313842773438, 595.3317260742188, 578.6648559570312, 564.946533203125, 450.5108947753906, 395.55645751953125, 336.0369567871094, 299.5818176269531, 288.29296875, 278.4674377441406, 276.09375, 214.54937744140625, 211.58790588378906, 191.73924255371094, 174.52883911132812, 151.68716430664062, 146.0491485595703, 145.46617126464844, 138.11578369140625, 128.7383270263672, 126.86685180664062, 124.49777221679688, 759.9945678710938, 499.66082763671875, 406.7647399902344, 224.41290283203125, 366.7423095703125, 621.9808349609375, 1202.944580078125, 774.0966186523438, 398.2782287597656, 457.478759765625, 369.7359313964844, 362.36407470703125, 365.7166748046875, 279.694580078125, 1708.3309326171875, 1548.64990234375, 1433.76904296875, 1375.0819091796875, 572.1124267578125, 423.7879943847656, 390.0733947753906, 344.5907287597656, 318.9203186035156, 302.4117126464844, 294.272705078125, 259.3340759277344, 222.69483947753906, 216.8926239013672, 216.310546875, 206.7222442626953, 197.2524871826172, 190.770263671875, 183.03050231933594, 182.5074462890625, 178.2678680419922, 169.00404357910156, 157.41452026367188, 133.7769317626953, 129.6280059814453, 119.19766998291016, 115.45681762695312, 109.08292388916016, 107.55255126953125, 103.4061279296875, 470.7614440917969, 3250.40478515625, 535.766845703125, 939.4208374023438, 422.7712097167969, 325.1734924316406, 1657.4737548828125, 287.88873291015625, 490.4430847167969, 242.91798400878906, 322.5563659667969, 360.1906433105469, 397.519775390625, 298.49652099609375, 319.4602355957031, 287.109375, 267.8128662109375, 1731.0985107421875, 1403.08935546875, 1142.1971435546875, 999.201416015625, 958.6198120117188, 900.7666625976562, 807.6672973632812, 610.9887084960938, 537.2688598632812, 430.181884765625, 364.543212890625, 349.5668029785156, 327.96600341796875, 293.2859191894531, 254.56005859375, 254.68031311035156, 245.83938598632812, 242.1941375732422, 239.35726928710938, 234.89492797851562, 214.12307739257812, 212.89381408691406, 182.97586059570312, 173.98387145996094, 151.76217651367188, 151.11038208007812, 150.8488006591797, 140.09718322753906, 131.55882263183594, 126.46573638916016, 590.8701171875, 1045.9176025390625, 472.8785705566406, 304.996826171875, 429.695068359375, 770.0911865234375, 316.94256591796875, 517.3128662109375, 670.184326171875, 349.4440612792969, 4992.96044921875, 4664.0166015625, 1033.4949951171875, 773.8552856445312, 682.7019653320312, 659.7269897460938, 355.5241394042969, 276.667724609375, 258.82257080078125, 250.54257202148438, 245.01406860351562, 245.0023193359375, 202.30462646484375, 197.22756958007812, 185.22787475585938, 181.6490936279297, 173.21092224121094, 165.81448364257812, 140.95571899414062, 111.61072540283203, 99.4672622680664, 98.64251708984375, 95.92591094970703, 89.93020629882812, 88.01500701904297, 84.76890563964844, 80.46651458740234, 78.80412292480469, 71.5779037475586, 70.04631042480469, 399.93560791015625, 416.8707580566406, 717.9874877929688, 435.9800720214844, 517.16357421875, 589.6348266601562, 220.06161499023438, 1003.172119140625, 1386.537841796875, 377.17486572265625, 695.6604614257812, 260.1265869140625, 226.8428497314453], \"Total\": [4993.0, 4664.0, 5822.0, 10828.0, 6189.0, 3297.0, 5171.0, 2371.0, 1945.0, 1731.0, 2232.0, 1709.0, 2033.0, 1549.0, 2107.0, 1545.0, 1403.0, 2066.0, 1434.0, 2759.0, 1375.0, 1682.0, 4641.0, 1609.0, 1143.0, 3727.0, 1474.0, 1959.0, 1750.0, 1034.0, 2107.063232421875, 949.9924926757812, 689.9318237304688, 686.5157470703125, 599.6924438476562, 467.0417785644531, 433.8405456542969, 427.1208190917969, 398.5773010253906, 375.0683288574219, 364.1509094238281, 347.2135009765625, 344.93841552734375, 345.7071533203125, 320.4233093261719, 307.91168212890625, 295.1389465332031, 273.3579406738281, 260.981201171875, 255.11721801757812, 255.35279846191406, 251.68626403808594, 248.7613525390625, 236.29507446289062, 220.69705200195312, 216.7239990234375, 212.35250854492188, 204.1527557373047, 199.21022033691406, 198.64723205566406, 409.65399169921875, 2759.772705078125, 1499.6514892578125, 3727.546875, 588.0462036132812, 5822.193359375, 782.7349243164062, 904.09521484375, 753.1912841796875, 715.8943481445312, 531.8309326171875, 1211.797607421875, 6189.60888671875, 1459.0457763671875, 1655.4461669921875, 870.0631713867188, 1225.428466796875, 801.9931030273438, 1959.7747802734375, 944.2684326171875, 1173.981201171875, 723.7607421875, 2429.045166015625, 2232.846435546875, 2033.764892578125, 1682.6978759765625, 1609.3292236328125, 1474.3963623046875, 1405.724609375, 1260.2218017578125, 931.866943359375, 626.229736328125, 572.387939453125, 476.19061279296875, 430.10943603515625, 320.7823791503906, 318.30450439453125, 282.4607849121094, 276.9672546386719, 272.7156677246094, 198.64785766601562, 172.5706024169922, 164.24192810058594, 154.32571411132812, 154.02134704589844, 132.3904266357422, 111.96839904785156, 111.85986328125, 110.28746795654297, 109.06735229492188, 107.9418716430664, 106.25431060791016, 95.37956237792969, 5171.6943359375, 756.9269409179688, 926.3317260742188, 6189.60888671875, 622.1113891601562, 10828.201171875, 1355.423095703125, 2443.444091796875, 331.0547790527344, 1358.1883544921875, 1459.0457763671875, 870.0631713867188, 1211.797607421875, 1211.091064453125, 1655.4461669921875, 904.09521484375, 1564.271484375, 2371.5390625, 1101.869873046875, 1095.2098388671875, 913.8936157226562, 855.55908203125, 846.5467529296875, 794.0659790039062, 774.4111328125, 713.86279296875, 609.360595703125, 517.189697265625, 503.9483947753906, 474.42791748046875, 450.92108154296875, 425.71673583984375, 346.0809326171875, 344.37786865234375, 344.985595703125, 316.8279724121094, 263.20953369140625, 259.4105224609375, 255.68418884277344, 239.48675537109375, 237.03016662597656, 221.76516723632812, 217.08514404296875, 213.93035888671875, 204.9900360107422, 195.85751342773438, 193.68138122558594, 2066.83349609375, 1479.866943359375, 496.6253662109375, 706.50537109375, 1081.348388671875, 1750.4677734375, 1358.1883544921875, 10828.201171875, 4641.1416015625, 507.9103698730469, 595.3353881835938, 2429.045166015625, 2443.444091796875, 3727.546875, 3297.25048828125, 1945.5340576171875, 1545.250732421875, 1122.832763671875, 933.33203125, 920.4795532226562, 904.6892700195312, 871.8821411132812, 613.1235961914062, 596.2224731445312, 579.5557250976562, 565.8364868164062, 451.40118408203125, 396.4461975097656, 336.9284973144531, 300.4721374511719, 289.1839904785156, 279.3608703613281, 276.9869079589844, 215.4393768310547, 212.4781494140625, 192.62969970703125, 175.41909790039062, 152.5772247314453, 146.94183349609375, 146.35545349121094, 139.00619506835938, 129.62786865234375, 127.7576904296875, 125.38977813720703, 1250.2979736328125, 799.2036743164062, 713.80322265625, 324.6670837402344, 801.9931030273438, 2759.772705078125, 10828.201171875, 4641.1416015625, 1564.271484375, 2429.045166015625, 1355.423095703125, 1959.7747802734375, 3727.546875, 1173.981201171875, 1709.185791015625, 1549.5032958984375, 1434.6226806640625, 1375.940185546875, 572.9671020507812, 424.642333984375, 390.9333190917969, 345.44610595703125, 319.7744140625, 303.266357421875, 295.1278991699219, 260.18927001953125, 223.5497283935547, 217.74740600585938, 217.16580200195312, 207.58160400390625, 198.10638427734375, 191.62445068359375, 183.88595581054688, 183.3638153076172, 179.1241455078125, 169.85911560058594, 158.27224731445312, 134.6300811767578, 130.48109436035156, 120.05203247070312, 116.31324768066406, 109.94007110595703, 108.40937805175781, 104.26506805419922, 585.72216796875, 5822.193359375, 786.7769165039062, 1750.4677734375, 651.6161499023438, 462.67535400390625, 4641.1416015625, 422.57135009765625, 1080.793701171875, 364.8043518066406, 1035.3319091796875, 1499.6514892578125, 2429.045166015625, 1655.4461669921875, 2443.444091796875, 1459.0457763671875, 1089.69580078125, 1731.998779296875, 1403.9910888671875, 1143.09765625, 1000.1014404296875, 959.5202026367188, 901.66650390625, 808.5679321289062, 611.888916015625, 538.1688232421875, 431.0818786621094, 365.4429931640625, 350.4670104980469, 328.8685607910156, 294.1861572265625, 255.46168518066406, 255.58334350585938, 246.7401885986328, 243.09458923339844, 240.2572479248047, 235.79537963867188, 215.02392578125, 213.79425048828125, 183.87586975097656, 174.88914489746094, 152.6671905517578, 152.01185607910156, 151.7493896484375, 141.00180053710938, 132.45948791503906, 127.36680603027344, 851.7593994140625, 1959.7747802734375, 1089.69580078125, 567.9389038085938, 1173.981201171875, 3727.546875, 690.689453125, 2429.045166015625, 4641.1416015625, 1039.9483642578125, 4993.83935546875, 4664.89599609375, 1034.3731689453125, 774.7350463867188, 683.5843505859375, 660.6083374023438, 356.4065856933594, 277.5484924316406, 259.7015686035156, 251.42153930664062, 245.89389038085938, 245.88397216796875, 203.19578552246094, 198.1068878173828, 186.11041259765625, 182.52845764160156, 174.0907440185547, 166.6927490234375, 141.84225463867188, 112.49108123779297, 100.34762573242188, 99.52653503417969, 96.80741882324219, 90.81163787841797, 88.8929443359375, 85.64884185791016, 81.34705352783203, 79.684326171875, 72.46195983886719, 70.92536926269531, 446.427734375, 542.6898193359375, 1225.428466796875, 712.721923828125, 891.213623046875, 1080.793701171875, 363.83917236328125, 5171.6943359375, 10828.201171875, 1211.091064453125, 4641.1416015625, 851.7593994140625, 1655.4461669921875], \"Category\": [\"Default\", \"Default\", \"Default\", \"Default\", \"Default\", \"Default\", \"Default\", \"Default\", \"Default\", \"Default\", \"Default\", \"Default\", \"Default\", \"Default\", \"Default\", \"Default\", \"Default\", \"Default\", \"Default\", \"Default\", \"Default\", \"Default\", \"Default\", \"Default\", \"Default\", \"Default\", \"Default\", \"Default\", \"Default\", \"Default\", \"Topic1\", \"Topic1\", \"Topic1\", \"Topic1\", \"Topic1\", \"Topic1\", \"Topic1\", \"Topic1\", \"Topic1\", \"Topic1\", \"Topic1\", \"Topic1\", \"Topic1\", \"Topic1\", \"Topic1\", \"Topic1\", \"Topic1\", \"Topic1\", \"Topic1\", \"Topic1\", \"Topic1\", \"Topic1\", \"Topic1\", \"Topic1\", \"Topic1\", \"Topic1\", \"Topic1\", \"Topic1\", \"Topic1\", \"Topic1\", \"Topic1\", \"Topic1\", \"Topic1\", \"Topic1\", \"Topic1\", \"Topic1\", \"Topic1\", \"Topic1\", \"Topic1\", \"Topic1\", \"Topic1\", \"Topic1\", \"Topic1\", \"Topic1\", \"Topic1\", \"Topic1\", \"Topic1\", \"Topic1\", \"Topic1\", \"Topic1\", \"Topic1\", \"Topic1\", \"Topic1\", \"Topic2\", \"Topic2\", \"Topic2\", \"Topic2\", \"Topic2\", \"Topic2\", \"Topic2\", \"Topic2\", \"Topic2\", \"Topic2\", \"Topic2\", \"Topic2\", \"Topic2\", \"Topic2\", \"Topic2\", \"Topic2\", \"Topic2\", \"Topic2\", \"Topic2\", \"Topic2\", \"Topic2\", \"Topic2\", \"Topic2\", \"Topic2\", \"Topic2\", \"Topic2\", \"Topic2\", \"Topic2\", \"Topic2\", \"Topic2\", \"Topic2\", \"Topic2\", \"Topic2\", \"Topic2\", \"Topic2\", \"Topic2\", \"Topic2\", \"Topic2\", \"Topic2\", \"Topic2\", \"Topic2\", \"Topic2\", \"Topic2\", \"Topic2\", \"Topic2\", \"Topic2\", \"Topic2\", \"Topic3\", \"Topic3\", \"Topic3\", \"Topic3\", \"Topic3\", \"Topic3\", \"Topic3\", \"Topic3\", \"Topic3\", \"Topic3\", \"Topic3\", \"Topic3\", \"Topic3\", \"Topic3\", \"Topic3\", \"Topic3\", \"Topic3\", \"Topic3\", \"Topic3\", \"Topic3\", \"Topic3\", \"Topic3\", \"Topic3\", \"Topic3\", \"Topic3\", \"Topic3\", \"Topic3\", \"Topic3\", \"Topic3\", \"Topic3\", \"Topic3\", \"Topic3\", \"Topic3\", \"Topic3\", \"Topic3\", \"Topic3\", \"Topic3\", \"Topic3\", \"Topic3\", \"Topic3\", \"Topic3\", \"Topic3\", \"Topic3\", \"Topic3\", \"Topic4\", \"Topic4\", \"Topic4\", \"Topic4\", \"Topic4\", \"Topic4\", \"Topic4\", \"Topic4\", \"Topic4\", \"Topic4\", \"Topic4\", \"Topic4\", \"Topic4\", \"Topic4\", \"Topic4\", \"Topic4\", \"Topic4\", \"Topic4\", \"Topic4\", \"Topic4\", \"Topic4\", \"Topic4\", \"Topic4\", \"Topic4\", \"Topic4\", \"Topic4\", \"Topic4\", \"Topic4\", \"Topic4\", \"Topic4\", \"Topic4\", \"Topic4\", \"Topic4\", \"Topic4\", \"Topic4\", \"Topic4\", \"Topic4\", \"Topic4\", \"Topic4\", \"Topic4\", \"Topic4\", \"Topic4\", \"Topic4\", \"Topic4\", \"Topic5\", \"Topic5\", \"Topic5\", \"Topic5\", \"Topic5\", \"Topic5\", \"Topic5\", \"Topic5\", \"Topic5\", \"Topic5\", \"Topic5\", \"Topic5\", \"Topic5\", \"Topic5\", \"Topic5\", \"Topic5\", \"Topic5\", \"Topic5\", \"Topic5\", \"Topic5\", \"Topic5\", \"Topic5\", \"Topic5\", \"Topic5\", \"Topic5\", \"Topic5\", \"Topic5\", \"Topic5\", \"Topic5\", \"Topic5\", \"Topic5\", \"Topic5\", \"Topic5\", \"Topic5\", \"Topic5\", \"Topic5\", \"Topic5\", \"Topic5\", \"Topic5\", \"Topic5\", \"Topic5\", \"Topic5\", \"Topic5\", \"Topic5\", \"Topic5\", \"Topic5\", \"Topic5\", \"Topic6\", \"Topic6\", \"Topic6\", \"Topic6\", \"Topic6\", \"Topic6\", \"Topic6\", \"Topic6\", \"Topic6\", \"Topic6\", \"Topic6\", \"Topic6\", \"Topic6\", \"Topic6\", \"Topic6\", \"Topic6\", \"Topic6\", \"Topic6\", \"Topic6\", \"Topic6\", \"Topic6\", \"Topic6\", \"Topic6\", \"Topic6\", \"Topic6\", \"Topic6\", \"Topic6\", \"Topic6\", \"Topic6\", \"Topic6\", \"Topic6\", \"Topic6\", \"Topic6\", \"Topic6\", \"Topic6\", \"Topic6\", \"Topic6\", \"Topic6\", \"Topic6\", \"Topic6\", \"Topic7\", \"Topic7\", \"Topic7\", \"Topic7\", \"Topic7\", \"Topic7\", \"Topic7\", \"Topic7\", \"Topic7\", \"Topic7\", \"Topic7\", \"Topic7\", \"Topic7\", \"Topic7\", \"Topic7\", \"Topic7\", \"Topic7\", \"Topic7\", \"Topic7\", \"Topic7\", \"Topic7\", \"Topic7\", \"Topic7\", \"Topic7\", \"Topic7\", \"Topic7\", \"Topic7\", \"Topic7\", \"Topic7\", \"Topic7\", \"Topic7\", \"Topic7\", \"Topic7\", \"Topic7\", \"Topic7\", \"Topic7\", \"Topic7\", \"Topic7\", \"Topic7\", \"Topic7\", \"Topic7\", \"Topic7\", \"Topic7\"], \"logprob\": [30.0, 29.0, 28.0, 27.0, 26.0, 25.0, 24.0, 23.0, 22.0, 21.0, 20.0, 19.0, 18.0, 17.0, 16.0, 15.0, 14.0, 13.0, 12.0, 11.0, 10.0, 9.0, 8.0, 7.0, 6.0, 5.0, 4.0, 3.0, 2.0, 1.0, -3.36680006980896, -4.164000034332275, -4.4842000007629395, -4.489200115203857, -4.624599933624268, -4.875, -4.94890022277832, -4.9644999504089355, -5.03380012512207, -5.094799995422363, -5.1244001388549805, -5.172100067138672, -5.178699970245361, -5.176499843597412, -5.252699851989746, -5.292600154876709, -5.335100173950195, -5.4120001792907715, -5.458499908447266, -5.481299877166748, -5.480400085449219, -5.494900226593018, -5.5065999031066895, -5.558199882507324, -5.626800060272217, -5.644999980926514, -5.665500164031982, -5.704999923706055, -5.729700088500977, -5.732500076293945, -5.0507001876831055, -3.352299928665161, -3.981800079345703, -3.3178999423980713, -4.846700191497803, -3.1673998832702637, -4.691500186920166, -4.648099899291992, -4.807000160217285, -4.884099960327148, -5.061600208282471, -4.600800037384033, -3.7330000400543213, -4.539000034332275, -4.5619001388549805, -4.8572001457214355, -4.791600227355957, -4.945300102233887, -4.708000183105469, -4.908999919891357, -4.879700183868408, -5.0046000480651855, -4.848199844360352, -3.196700096130371, -3.29010009765625, -3.4797000885009766, -3.5243000984191895, -3.6119000911712646, -3.6596999168395996, -3.7690000534057617, -4.071100234985352, -4.468999862670898, -4.559100151062012, -4.7434000968933105, -4.845300197601318, -5.1392998695373535, -5.14709997177124, -5.266900062561035, -5.286600112915039, -5.30210018157959, -5.620200157165527, -5.761600017547607, -5.811299800872803, -5.874000072479248, -5.875899791717529, -6.028200149536133, -6.196899890899658, -6.19789981842041, -6.212200164794922, -6.223400115966797, -6.233799934387207, -6.24970006942749, -6.358699798583984, -2.572200059890747, -4.392199993133545, -4.206500053405762, -2.446000099182129, -4.602200031280518, -2.0571999549865723, -4.014800071716309, -3.5780999660491943, -5.325699806213379, -4.5355000495910645, -4.655300140380859, -4.928899765014648, -4.914400100708008, -4.979000091552734, -4.991399765014648, -5.143799781799316, -5.191800117492676, -2.919100046157837, -3.6861000061035156, -3.6921000480651855, -3.873300075531006, -3.939300060272217, -3.949899911880493, -4.013899803161621, -4.039000034332275, -4.120500087738037, -4.2789998054504395, -4.443299770355225, -4.469200134277344, -4.529699802398682, -4.580599784851074, -4.638199806213379, -4.845799922943115, -4.8506999015808105, -4.848999977111816, -4.934299945831299, -5.120200157165527, -5.134799957275391, -5.1493000984191895, -5.215000152587891, -5.225299835205078, -5.292099952697754, -5.313499927520752, -5.3282999992370605, -5.371099948883057, -5.416900157928467, -5.428100109100342, -3.1909000873565674, -3.5201001167297363, -4.591000080108643, -4.319799900054932, -4.063300132751465, -3.9925999641418457, -4.344799995422363, -3.5492000579833984, -3.9526000022888184, -4.896200180053711, -4.874800205230713, -4.625, -4.707499980926514, -4.751200199127197, -2.403899908065796, -2.9316999912261963, -3.162100076675415, -3.4816999435424805, -3.6666998863220215, -3.6805999279022217, -3.6979000568389893, -3.7348999977111816, -4.087399959564209, -4.1153998374938965, -4.143799781799316, -4.167799949645996, -4.394100189208984, -4.524199962615967, -4.687300205230713, -4.80210018157959, -4.8404998779296875, -4.875199794769287, -4.883699893951416, -5.135900020599365, -5.149799823760986, -5.248300075531006, -5.342400074005127, -5.482699871063232, -5.520500183105469, -5.524499893188477, -5.576399803161621, -5.646699905395508, -5.661300182342529, -5.680200099945068, -3.8712000846862793, -4.290599822998047, -4.496200084686279, -5.091000080108643, -4.599800109863281, -4.071599960327148, -3.4119999408721924, -3.852799892425537, -4.517300128936768, -4.378799915313721, -4.591700077056885, -4.611800193786621, -4.60260009765625, -4.870800018310547, -2.989300012588501, -3.087399959564209, -3.1644999980926514, -3.2063000202178955, -4.083199977874756, -4.383299827575684, -4.46619987487793, -4.590199947357178, -4.667600154876709, -4.720799922943115, -4.7480998039245605, -4.874499797821045, -5.026800155639648, -5.053199768066406, -5.0559000968933105, -5.101200103759766, -5.148099899291992, -5.18149995803833, -5.222899913787842, -5.225800037384033, -5.249300003051758, -5.302700042724609, -5.373700141906738, -5.536399841308594, -5.56790018081665, -5.651800155639648, -5.683700084686279, -5.740499973297119, -5.7546000480651855, -5.793900012969971, -4.278200149536133, -2.3459999561309814, -4.148900032043457, -3.5873000621795654, -4.385700225830078, -4.648200035095215, -3.0195000171661377, -4.769999980926514, -4.237299919128418, -4.939899921417236, -4.656300067901611, -4.545899868011475, -4.447299957275391, -4.733799934387207, -4.665900230407715, -4.77269983291626, -4.842299938201904, -2.8494999408721924, -3.0596001148223877, -3.2653000354766846, -3.3989999294281006, -3.440500020980835, -3.5027999877929688, -3.6119000911712646, -3.890899896621704, -4.019499778747559, -4.241799831390381, -4.407400131225586, -4.4492998123168945, -4.5131001472473145, -4.624899864196777, -4.766499996185303, -4.765999794006348, -4.801300048828125, -4.816299915313721, -4.828000068664551, -4.84689998626709, -4.939499855041504, -4.945199966430664, -5.096700191497803, -5.146999835968018, -5.283699989318848, -5.288000106811523, -5.289700031280518, -5.363699913024902, -5.426599979400635, -5.466000080108643, -3.9244000911712646, -3.3533999919891357, -4.147200107574463, -4.585700035095215, -4.2428998947143555, -3.6594998836517334, -4.547299861907959, -4.057400226593018, -3.7985000610351562, -4.449699878692627, -1.7791999578475952, -1.8473999500274658, -3.354300022125244, -3.6435999870300293, -3.7690000534057617, -3.8032000064849854, -4.42140007019043, -4.6722002029418945, -4.738900184631348, -4.771399974822998, -4.793700218200684, -4.793799877166748, -4.985199928283691, -5.010700225830078, -5.073400020599365, -5.092899799346924, -5.140500068664551, -5.184199810028076, -5.34660005569458, -5.579999923706055, -5.695199966430664, -5.703499794006348, -5.731400012969971, -5.796000003814697, -5.817500114440918, -5.855100154876709, -5.907199859619141, -5.928100109100342, -6.024199962615967, -6.045899868011475, -4.303699970245361, -4.262199878692627, -3.718600034713745, -4.217400074005127, -4.0467000007629395, -3.9154999256134033, -4.901100158691406, -3.3840999603271484, -3.060499906539917, -4.362299919128418, -3.750200033187866, -4.73390007019043, -4.870800018310547], \"loglift\": [30.0, 29.0, 28.0, 27.0, 26.0, 25.0, 24.0, 23.0, 22.0, 21.0, 20.0, 19.0, 18.0, 17.0, 16.0, 15.0, 14.0, 13.0, 12.0, 11.0, 10.0, 9.0, 8.0, 7.0, 6.0, 5.0, 4.0, 3.0, 2.0, 1.0, 1.555899977684021, 1.555400013923645, 1.5549999475479126, 1.5549999475479126, 1.554800033569336, 1.5543999671936035, 1.5542000532150269, 1.5542000532150269, 1.5541000366210938, 1.5539000034332275, 1.5537999868392944, 1.5536999702453613, 1.5536999702453613, 1.5536999702453613, 1.5535000562667847, 1.5534000396728516, 1.5533000230789185, 1.5529999732971191, 1.552899956703186, 1.5528000593185425, 1.5528000593185425, 1.5527000427246094, 1.5527000427246094, 1.5525000095367432, 1.5521999597549438, 1.5520999431610107, 1.5520999431610107, 1.551900029182434, 1.551800012588501, 1.551800012588501, 1.5097999572753906, 1.3006000518798828, 1.281000018119812, 1.0343999862670898, 1.3523000478744507, 0.7390000224113464, 1.221500039100647, 1.1208000183105469, 1.1445000171661377, 1.1181999444961548, 1.2379000186920166, 0.8751000165939331, 0.11209999769926071, 0.7512999773025513, 0.6021000146865845, 0.949999988079071, 0.6732000112533569, 0.9434000253677368, 0.287200003862381, 0.8163999915122986, 0.6279000043869019, 0.9868000149726868, -0.06759999692440033, 1.6680999994277954, 1.6679999828338623, 1.6678999662399292, 1.6678999662399292, 1.6678999662399292, 1.667799949645996, 1.667799949645996, 1.6675000190734863, 1.667099952697754, 1.6669000387191772, 1.666599988937378, 1.6663999557495117, 1.6656999588012695, 1.6656999588012695, 1.6654000282287598, 1.6653000116348267, 1.6653000116348267, 1.6641000509262085, 1.6634000539779663, 1.6632000207901, 1.6627999544143677, 1.6627999544143677, 1.6619000434875488, 1.6606999635696411, 1.660599946975708, 1.6605000495910645, 1.6605000495910645, 1.6604000329971313, 1.6601999998092651, 1.6592999696731567, 1.4526000022888184, 1.5543999671936035, 1.538100004196167, 1.3991999626159668, 1.5404000282287598, 1.228700041770935, 1.3492000102996826, 1.1964999437332153, 1.4478000402450562, 0.8263999819755554, 0.6348999738693237, 0.8783000111579895, 0.5616000294685364, 0.4975000023841858, 0.17260000109672546, 0.6251000165939331, 0.02879999950528145, 1.8854000568389893, 1.8849999904632568, 1.8849999904632568, 1.8847999572753906, 1.8847999572753906, 1.8847999572753906, 1.8846999406814575, 1.8846999406814575, 1.884600043296814, 1.8844000101089478, 1.8840999603271484, 1.8840999603271484, 1.8839999437332153, 1.8839000463485718, 1.8838000297546387, 1.8833999633789062, 1.8832999467849731, 1.8832999467849731, 1.8831000328063965, 1.882599949836731, 1.882599949836731, 1.8825000524520874, 1.8823000192642212, 1.8823000192642212, 1.8819999694824219, 1.8819999694824219, 1.8818999528884888, 1.881700038909912, 1.881600022315979, 1.881500005722046, 1.7511999607086182, 1.75600004196167, 1.7769999504089355, 1.6957000494003296, 1.5264999866485596, 1.1155999898910522, 1.0170999765396118, -0.26330000162124634, 0.18050000071525574, 1.4493000507354736, 1.311900019645691, 0.15549999475479126, 0.06710000336170197, -0.39890000224113464, 2.071000099182129, 2.0708999633789062, 2.07069993019104, 2.070499897003174, 2.0703999996185303, 2.0703001022338867, 2.0703001022338867, 2.0703001022338867, 2.0699000358581543, 2.0697999000549316, 2.0697999000549316, 2.069700002670288, 2.0692999362945557, 2.0690999031066895, 2.068700075149536, 2.0683999061584473, 2.06820011138916, 2.0680999755859375, 2.0680999755859375, 2.067199945449829, 2.0671000480651855, 2.066699981689453, 2.066200017929077, 2.065500020980835, 2.065200090408325, 2.065200090408325, 2.0648999214172363, 2.0643999576568604, 2.064300060272217, 2.064199924468994, 1.5735000371932983, 1.6016000509262085, 1.5089000463485718, 1.7020000219345093, 1.2889000177383423, 0.5813000202178955, -0.12610000371932983, 0.28029999136924744, 0.7032999992370605, 0.4018000066280365, 0.7721999883651733, 0.38339999318122864, -0.25029999017715454, 0.636900007724762, 2.142699956893921, 2.142699956893921, 2.1426000595092773, 2.1426000595092773, 2.141700029373169, 2.141200065612793, 2.1410000324249268, 2.140700101852417, 2.140500068664551, 2.140399932861328, 2.1403000354766846, 2.139899969100952, 2.139400005340576, 2.1393001079559326, 2.1393001079559326, 2.1391000747680664, 2.1389000415802, 2.1387999057769775, 2.1386001110076904, 2.1384999752044678, 2.138400077819824, 2.138200044631958, 2.1377999782562256, 2.136899948120117, 2.136699914932251, 2.1361000537872314, 2.1357998847961426, 2.1354000568389893, 2.1352999210357666, 2.134999990463257, 1.9247000217437744, 1.5602999925613403, 1.7589999437332153, 1.520799994468689, 1.7106000185012817, 1.7905999422073364, 1.1136000156402588, 1.7594000101089478, 1.3530999422073364, 1.7366000413894653, 0.9769999980926514, 0.7168999910354614, 0.33320000767707825, 0.4302000105381012, 0.10869999974966049, 0.5174999833106995, 0.7398999929428101, 2.2692999839782715, 2.269200086593628, 2.2690000534057617, 2.268899917602539, 2.268899917602539, 2.2688000202178955, 2.268699884414673, 2.2683000564575195, 2.2681000232696533, 2.267699956893921, 2.2672998905181885, 2.267199993133545, 2.2669999599456787, 2.266700029373169, 2.2662999629974365, 2.2662999629974365, 2.2660999298095703, 2.2660999298095703, 2.2660000324249268, 2.2660000324249268, 2.2655999660491943, 2.2655999660491943, 2.264899969100952, 2.2646000385284424, 2.2639000415802, 2.2639000415802, 2.2637999057769775, 2.263400077819824, 2.263000011444092, 2.262700080871582, 1.904099941253662, 1.6418999433517456, 1.434999942779541, 1.6481000185012817, 1.2647000551223755, 0.692799985408783, 1.4908000230789185, 0.7232000231742859, 0.3346000015735626, 1.1792000532150269, 2.280600070953369, 2.280600070953369, 2.279900074005127, 2.279599905014038, 2.2795000076293945, 2.279400110244751, 2.2783000469207764, 2.277600049972534, 2.277400016784668, 2.2772998809814453, 2.2771999835968018, 2.2771999835968018, 2.276400089263916, 2.2762999534606934, 2.2760000228881836, 2.2760000228881836, 2.275700092315674, 2.2755000591278076, 2.2744998931884766, 2.272900104522705, 2.2720000743865967, 2.271899938583374, 2.2716000080108643, 2.2709999084472656, 2.270900011062622, 2.2704999446868896, 2.26990008354187, 2.269700050354004, 2.2685000896453857, 2.2683000564575195, 2.170799970626831, 2.0169999599456787, 1.7461999654769897, 1.7892999649047852, 1.7366000413894653, 1.6748000383377075, 1.777999997138977, 0.6406999826431274, 0.22540000081062317, 1.1141999959945679, 0.3828999996185303, 1.094599962234497, 0.29319998621940613]}, \"token.table\": {\"Topic\": [1, 3, 4, 5, 4, 4, 3, 7, 2, 2, 4, 6, 6, 4, 4, 1, 6, 1, 4, 1, 6, 6, 1, 4, 4, 6, 7, 3, 3, 7, 3, 4, 2, 1, 3, 5, 3, 3, 3, 4, 2, 3, 1, 1, 2, 1, 4, 6, 3, 3, 6, 5, 1, 5, 5, 1, 3, 3, 7, 1, 1, 4, 6, 6, 1, 7, 2, 5, 3, 7, 7, 3, 1, 3, 4, 5, 6, 7, 1, 7, 1, 3, 4, 6, 6, 4, 7, 7, 6, 5, 7, 2, 3, 1, 1, 3, 6, 6, 1, 2, 5, 4, 1, 2, 3, 4, 5, 6, 5, 4, 1, 5, 5, 1, 1, 3, 5, 7, 1, 4, 7, 2, 6, 6, 4, 5, 7, 1, 2, 5, 5, 2, 3, 4, 7, 1, 3, 6, 4, 5, 7, 1, 6, 7, 1, 7, 7, 7, 2, 2, 4, 7, 3, 6, 2, 2, 1, 1, 3, 4, 7, 1, 2, 5, 2, 2, 6, 2, 4, 3, 5, 2, 3, 5, 7, 3, 3, 7, 6, 1, 2, 3, 7, 1, 3, 5, 1, 2, 3, 4, 5, 6, 7, 3, 4, 5, 6, 7, 1, 4, 6, 1, 4, 6, 4, 5, 2, 1, 5, 1, 2, 1, 3, 4, 5, 7, 4, 1, 2, 4, 5, 6, 4, 5, 5, 5, 4, 1, 2, 3, 3, 5, 1, 5, 6, 2, 1, 2, 4, 2, 6, 1, 5, 2, 4, 1, 2, 3, 7, 1, 3, 6, 2, 5, 5, 4, 4, 1, 7, 3, 5, 6, 5, 2, 4, 1, 5, 7, 2, 7, 4, 1, 2, 4, 5, 7, 2, 6, 4, 3, 3, 3, 6, 1, 6, 2, 2, 7, 2, 1, 1, 6, 7, 7, 7, 1, 3, 1, 3, 5, 1, 4, 7, 2, 6, 2, 3, 3, 2, 4, 7, 3, 7, 2, 1, 3, 5, 4, 5, 7, 1, 2, 1, 4, 1, 4, 4, 1, 4, 2, 7, 6, 5, 1, 1, 2, 3, 5, 6, 1, 5, 2, 3, 1, 4, 6, 5, 5, 1, 2, 3, 4, 5, 6, 4, 5, 2, 4, 3, 7, 7, 1, 6, 5, 7, 6, 2, 2, 1, 5, 1, 4, 6, 3, 3, 4, 1, 3, 4, 5, 6, 4, 3, 1, 5, 6, 3, 5, 7, 3, 1, 2, 4, 5, 7, 1, 2, 5], \"Freq\": [0.1479647308588028, 0.1439656764268875, 0.6078550815582275, 0.09917636215686798, 0.9979496598243713, 0.9959057569503784, 0.1030401960015297, 0.8960016965866089, 0.9912742972373962, 0.997050940990448, 0.9907386302947998, 0.9990397691726685, 0.9956297874450684, 0.9989882111549377, 0.9935904145240784, 0.9986789226531982, 0.9974903464317322, 0.7743391394615173, 0.22538088262081146, 0.999248743057251, 0.9950616359710693, 0.9954972863197327, 0.8162623643875122, 0.18365903198719025, 0.2176806926727295, 0.200849711894989, 0.5801078081130981, 0.9964819550514221, 0.9988953471183777, 0.9869529008865356, 0.9973241090774536, 0.9964370131492615, 0.996020495891571, 0.3678598701953888, 0.5627080202102661, 0.06718901544809341, 0.9976996779441833, 0.9994082450866699, 0.8742842674255371, 0.12579630315303802, 0.9996238946914673, 0.9956217408180237, 0.9950323700904846, 0.118949756026268, 0.8792637586593628, 0.9994953870773315, 0.6899375319480896, 0.3049277365207672, 0.995651125907898, 0.8960476517677307, 0.10067950934171677, 0.9980158805847168, 0.998551607131958, 0.9975782632827759, 0.9984873533248901, 0.9970391392707825, 0.9983164072036743, 0.9950013160705566, 0.9991451501846313, 0.9973758459091187, 0.541151762008667, 0.4576099216938019, 0.9992976188659668, 0.9966267943382263, 0.3930307924747467, 0.6046627759933472, 0.999322235584259, 0.9962237477302551, 0.9981180429458618, 0.9940620064735413, 0.9944126605987549, 0.9994691014289856, 0.11204136162996292, 0.15840330719947815, 0.11010961979627609, 0.31197723746299744, 0.20476524531841278, 0.10431437194347382, 0.997273325920105, 0.9936248064041138, 0.5934197902679443, 0.1019437238574028, 0.0981879010796547, 0.20657017827033997, 0.9978281259536743, 0.9988744854927063, 0.997298538684845, 0.9998319149017334, 0.9994233250617981, 0.9946317672729492, 0.998323380947113, 0.8776553273200989, 0.12198653817176819, 0.9968416094779968, 0.9965050220489502, 0.9979573488235474, 0.999457836151123, 0.9952380657196045, 0.4468674063682556, 0.3557119369506836, 0.19670391082763672, 0.9991112351417542, 0.07981165498495102, 0.23366545140743256, 0.1625080704689026, 0.05961834639310837, 0.12885254621505737, 0.335593581199646, 0.9878668189048767, 0.9940693378448486, 0.4415861666202545, 0.5582088828086853, 0.9976125955581665, 0.9968394637107849, 0.20564253628253937, 0.14579135179519653, 0.6491551995277405, 0.9924243688583374, 0.37412241101264954, 0.6256227493286133, 0.9990512132644653, 0.9974997043609619, 0.9992607831954956, 0.9892687201499939, 0.9992583394050598, 0.9967412948608398, 0.9986724853515625, 0.23587919771671295, 0.7640224099159241, 0.9953199028968811, 0.9963129162788391, 0.6442436575889587, 0.1166398748755455, 0.11109878867864609, 0.1280914545059204, 0.17719662189483643, 0.6457832455635071, 0.17522776126861572, 0.9967310428619385, 0.45337051153182983, 0.5458950996398926, 0.9943534731864929, 0.9947670698165894, 0.9910624027252197, 0.4137328267097473, 0.5859175324440002, 0.9990791082382202, 0.986570417881012, 0.9933688044548035, 0.9902138113975525, 0.9889163374900818, 0.983440637588501, 0.9951702952384949, 0.9959679841995239, 0.9883262515068054, 0.99669349193573, 0.9980625510215759, 0.5651038885116577, 0.11606045067310333, 0.3164029121398926, 0.9956344962120056, 0.7154401540756226, 0.10220573842525482, 0.18141518533229828, 0.9990304708480835, 0.9983686804771423, 0.9962849617004395, 0.7267103791236877, 0.2729775011539459, 0.4627334475517273, 0.5364280343055725, 0.9914096593856812, 0.9968766570091248, 0.9958242774009705, 0.9899548292160034, 0.9993541240692139, 0.9997726678848267, 0.99373459815979, 0.9985472559928894, 0.5058600306510925, 0.33091333508491516, 0.16256840527057648, 0.9940335750579834, 0.9956207871437073, 0.8266037702560425, 0.17268092930316925, 0.24292458593845367, 0.19433966279029846, 0.06328824907541275, 0.2544315457344055, 0.05114201828837395, 0.1387227177619934, 0.055616945028305054, 0.18163634836673737, 0.16676931083202362, 0.357024222612381, 0.14436103403568268, 0.1499631106853485, 0.3952363133430481, 0.23850467801094055, 0.36627504229545593, 0.9967418313026428, 0.461317241191864, 0.5370296239852905, 0.9962168335914612, 0.9912368655204773, 0.9967386722564697, 0.3316846489906311, 0.6661104559898376, 0.5447880029678345, 0.45399001240730286, 0.7276748418807983, 0.19931146502494812, 0.0733315721154213, 0.991449236869812, 0.9958441853523254, 0.9997255206108093, 0.08075648546218872, 0.15417146682739258, 0.08442723006010056, 0.2459401935338974, 0.4340660870075226, 0.9996207356452942, 0.9987086057662964, 0.9971981644630432, 0.9993062019348145, 0.9985216856002808, 0.14946380257606506, 0.43072080612182617, 0.41967669129371643, 0.9990980625152588, 0.9996752142906189, 0.19463153183460236, 0.8041355013847351, 0.9928951263427734, 0.9913511276245117, 0.662514328956604, 0.2203955352306366, 0.11683619022369385, 0.9975610375404358, 0.9977176189422607, 0.9962403178215027, 0.9951820373535156, 0.9959017038345337, 0.9951563477516174, 0.9945192337036133, 0.15813590586185455, 0.69820237159729, 0.14333955943584442, 0.30838751792907715, 0.23165258765220642, 0.45896169543266296, 0.8917637467384338, 0.10701164603233337, 0.9937242269515991, 0.998572826385498, 0.9951286315917969, 0.9972794651985168, 0.9963647127151489, 0.9971430897712708, 0.9954292178153992, 0.9973589181900024, 0.9944152235984802, 0.9996209144592285, 0.9994789958000183, 0.6453466415405273, 0.2388620674610138, 0.11454204469919205, 0.8059254288673401, 0.19394031167030334, 0.9972442388534546, 0.17835158109664917, 0.3104638457298279, 0.04789070039987564, 0.1519291251897812, 0.31128954887390137, 0.9995852708816528, 0.9988986849784851, 0.9979605674743652, 0.9979674816131592, 0.9993465542793274, 0.9986575841903687, 0.9933435916900635, 0.9966593384742737, 0.9952366352081299, 0.9974205493927002, 0.9994845390319824, 0.9947096109390259, 0.9973757863044739, 0.9936308264732361, 0.9961409568786621, 0.6938579082489014, 0.30525052547454834, 0.9941151142120361, 0.9971047639846802, 0.12095682322978973, 0.8784573674201965, 0.9544640183448792, 0.04393951967358589, 0.9983121156692505, 0.9986494183540344, 0.23033414781093597, 0.7683947086334229, 0.9990696907043457, 0.9987878203392029, 0.992313027381897, 0.9987913966178894, 0.9989027380943298, 0.19362390041351318, 0.19362390041351318, 0.6117392778396606, 0.9990221858024597, 0.9988592267036438, 0.9881951808929443, 0.9939249157905579, 0.99921053647995, 0.9993166923522949, 0.15777802467346191, 0.7024363875389099, 0.13832592964172363, 0.9947022199630737, 0.999731183052063, 0.998955249786377, 0.9977496266365051, 0.9969394207000732, 0.997610867023468, 0.9991905689239502, 0.9971516132354736, 0.9981673955917358, 0.9991740584373474, 0.9914120435714722, 0.9949159622192383, 0.991961658000946, 0.9977694153785706, 0.08307945728302002, 0.6237097978591919, 0.16206632554531097, 0.13055342435836792, 0.9965311288833618, 0.9979544878005981, 0.9965675473213196, 0.8004717826843262, 0.1963421255350113, 0.2811547517776489, 0.18471510708332062, 0.5337347984313965, 0.9949421882629395, 0.9975408911705017, 0.197196826338768, 0.060517605394124985, 0.1774359792470932, 0.18813976645469666, 0.16385039687156677, 0.21284084022045135, 0.9984287023544312, 0.9887093901634216, 0.9924384355545044, 0.992761492729187, 0.9956538677215576, 0.9916595220565796, 0.9980238080024719, 0.9988453388214111, 0.9981927275657654, 0.9961782693862915, 0.9998079538345337, 0.9986674785614014, 0.99803626537323, 0.9965077042579651, 0.3171062171459198, 0.6815416812896729, 0.428689569234848, 0.570185124874115, 0.999294102191925, 0.9973866939544678, 0.9954046607017517, 0.9990411400794983, 0.47761842608451843, 0.12708251178264618, 0.09637089818716049, 0.11225621402263641, 0.18638767302036285, 0.999238133430481, 0.9984174966812134, 0.759509801864624, 0.24005576968193054, 0.9970001578330994, 0.31775206327438354, 0.6812604665756226, 0.9964049458503723, 0.996549665927887, 0.3853946030139923, 0.2241087704896927, 0.07309208065271378, 0.18001189827919006, 0.13712315261363983, 0.6470557451248169, 0.35173285007476807, 0.9995659589767456], \"Term\": [\"able\", \"able\", \"able\", \"able\", \"access\", \"account\", \"addition\", \"addition\", \"adult\", \"affordable\", \"age\", \"alexa\", \"alternative\", \"amazing\", \"amount\", \"android\", \"answer\", \"app\", \"app\", \"apple\", \"assistant\", \"automation\", \"available\", \"available\", \"awesome\", \"awesome\", \"awesome\", \"backlight\", \"battery\", \"beach\", \"bed\", \"bedroom\", \"benefit\", \"big\", \"big\", \"big\", \"bill\", \"bluetooth\", \"book\", \"book\", \"box\", \"bright\", \"buffering\", \"buy\", \"buy\", \"cable\", \"capability\", \"capability\", \"capable\", \"case\", \"case\", \"change\", \"channel\", \"charge\", \"charger\", \"cheap\", \"clear\", \"color\", \"command\", \"connection\", \"content\", \"content\", \"control\", \"convenient\", \"cool\", \"cool\", \"cord\", \"course\", \"cover\", \"cut\", \"daily\", \"daughter\", \"day\", \"day\", \"day\", \"day\", \"day\", \"day\", \"deal\", \"definition\", \"device\", \"device\", \"device\", \"device\", \"dot\", \"download\", \"ease\", \"easy\", \"echo\", \"electronic\", \"everyday\", \"excellent\", \"excellent\", \"expensive\", \"extra\", \"eye\", \"family\", \"fantastic\", \"fast\", \"fast\", \"fast\", \"favorite\", \"feature\", \"feature\", \"feature\", \"feature\", \"feature\", \"feature\", \"fee\", \"figure\", \"fire\", \"fire\", \"firestick\", \"firetv\", \"first\", \"first\", \"first\", \"font\", \"free\", \"free\", \"friend\", \"friendly\", \"fun\", \"functionality\", \"game\", \"generation\", \"gift\", \"good\", \"good\", \"granddaughter\", \"grandson\", \"great\", \"great\", \"great\", \"great\", \"hand\", \"hand\", \"hand\", \"handy\", \"happy\", \"happy\", \"hard\", \"helpful\", \"hold\", \"home\", \"home\", \"house\", \"household\", \"hulu\", \"impressed\", \"improvement\", \"incredible\", \"info\", \"information\", \"instruction\", \"integration\", \"interface\", \"internet\", \"internet\", \"internet\", \"investment\", \"issue\", \"issue\", \"issue\", \"item\", \"job\", \"joke\", \"kid\", \"kid\", \"kindle\", \"kindle\", \"kitchen\", \"large\", \"last\", \"law\", \"life\", \"light\", \"lighting\", \"list\", \"little\", \"little\", \"little\", \"living\", \"load\", \"long\", \"long\", \"lot\", \"lot\", \"lot\", \"lot\", \"lot\", \"lot\", \"lot\", \"love\", \"love\", \"love\", \"love\", \"love\", \"many\", \"many\", \"many\", \"market\", \"member\", \"member\", \"membership\", \"mine\", \"minute\", \"model\", \"model\", \"money\", \"money\", \"month\", \"month\", \"month\", \"monthly\", \"mother\", \"movie\", \"much\", \"much\", \"much\", \"much\", \"much\", \"music\", \"navigate\", \"network\", \"new\", \"news\", \"nice\", \"nice\", \"nice\", \"night\", \"old\", \"one\", \"one\", \"open\", \"opinion\", \"option\", \"option\", \"option\", \"order\", \"original\", \"page\", \"paper\", \"paperwhite\", \"parent\", \"people\", \"perfect\", \"perfect\", \"perfect\", \"phone\", \"phone\", \"phone\", \"picture\", \"picture\", \"piece\", \"play\", \"player\", \"playstation\", \"pleased\", \"plug\", \"port\", \"portable\", \"present\", \"price\", \"prime\", \"problem\", \"problem\", \"problem\", \"product\", \"product\", \"program\", \"purchase\", \"purchase\", \"purchase\", \"purchase\", \"purchase\", \"quality\", \"question\", \"radio\", \"read\", \"reader\", \"reading\", \"ready\", \"reason\", \"recognition\", \"recommend\", \"remote\", \"report\", \"response\", \"responsive\", \"roku\", \"room\", \"room\", \"satellite\", \"satisfied\", \"screen\", \"screen\", \"search\", \"search\", \"second\", \"service\", \"set\", \"set\", \"setup\", \"shopping\", \"short\", \"show\", \"side\", \"simple\", \"simple\", \"simple\", \"size\", \"skill\", \"slot\", \"slow\", \"small\", \"smart\", \"son\", \"son\", \"son\", \"song\", \"sound\", \"speaker\", \"sport\", \"star\", \"station\", \"stick\", \"store\", \"stream\", \"streaming\", \"sunlight\", \"support\", \"switch\", \"system\", \"tablet\", \"tablet\", \"tablet\", \"tablet\", \"talk\", \"tap\", \"tech\", \"technology\", \"technology\", \"thing\", \"thing\", \"thing\", \"third\", \"thought\", \"time\", \"time\", \"time\", \"time\", \"time\", \"time\", \"timer\", \"today\", \"tool\", \"traffic\", \"travel\", \"trouble\", \"turn\", \"unit\", \"update\", \"upgrade\", \"use\", \"useful\", \"user\", \"value\", \"version\", \"version\", \"video\", \"video\", \"voice\", \"volume\", \"voyage\", \"watch\", \"way\", \"way\", \"way\", \"way\", \"way\", \"weather\", \"weight\", \"well\", \"well\", \"whole\", \"wife\", \"wife\", \"wireless\", \"word\", \"work\", \"work\", \"work\", \"work\", \"work\", \"worth\", \"worth\", \"year\"]}, \"R\": 30, \"lambda.step\": 0.01, \"plot.opts\": {\"xlab\": \"PC1\", \"ylab\": \"PC2\"}, \"topic.order\": [2, 4, 7, 5, 3, 6, 1]};\n",
       "\n",
       "function LDAvis_load_lib(url, callback){\n",
       "  var s = document.createElement('script');\n",
       "  s.src = url;\n",
       "  s.async = true;\n",
       "  s.onreadystatechange = s.onload = callback;\n",
       "  s.onerror = function(){console.warn(\"failed to load library \" + url);};\n",
       "  document.getElementsByTagName(\"head\")[0].appendChild(s);\n",
       "}\n",
       "\n",
       "if(typeof(LDAvis) !== \"undefined\"){\n",
       "   // already loaded: just create the visualization\n",
       "   !function(LDAvis){\n",
       "       new LDAvis(\"#\" + \"ldavis_el63684102190088199058936\", ldavis_el63684102190088199058936_data);\n",
       "   }(LDAvis);\n",
       "}else if(typeof define === \"function\" && define.amd){\n",
       "   // require.js is available: use it to load d3/LDAvis\n",
       "   require.config({paths: {d3: \"https://cdnjs.cloudflare.com/ajax/libs/d3/3.5.5/d3.min\"}});\n",
       "   require([\"d3\"], function(d3){\n",
       "      window.d3 = d3;\n",
       "      LDAvis_load_lib(\"https://cdn.rawgit.com/bmabey/pyLDAvis/files/ldavis.v1.0.0.js\", function(){\n",
       "        new LDAvis(\"#\" + \"ldavis_el63684102190088199058936\", ldavis_el63684102190088199058936_data);\n",
       "      });\n",
       "    });\n",
       "}else{\n",
       "    // require.js not available: dynamically load d3 & LDAvis\n",
       "    LDAvis_load_lib(\"https://cdnjs.cloudflare.com/ajax/libs/d3/3.5.5/d3.min.js\", function(){\n",
       "         LDAvis_load_lib(\"https://cdn.rawgit.com/bmabey/pyLDAvis/files/ldavis.v1.0.0.js\", function(){\n",
       "                 new LDAvis(\"#\" + \"ldavis_el63684102190088199058936\", ldavis_el63684102190088199058936_data);\n",
       "            })\n",
       "         });\n",
       "}\n",
       "</script>"
      ],
      "text/plain": [
       "PreparedData(topic_coordinates=              x         y  topics  cluster       Freq\n",
       "topic                                                \n",
       "1      0.090814 -0.223626       1        1  21.090784\n",
       "3     -0.255196 -0.073090       2        1  18.853872\n",
       "6      0.012284 -0.047377       3        1  15.172029\n",
       "4      0.066387  0.142293       4        1  12.601955\n",
       "2      0.082777 -0.200849       5        1  11.727627\n",
       "5      0.265864  0.218016       6        1  10.333303\n",
       "0     -0.262930  0.184633       7        1  10.220428, topic_info=          Term          Freq         Total Category  logprob  loglift\n",
       "83        easy   4993.000000   4993.000000  Default  30.0000  30.0000\n",
       "7          use   4664.000000   4664.000000  Default  29.0000  29.0000\n",
       "22        fire   5822.000000   5822.000000  Default  28.0000  28.0000\n",
       "25       great  10828.000000  10828.000000  Default  27.0000  27.0000\n",
       "55        good   6189.000000   6189.000000  Default  26.0000  26.0000\n",
       "...        ...           ...           ...      ...      ...      ...\n",
       "25       great   1386.537842  10828.201172   Topic7  -3.0605   0.2254\n",
       "79    purchase    377.174866   1211.091064   Topic7  -4.3623   1.1142\n",
       "9         love    695.660461   4641.141602   Topic7  -3.7502   0.3829\n",
       "1170      room    260.126587    851.759399   Topic7  -4.7339   1.0946\n",
       "271       work    226.842850   1655.446167   Topic7  -4.8708   0.2932\n",
       "\n",
       "[348 rows x 6 columns], token_table=      Topic      Freq    Term\n",
       "term                         \n",
       "14        1  0.147965    able\n",
       "14        3  0.143966    able\n",
       "14        4  0.607855    able\n",
       "14        5  0.099176    able\n",
       "43        4  0.997950  access\n",
       "...     ...       ...     ...\n",
       "271       5  0.180012    work\n",
       "271       7  0.137123    work\n",
       "82        1  0.647056   worth\n",
       "82        2  0.351733   worth\n",
       "76        5  0.999566    year\n",
       "\n",
       "[398 rows x 3 columns], R=30, lambda_step=0.01, plot_opts={'xlab': 'PC1', 'ylab': 'PC2'}, topic_order=[2, 4, 7, 5, 3, 6, 1])"
      ]
     },
     "execution_count": 26,
     "metadata": {},
     "output_type": "execute_result"
    }
   ],
   "source": [
    "# Visualize the topics\n",
    "pyLDAvis.enable_notebook()\n",
    "vis = pyLDAvis.gensim.prepare(lda_model, doc_term_matrix, dictionary)\n",
    "vis"
   ]
  },
  {
   "cell_type": "markdown",
   "metadata": {},
   "source": [
    "#### Exploring the Data"
   ]
  },
  {
   "cell_type": "code",
   "execution_count": 27,
   "metadata": {},
   "outputs": [],
   "source": [
    "import logging\n",
    "import pandas as pd\n",
    "import numpy as np\n",
    "from numpy import random\n",
    "import gensim\n",
    "import nltk\n",
    "from sklearn.model_selection import train_test_split\n",
    "from sklearn.feature_extraction.text import CountVectorizer, TfidfVectorizer\n",
    "from sklearn.metrics import accuracy_score, confusion_matrix\n",
    "import matplotlib.pyplot as plt\n",
    "from nltk.corpus import stopwords\n",
    "import re\n",
    "from bs4 import BeautifulSoup\n",
    "%matplotlib inline"
   ]
  },
  {
   "cell_type": "code",
   "execution_count": 28,
   "metadata": {},
   "outputs": [
    {
     "data": {
      "text/plain": [
       "797442"
      ]
     },
     "execution_count": 28,
     "metadata": {},
     "output_type": "execute_result"
    }
   ],
   "source": [
    "df['reviews.text'].apply(lambda x: len(x.split(' '))).sum()\n"
   ]
  },
  {
   "cell_type": "code",
   "execution_count": 29,
   "metadata": {},
   "outputs": [
    {
     "data": {
      "image/png": "[encoded data removed]",
      "text/plain": [
       "<Figure size 432x288 with 1 Axes>"
      ]
     },
     "metadata": {
      "needs_background": "light"
     },
     "output_type": "display_data"
    }
   ],
   "source": [
    "rate = ['0','1','2','3','4','5']\n",
    "plt.figure(figsize= (6,4))\n",
    "df['reviews.rating'].value_counts().plot(kind='bar');"
   ]
  },
  {
   "cell_type": "code",
   "execution_count": 30,
   "metadata": {},
   "outputs": [],
   "source": [
    "X = df['reviews.text']\n",
    "y = df['reviews.rating']\n",
    "X_train, X_test, y_train, y_test = train_test_split(X, y, test_size=0.3, random_state = 42)"
   ]
  },
  {
   "cell_type": "markdown",
   "metadata": {},
   "source": [
    "#### Naive Bayes Classifier for Multinomial Models\n"
   ]
  },
  {
   "cell_type": "code",
   "execution_count": 31,
   "metadata": {},
   "outputs": [
    {
     "name": "stdout",
     "output_type": "stream",
     "text": [
      "accuracy 0.6978265050971341\n",
      "              precision    recall  f1-score   support\n",
      "\n",
      "           0       0.00      0.00      0.00        13\n",
      "           1       0.00      0.00      0.00       123\n",
      "           2       0.00      0.00      0.00       114\n",
      "           3       0.00      0.00      0.00       427\n",
      "           4       0.53      0.03      0.06      2534\n",
      "           5       0.70      1.00      0.82      7187\n",
      "\n",
      "    accuracy                           0.70     10398\n",
      "   macro avg       0.21      0.17      0.15     10398\n",
      "weighted avg       0.61      0.70      0.58     10398\n",
      "\n"
     ]
    },
    {
     "name": "stderr",
     "output_type": "stream",
     "text": [
      "C:\\Users\\Alaa\\anaconda3\\lib\\site-packages\\sklearn\\metrics\\_classification.py:1221: UndefinedMetricWarning: Precision and F-score are ill-defined and being set to 0.0 in labels with no predicted samples. Use `zero_division` parameter to control this behavior.\n",
      "  _warn_prf(average, modifier, msg_start, len(result))\n"
     ]
    }
   ],
   "source": [
    "from sklearn.naive_bayes import MultinomialNB\n",
    "from sklearn.pipeline import Pipeline\n",
    "from sklearn.feature_extraction.text import TfidfTransformer\n",
    "target_names = 1 or 2 or 3 or 4 or 5\n",
    "nb = Pipeline([('vect', CountVectorizer()),\n",
    "               ('tfidf', TfidfTransformer()),\n",
    "               ('clf', MultinomialNB()),\n",
    "              ])\n",
    "nb.fit(X_train, y_train)\n",
    "\n",
    "%matplotlib inline\n",
    "from sklearn.metrics import classification_report\n",
    "y_pred = nb.predict(X_test)\n",
    "\n",
    "print('accuracy %s' % accuracy_score(y_pred, y_test))\n",
    "print(classification_report(y_test, y_pred,target_names= rate))"
   ]
  },
  {
   "cell_type": "code",
   "execution_count": 32,
   "metadata": {},
   "outputs": [
    {
     "name": "stdout",
     "output_type": "stream",
     "text": [
      "accuracy 0.6912867859203693\n",
      "              precision    recall  f1-score   support\n",
      "\n",
      "           0       0.00      0.00      0.00        13\n",
      "           1       0.00      0.00      0.00       123\n",
      "           2       0.00      0.00      0.00       114\n",
      "           3       0.00      0.00      0.00       427\n",
      "           4       0.20      0.00      0.00      2534\n",
      "           5       0.69      1.00      0.82      7187\n",
      "\n",
      "    accuracy                           0.69     10398\n",
      "   macro avg       0.15      0.17      0.14     10398\n",
      "weighted avg       0.53      0.69      0.57     10398\n",
      "\n"
     ]
    },
    {
     "name": "stderr",
     "output_type": "stream",
     "text": [
      "C:\\Users\\Alaa\\anaconda3\\lib\\site-packages\\sklearn\\metrics\\_classification.py:1221: UndefinedMetricWarning: Precision and F-score are ill-defined and being set to 0.0 in labels with no predicted samples. Use `zero_division` parameter to control this behavior.\n",
      "  _warn_prf(average, modifier, msg_start, len(result))\n"
     ]
    }
   ],
   "source": [
    "#Linear Support Vector Machine\n",
    "from sklearn.linear_model import SGDClassifier\n",
    "\n",
    "sgd = Pipeline([('vect', CountVectorizer()),\n",
    "                ('tfidf', TfidfTransformer()),\n",
    "                ('clf', SGDClassifier(loss='hinge', penalty='l2',alpha=1e-3, random_state=42, max_iter=5, tol=None)),\n",
    "               ])\n",
    "sgd.fit(X_train, y_train)\n",
    "\n",
    "%matplotlib inline\n",
    "\n",
    "y_pred = sgd.predict(X_test)\n",
    "\n",
    "print('accuracy %s' % accuracy_score(y_pred, y_test))\n",
    "print(classification_report(y_test, y_pred,target_names= rate))"
   ]
  },
  {
   "cell_type": "code",
   "execution_count": null,
   "metadata": {},
   "outputs": [],
   "source": []
  }
 ],
 "metadata": {
  "kernelspec": {
   "display_name": "Python 3",
   "language": "python",
   "name": "python3"
  },
  "language_info": {
   "codemirror_mode": {
    "name": "ipython",
    "version": 3
   },
   "file_extension": ".py",
   "mimetype": "text/x-python",
   "name": "python",
   "nbconvert_exporter": "python",
   "pygments_lexer": "ipython3",
   "version": "3.8.3"
  }
 },
 "nbformat": 4,
 "nbformat_minor": 4
}
