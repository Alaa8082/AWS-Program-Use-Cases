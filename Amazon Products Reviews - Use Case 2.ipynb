{
 "cells": [
  {
   "cell_type": "markdown",
   "metadata": {},
   "source": [
    "# Amazon Products Reviews - Use Case 2"
   ]
  },
  {
   "cell_type": "markdown",
   "metadata": {},
   "source": [
    "#### by/Alaa Hassan"
   ]
  },
  {
   "cell_type": "markdown",
   "metadata": {},
   "source": [
    "### NLP Approach to Mining Online Reviews using Topic Modeling \n",
    "##### Let’s first load all the necessary libraries:"
   ]
  },
  {
   "cell_type": "code",
   "execution_count": 1,
   "metadata": {},
   "outputs": [],
   "source": [
    "import nltk\n",
    "from nltk import FreqDist\n"
   ]
  },
  {
   "cell_type": "code",
   "execution_count": 2,
   "metadata": {},
   "outputs": [],
   "source": [
    "import pandas as pd\n",
    "pd.set_option(\"display.max_colwidth\", 200)\n",
    "import numpy as np\n",
    "import re\n",
    "import spacy\n",
    "\n",
    "import gensim\n",
    "from gensim import corpora\n",
    "\n",
    "# libraries for visualization\n",
    "import pyLDAvis\n",
    "import pyLDAvis.gensim\n",
    "import matplotlib.pyplot as plt\n",
    "import seaborn as sns\n",
    "%matplotlib inline"
   ]
  },
  {
   "cell_type": "code",
   "execution_count": 3,
   "metadata": {},
   "outputs": [],
   "source": [
    "df = pd.read_csv(r'F:\\A-W-S\\UseCases\\Use Case 2\\Data\\1429_1.csv.zip' ,low_memory=False)\n"
   ]
  },
  {
   "cell_type": "code",
   "execution_count": 4,
   "metadata": {},
   "outputs": [
    {
     "data": {
      "text/html": [
       "<div>\n",
       "<style scoped>\n",
       "    .dataframe tbody tr th:only-of-type {\n",
       "        vertical-align: middle;\n",
       "    }\n",
       "\n",
       "    .dataframe tbody tr th {\n",
       "        vertical-align: top;\n",
       "    }\n",
       "\n",
       "    .dataframe thead th {\n",
       "        text-align: right;\n",
       "    }\n",
       "</style>\n",
       "<table border=\"1\" class=\"dataframe\">\n",
       "  <thead>\n",
       "    <tr style=\"text-align: right;\">\n",
       "      <th></th>\n",
       "      <th>id</th>\n",
       "      <th>name</th>\n",
       "      <th>asins</th>\n",
       "      <th>brand</th>\n",
       "      <th>categories</th>\n",
       "      <th>keys</th>\n",
       "      <th>manufacturer</th>\n",
       "      <th>reviews.date</th>\n",
       "      <th>reviews.dateAdded</th>\n",
       "      <th>reviews.dateSeen</th>\n",
       "      <th>...</th>\n",
       "      <th>reviews.doRecommend</th>\n",
       "      <th>reviews.id</th>\n",
       "      <th>reviews.numHelpful</th>\n",
       "      <th>reviews.rating</th>\n",
       "      <th>reviews.sourceURLs</th>\n",
       "      <th>reviews.text</th>\n",
       "      <th>reviews.title</th>\n",
       "      <th>reviews.userCity</th>\n",
       "      <th>reviews.userProvince</th>\n",
       "      <th>reviews.username</th>\n",
       "    </tr>\n",
       "  </thead>\n",
       "  <tbody>\n",
       "    <tr>\n",
       "      <th>0</th>\n",
       "      <td>AVqkIhwDv8e3D1O-lebb</td>\n",
       "      <td>All-New Fire HD 8 Tablet, 8 HD Display, Wi-Fi, 16 GB - Includes Special Offers, Magenta</td>\n",
       "      <td>B01AHB9CN2</td>\n",
       "      <td>Amazon</td>\n",
       "      <td>Electronics,iPad &amp; Tablets,All Tablets,Fire Tablets,Tablets,Computers &amp; Tablets</td>\n",
       "      <td>841667104676,amazon/53004484,amazon/b01ahb9cn2,0841667104676,allnewfirehd8tablet8hddisplaywifi16gbincludesspecialoffersmagenta/5620406,allnewfirehd8tablet8hddisplaywifi16gbincludesspecialoffersmag...</td>\n",
       "      <td>Amazon</td>\n",
       "      <td>2017-01-13T00:00:00.000Z</td>\n",
       "      <td>2017-07-03T23:33:15Z</td>\n",
       "      <td>2017-06-07T09:04:00.000Z,2017-04-30T00:45:00.000Z</td>\n",
       "      <td>...</td>\n",
       "      <td>True</td>\n",
       "      <td>NaN</td>\n",
       "      <td>0.0</td>\n",
       "      <td>5.0</td>\n",
       "      <td>http://reviews.bestbuy.com/3545/5620406/reviews.htm?format=embedded&amp;page=200,http://reviews.bestbuy.com/3545/5620406/reviews.htm?format=embedded&amp;page=166</td>\n",
       "      <td>This product so far has not disappointed. My children love to use it and I like the ability to monitor control what content they see with ease.</td>\n",
       "      <td>Kindle</td>\n",
       "      <td>NaN</td>\n",
       "      <td>NaN</td>\n",
       "      <td>Adapter</td>\n",
       "    </tr>\n",
       "    <tr>\n",
       "      <th>1</th>\n",
       "      <td>AVqkIhwDv8e3D1O-lebb</td>\n",
       "      <td>All-New Fire HD 8 Tablet, 8 HD Display, Wi-Fi, 16 GB - Includes Special Offers, Magenta</td>\n",
       "      <td>B01AHB9CN2</td>\n",
       "      <td>Amazon</td>\n",
       "      <td>Electronics,iPad &amp; Tablets,All Tablets,Fire Tablets,Tablets,Computers &amp; Tablets</td>\n",
       "      <td>841667104676,amazon/53004484,amazon/b01ahb9cn2,0841667104676,allnewfirehd8tablet8hddisplaywifi16gbincludesspecialoffersmagenta/5620406,allnewfirehd8tablet8hddisplaywifi16gbincludesspecialoffersmag...</td>\n",
       "      <td>Amazon</td>\n",
       "      <td>2017-01-13T00:00:00.000Z</td>\n",
       "      <td>2017-07-03T23:33:15Z</td>\n",
       "      <td>2017-06-07T09:04:00.000Z,2017-04-30T00:45:00.000Z</td>\n",
       "      <td>...</td>\n",
       "      <td>True</td>\n",
       "      <td>NaN</td>\n",
       "      <td>0.0</td>\n",
       "      <td>5.0</td>\n",
       "      <td>http://reviews.bestbuy.com/3545/5620406/reviews.htm?format=embedded&amp;page=200,http://reviews.bestbuy.com/3545/5620406/reviews.htm?format=embedded&amp;page=167</td>\n",
       "      <td>great for beginner or experienced person. Bought as a gift and she loves it</td>\n",
       "      <td>very fast</td>\n",
       "      <td>NaN</td>\n",
       "      <td>NaN</td>\n",
       "      <td>truman</td>\n",
       "    </tr>\n",
       "    <tr>\n",
       "      <th>2</th>\n",
       "      <td>AVqkIhwDv8e3D1O-lebb</td>\n",
       "      <td>All-New Fire HD 8 Tablet, 8 HD Display, Wi-Fi, 16 GB - Includes Special Offers, Magenta</td>\n",
       "      <td>B01AHB9CN2</td>\n",
       "      <td>Amazon</td>\n",
       "      <td>Electronics,iPad &amp; Tablets,All Tablets,Fire Tablets,Tablets,Computers &amp; Tablets</td>\n",
       "      <td>841667104676,amazon/53004484,amazon/b01ahb9cn2,0841667104676,allnewfirehd8tablet8hddisplaywifi16gbincludesspecialoffersmagenta/5620406,allnewfirehd8tablet8hddisplaywifi16gbincludesspecialoffersmag...</td>\n",
       "      <td>Amazon</td>\n",
       "      <td>2017-01-13T00:00:00.000Z</td>\n",
       "      <td>2017-07-03T23:33:15Z</td>\n",
       "      <td>2017-06-07T09:04:00.000Z,2017-04-30T00:45:00.000Z</td>\n",
       "      <td>...</td>\n",
       "      <td>True</td>\n",
       "      <td>NaN</td>\n",
       "      <td>0.0</td>\n",
       "      <td>5.0</td>\n",
       "      <td>http://reviews.bestbuy.com/3545/5620406/reviews.htm?format=embedded&amp;page=200,http://reviews.bestbuy.com/3545/5620406/reviews.htm?format=embedded&amp;page=167</td>\n",
       "      <td>Inexpensive tablet for him to use and learn on, step up from the NABI. He was thrilled with it, learn how to Skype on it already...</td>\n",
       "      <td>Beginner tablet for our 9 year old son.</td>\n",
       "      <td>NaN</td>\n",
       "      <td>NaN</td>\n",
       "      <td>DaveZ</td>\n",
       "    </tr>\n",
       "    <tr>\n",
       "      <th>3</th>\n",
       "      <td>AVqkIhwDv8e3D1O-lebb</td>\n",
       "      <td>All-New Fire HD 8 Tablet, 8 HD Display, Wi-Fi, 16 GB - Includes Special Offers, Magenta</td>\n",
       "      <td>B01AHB9CN2</td>\n",
       "      <td>Amazon</td>\n",
       "      <td>Electronics,iPad &amp; Tablets,All Tablets,Fire Tablets,Tablets,Computers &amp; Tablets</td>\n",
       "      <td>841667104676,amazon/53004484,amazon/b01ahb9cn2,0841667104676,allnewfirehd8tablet8hddisplaywifi16gbincludesspecialoffersmagenta/5620406,allnewfirehd8tablet8hddisplaywifi16gbincludesspecialoffersmag...</td>\n",
       "      <td>Amazon</td>\n",
       "      <td>2017-01-13T00:00:00.000Z</td>\n",
       "      <td>2017-07-03T23:33:15Z</td>\n",
       "      <td>2017-06-07T09:04:00.000Z,2017-04-30T00:45:00.000Z</td>\n",
       "      <td>...</td>\n",
       "      <td>True</td>\n",
       "      <td>NaN</td>\n",
       "      <td>0.0</td>\n",
       "      <td>4.0</td>\n",
       "      <td>http://reviews.bestbuy.com/3545/5620406/reviews.htm?format=embedded&amp;page=200,http://reviews.bestbuy.com/3545/5620406/reviews.htm?format=embedded&amp;page=167</td>\n",
       "      <td>I've had my Fire HD 8 two weeks now and I love it. This tablet is a great value.We are Prime Members and that is where this tablet SHINES. I love being able to easily access all of the Prime conte...</td>\n",
       "      <td>Good!!!</td>\n",
       "      <td>NaN</td>\n",
       "      <td>NaN</td>\n",
       "      <td>Shacks</td>\n",
       "    </tr>\n",
       "    <tr>\n",
       "      <th>4</th>\n",
       "      <td>AVqkIhwDv8e3D1O-lebb</td>\n",
       "      <td>All-New Fire HD 8 Tablet, 8 HD Display, Wi-Fi, 16 GB - Includes Special Offers, Magenta</td>\n",
       "      <td>B01AHB9CN2</td>\n",
       "      <td>Amazon</td>\n",
       "      <td>Electronics,iPad &amp; Tablets,All Tablets,Fire Tablets,Tablets,Computers &amp; Tablets</td>\n",
       "      <td>841667104676,amazon/53004484,amazon/b01ahb9cn2,0841667104676,allnewfirehd8tablet8hddisplaywifi16gbincludesspecialoffersmagenta/5620406,allnewfirehd8tablet8hddisplaywifi16gbincludesspecialoffersmag...</td>\n",
       "      <td>Amazon</td>\n",
       "      <td>2017-01-12T00:00:00.000Z</td>\n",
       "      <td>2017-07-03T23:33:15Z</td>\n",
       "      <td>2017-06-07T09:04:00.000Z,2017-04-30T00:45:00.000Z</td>\n",
       "      <td>...</td>\n",
       "      <td>True</td>\n",
       "      <td>NaN</td>\n",
       "      <td>0.0</td>\n",
       "      <td>5.0</td>\n",
       "      <td>http://reviews.bestbuy.com/3545/5620406/reviews.htm?format=embedded&amp;page=200,http://reviews.bestbuy.com/3545/5620406/reviews.htm?format=embedded&amp;page=167</td>\n",
       "      <td>I bought this for my grand daughter when she comes over to visit. I set it up with her as the user, entered her age and name and now Amazon makes sure that she only accesses sites and content that...</td>\n",
       "      <td>Fantastic Tablet for kids</td>\n",
       "      <td>NaN</td>\n",
       "      <td>NaN</td>\n",
       "      <td>explore42</td>\n",
       "    </tr>\n",
       "  </tbody>\n",
       "</table>\n",
       "<p>5 rows × 21 columns</p>\n",
       "</div>"
      ],
      "text/plain": [
       "                     id  \\\n",
       "0  AVqkIhwDv8e3D1O-lebb   \n",
       "1  AVqkIhwDv8e3D1O-lebb   \n",
       "2  AVqkIhwDv8e3D1O-lebb   \n",
       "3  AVqkIhwDv8e3D1O-lebb   \n",
       "4  AVqkIhwDv8e3D1O-lebb   \n",
       "\n",
       "                                                                                      name  \\\n",
       "0  All-New Fire HD 8 Tablet, 8 HD Display, Wi-Fi, 16 GB - Includes Special Offers, Magenta   \n",
       "1  All-New Fire HD 8 Tablet, 8 HD Display, Wi-Fi, 16 GB - Includes Special Offers, Magenta   \n",
       "2  All-New Fire HD 8 Tablet, 8 HD Display, Wi-Fi, 16 GB - Includes Special Offers, Magenta   \n",
       "3  All-New Fire HD 8 Tablet, 8 HD Display, Wi-Fi, 16 GB - Includes Special Offers, Magenta   \n",
       "4  All-New Fire HD 8 Tablet, 8 HD Display, Wi-Fi, 16 GB - Includes Special Offers, Magenta   \n",
       "\n",
       "        asins   brand  \\\n",
       "0  B01AHB9CN2  Amazon   \n",
       "1  B01AHB9CN2  Amazon   \n",
       "2  B01AHB9CN2  Amazon   \n",
       "3  B01AHB9CN2  Amazon   \n",
       "4  B01AHB9CN2  Amazon   \n",
       "\n",
       "                                                                        categories  \\\n",
       "0  Electronics,iPad & Tablets,All Tablets,Fire Tablets,Tablets,Computers & Tablets   \n",
       "1  Electronics,iPad & Tablets,All Tablets,Fire Tablets,Tablets,Computers & Tablets   \n",
       "2  Electronics,iPad & Tablets,All Tablets,Fire Tablets,Tablets,Computers & Tablets   \n",
       "3  Electronics,iPad & Tablets,All Tablets,Fire Tablets,Tablets,Computers & Tablets   \n",
       "4  Electronics,iPad & Tablets,All Tablets,Fire Tablets,Tablets,Computers & Tablets   \n",
       "\n",
       "                                                                                                                                                                                                      keys  \\\n",
       "0  841667104676,amazon/53004484,amazon/b01ahb9cn2,0841667104676,allnewfirehd8tablet8hddisplaywifi16gbincludesspecialoffersmagenta/5620406,allnewfirehd8tablet8hddisplaywifi16gbincludesspecialoffersmag...   \n",
       "1  841667104676,amazon/53004484,amazon/b01ahb9cn2,0841667104676,allnewfirehd8tablet8hddisplaywifi16gbincludesspecialoffersmagenta/5620406,allnewfirehd8tablet8hddisplaywifi16gbincludesspecialoffersmag...   \n",
       "2  841667104676,amazon/53004484,amazon/b01ahb9cn2,0841667104676,allnewfirehd8tablet8hddisplaywifi16gbincludesspecialoffersmagenta/5620406,allnewfirehd8tablet8hddisplaywifi16gbincludesspecialoffersmag...   \n",
       "3  841667104676,amazon/53004484,amazon/b01ahb9cn2,0841667104676,allnewfirehd8tablet8hddisplaywifi16gbincludesspecialoffersmagenta/5620406,allnewfirehd8tablet8hddisplaywifi16gbincludesspecialoffersmag...   \n",
       "4  841667104676,amazon/53004484,amazon/b01ahb9cn2,0841667104676,allnewfirehd8tablet8hddisplaywifi16gbincludesspecialoffersmagenta/5620406,allnewfirehd8tablet8hddisplaywifi16gbincludesspecialoffersmag...   \n",
       "\n",
       "  manufacturer              reviews.date     reviews.dateAdded  \\\n",
       "0       Amazon  2017-01-13T00:00:00.000Z  2017-07-03T23:33:15Z   \n",
       "1       Amazon  2017-01-13T00:00:00.000Z  2017-07-03T23:33:15Z   \n",
       "2       Amazon  2017-01-13T00:00:00.000Z  2017-07-03T23:33:15Z   \n",
       "3       Amazon  2017-01-13T00:00:00.000Z  2017-07-03T23:33:15Z   \n",
       "4       Amazon  2017-01-12T00:00:00.000Z  2017-07-03T23:33:15Z   \n",
       "\n",
       "                                    reviews.dateSeen  ... reviews.doRecommend  \\\n",
       "0  2017-06-07T09:04:00.000Z,2017-04-30T00:45:00.000Z  ...                True   \n",
       "1  2017-06-07T09:04:00.000Z,2017-04-30T00:45:00.000Z  ...                True   \n",
       "2  2017-06-07T09:04:00.000Z,2017-04-30T00:45:00.000Z  ...                True   \n",
       "3  2017-06-07T09:04:00.000Z,2017-04-30T00:45:00.000Z  ...                True   \n",
       "4  2017-06-07T09:04:00.000Z,2017-04-30T00:45:00.000Z  ...                True   \n",
       "\n",
       "  reviews.id  reviews.numHelpful  reviews.rating  \\\n",
       "0        NaN                 0.0             5.0   \n",
       "1        NaN                 0.0             5.0   \n",
       "2        NaN                 0.0             5.0   \n",
       "3        NaN                 0.0             4.0   \n",
       "4        NaN                 0.0             5.0   \n",
       "\n",
       "                                                                                                                                          reviews.sourceURLs  \\\n",
       "0  http://reviews.bestbuy.com/3545/5620406/reviews.htm?format=embedded&page=200,http://reviews.bestbuy.com/3545/5620406/reviews.htm?format=embedded&page=166   \n",
       "1  http://reviews.bestbuy.com/3545/5620406/reviews.htm?format=embedded&page=200,http://reviews.bestbuy.com/3545/5620406/reviews.htm?format=embedded&page=167   \n",
       "2  http://reviews.bestbuy.com/3545/5620406/reviews.htm?format=embedded&page=200,http://reviews.bestbuy.com/3545/5620406/reviews.htm?format=embedded&page=167   \n",
       "3  http://reviews.bestbuy.com/3545/5620406/reviews.htm?format=embedded&page=200,http://reviews.bestbuy.com/3545/5620406/reviews.htm?format=embedded&page=167   \n",
       "4  http://reviews.bestbuy.com/3545/5620406/reviews.htm?format=embedded&page=200,http://reviews.bestbuy.com/3545/5620406/reviews.htm?format=embedded&page=167   \n",
       "\n",
       "                                                                                                                                                                                              reviews.text  \\\n",
       "0                                                          This product so far has not disappointed. My children love to use it and I like the ability to monitor control what content they see with ease.   \n",
       "1                                                                                                                              great for beginner or experienced person. Bought as a gift and she loves it   \n",
       "2                                                                      Inexpensive tablet for him to use and learn on, step up from the NABI. He was thrilled with it, learn how to Skype on it already...   \n",
       "3  I've had my Fire HD 8 two weeks now and I love it. This tablet is a great value.We are Prime Members and that is where this tablet SHINES. I love being able to easily access all of the Prime conte...   \n",
       "4  I bought this for my grand daughter when she comes over to visit. I set it up with her as the user, entered her age and name and now Amazon makes sure that she only accesses sites and content that...   \n",
       "\n",
       "                             reviews.title reviews.userCity  \\\n",
       "0                                   Kindle              NaN   \n",
       "1                                very fast              NaN   \n",
       "2  Beginner tablet for our 9 year old son.              NaN   \n",
       "3                                  Good!!!              NaN   \n",
       "4                Fantastic Tablet for kids              NaN   \n",
       "\n",
       "   reviews.userProvince  reviews.username  \n",
       "0                   NaN           Adapter  \n",
       "1                   NaN            truman  \n",
       "2                   NaN             DaveZ  \n",
       "3                   NaN            Shacks  \n",
       "4                   NaN         explore42  \n",
       "\n",
       "[5 rows x 21 columns]"
      ]
     },
     "execution_count": 4,
     "metadata": {},
     "output_type": "execute_result"
    }
   ],
   "source": [
    "df.head()"
   ]
  },
  {
   "cell_type": "code",
   "execution_count": 5,
   "metadata": {},
   "outputs": [],
   "source": [
    "# Drop unnecessary columns\n",
    "df = df.drop(['id', 'name', 'asins', 'brand', 'categories', 'keys', 'manufacturer',\n",
    "       'reviews.date', 'reviews.dateAdded', 'reviews.dateSeen',\n",
    "       'reviews.didPurchase', 'reviews.doRecommend', 'reviews.id',\n",
    "       'reviews.numHelpful','reviews.sourceURLs','reviews.title', 'reviews.userCity',\n",
    "       'reviews.userProvince', 'reviews.username'],axis=1)"
   ]
  },
  {
   "cell_type": "code",
   "execution_count": 6,
   "metadata": {},
   "outputs": [
    {
     "data": {
      "text/plain": [
       "array([ 5.,  4.,  2.,  1.,  3., nan])"
      ]
     },
     "execution_count": 6,
     "metadata": {},
     "output_type": "execute_result"
    }
   ],
   "source": [
    "pd.set_option('display.max_columns', 10)\n",
    "df['reviews.rating'].unique()"
   ]
  },
  {
   "cell_type": "code",
   "execution_count": 7,
   "metadata": {},
   "outputs": [],
   "source": [
    "df['reviews.rating'] = df['reviews.rating'].fillna(0)\n"
   ]
  },
  {
   "cell_type": "code",
   "execution_count": 8,
   "metadata": {},
   "outputs": [],
   "source": [
    "df['reviews.text'] = df['reviews.text'].astype('str')"
   ]
  },
  {
   "cell_type": "code",
   "execution_count": 9,
   "metadata": {},
   "outputs": [],
   "source": [
    "df['reviews.rating'] = df['reviews.rating'].astype('int')"
   ]
  },
  {
   "cell_type": "code",
   "execution_count": 10,
   "metadata": {
    "scrolled": true
   },
   "outputs": [
    {
     "name": "stdout",
     "output_type": "stream",
     "text": [
      "<class 'pandas.core.frame.DataFrame'>\n",
      "RangeIndex: 34660 entries, 0 to 34659\n",
      "Data columns (total 2 columns):\n",
      " #   Column          Non-Null Count  Dtype \n",
      "---  ------          --------------  ----- \n",
      " 0   reviews.rating  34660 non-null  int32 \n",
      " 1   reviews.text    34660 non-null  object\n",
      "dtypes: int32(1), object(1)\n",
      "memory usage: 406.3+ KB\n"
     ]
    }
   ],
   "source": [
    "df.info()"
   ]
  },
  {
   "cell_type": "markdown",
   "metadata": {},
   "source": [
    "#### Duplicate the imbalanced data\n"
   ]
  },
  {
   "cell_type": "code",
   "execution_count": 11,
   "metadata": {},
   "outputs": [
    {
     "data": {
      "text/html": [
       "<div>\n",
       "<style scoped>\n",
       "    .dataframe tbody tr th:only-of-type {\n",
       "        vertical-align: middle;\n",
       "    }\n",
       "\n",
       "    .dataframe tbody tr th {\n",
       "        vertical-align: top;\n",
       "    }\n",
       "\n",
       "    .dataframe thead th {\n",
       "        text-align: right;\n",
       "    }\n",
       "</style>\n",
       "<table border=\"1\" class=\"dataframe\">\n",
       "  <thead>\n",
       "    <tr style=\"text-align: right;\">\n",
       "      <th></th>\n",
       "      <th>reviews.rating</th>\n",
       "      <th>reviews.text</th>\n",
       "    </tr>\n",
       "  </thead>\n",
       "  <tbody>\n",
       "    <tr>\n",
       "      <th>117</th>\n",
       "      <td>2</td>\n",
       "      <td>Didn't have some of the features I was looking for. Returned it the next day. May be good for others</td>\n",
       "    </tr>\n",
       "    <tr>\n",
       "      <th>117</th>\n",
       "      <td>2</td>\n",
       "      <td>Didn't have some of the features I was looking for. Returned it the next day. May be good for others</td>\n",
       "    </tr>\n",
       "    <tr>\n",
       "      <th>117</th>\n",
       "      <td>2</td>\n",
       "      <td>Didn't have some of the features I was looking for. Returned it the next day. May be good for others</td>\n",
       "    </tr>\n",
       "    <tr>\n",
       "      <th>117</th>\n",
       "      <td>2</td>\n",
       "      <td>Didn't have some of the features I was looking for. Returned it the next day. May be good for others</td>\n",
       "    </tr>\n",
       "    <tr>\n",
       "      <th>117</th>\n",
       "      <td>2</td>\n",
       "      <td>Didn't have some of the features I was looking for. Returned it the next day. May be good for others</td>\n",
       "    </tr>\n",
       "  </tbody>\n",
       "</table>\n",
       "</div>"
      ],
      "text/plain": [
       "     reviews.rating  \\\n",
       "117               2   \n",
       "117               2   \n",
       "117               2   \n",
       "117               2   \n",
       "117               2   \n",
       "\n",
       "                                                                                             reviews.text  \n",
       "117  Didn't have some of the features I was looking for. Returned it the next day. May be good for others  \n",
       "117  Didn't have some of the features I was looking for. Returned it the next day. May be good for others  \n",
       "117  Didn't have some of the features I was looking for. Returned it the next day. May be good for others  \n",
       "117  Didn't have some of the features I was looking for. Returned it the next day. May be good for others  \n",
       "117  Didn't have some of the features I was looking for. Returned it the next day. May be good for others  "
      ]
     },
     "execution_count": 11,
     "metadata": {},
     "output_type": "execute_result"
    }
   ],
   "source": [
    "# duplicate DataFrame3 x 100\n",
    "df1 = df[df['reviews.rating'].le(2)]\n",
    "df1=df1.loc[df1.index.repeat(100)]\n",
    "df1.head()"
   ]
  },
  {
   "cell_type": "code",
   "execution_count": 12,
   "metadata": {},
   "outputs": [],
   "source": [
    "df2 = df[df['reviews.rating'].eq(3)]\n",
    "df2=df2.loc[df2.index.repeat(30)]\n"
   ]
  },
  {
   "cell_type": "code",
   "execution_count": 13,
   "metadata": {},
   "outputs": [],
   "source": [
    "df3 = df[df['reviews.rating'].eq(4)]\n",
    "df3=df3.loc[df3.index.repeat(4)]\n"
   ]
  },
  {
   "cell_type": "code",
   "execution_count": 14,
   "metadata": {},
   "outputs": [],
   "source": [
    "df4 = df[df['reviews.rating'].eq(5)]\n",
    "df4=df4.loc[df4.index.repeat(2)]"
   ]
  },
  {
   "cell_type": "code",
   "execution_count": 15,
   "metadata": {},
   "outputs": [
    {
     "data": {
      "text/html": [
       "<div>\n",
       "<style scoped>\n",
       "    .dataframe tbody tr th:only-of-type {\n",
       "        vertical-align: middle;\n",
       "    }\n",
       "\n",
       "    .dataframe tbody tr th {\n",
       "        vertical-align: top;\n",
       "    }\n",
       "\n",
       "    .dataframe thead th {\n",
       "        text-align: right;\n",
       "    }\n",
       "</style>\n",
       "<table border=\"1\" class=\"dataframe\">\n",
       "  <thead>\n",
       "    <tr style=\"text-align: right;\">\n",
       "      <th></th>\n",
       "      <th>reviews.rating</th>\n",
       "      <th>reviews.text</th>\n",
       "    </tr>\n",
       "  </thead>\n",
       "  <tbody>\n",
       "    <tr>\n",
       "      <th>117</th>\n",
       "      <td>2</td>\n",
       "      <td>Didn't have some of the features I was looking for. Returned it the next day. May be good for others</td>\n",
       "    </tr>\n",
       "    <tr>\n",
       "      <th>117</th>\n",
       "      <td>2</td>\n",
       "      <td>Didn't have some of the features I was looking for. Returned it the next day. May be good for others</td>\n",
       "    </tr>\n",
       "    <tr>\n",
       "      <th>117</th>\n",
       "      <td>2</td>\n",
       "      <td>Didn't have some of the features I was looking for. Returned it the next day. May be good for others</td>\n",
       "    </tr>\n",
       "    <tr>\n",
       "      <th>117</th>\n",
       "      <td>2</td>\n",
       "      <td>Didn't have some of the features I was looking for. Returned it the next day. May be good for others</td>\n",
       "    </tr>\n",
       "    <tr>\n",
       "      <th>117</th>\n",
       "      <td>2</td>\n",
       "      <td>Didn't have some of the features I was looking for. Returned it the next day. May be good for others</td>\n",
       "    </tr>\n",
       "  </tbody>\n",
       "</table>\n",
       "</div>"
      ],
      "text/plain": [
       "     reviews.rating  \\\n",
       "117               2   \n",
       "117               2   \n",
       "117               2   \n",
       "117               2   \n",
       "117               2   \n",
       "\n",
       "                                                                                             reviews.text  \n",
       "117  Didn't have some of the features I was looking for. Returned it the next day. May be good for others  \n",
       "117  Didn't have some of the features I was looking for. Returned it the next day. May be good for others  \n",
       "117  Didn't have some of the features I was looking for. Returned it the next day. May be good for others  \n",
       "117  Didn't have some of the features I was looking for. Returned it the next day. May be good for others  \n",
       "117  Didn't have some of the features I was looking for. Returned it the next day. May be good for others  "
      ]
     },
     "execution_count": 15,
     "metadata": {},
     "output_type": "execute_result"
    }
   ],
   "source": [
    "df1 = pd.DataFrame(df1, columns = ['reviews.rating', 'reviews.text'])\n",
    "df2 = pd.DataFrame(df2, columns = ['reviews.rating', 'reviews.text'])\n",
    "df3 = pd.DataFrame(df3, columns = ['reviews.rating', 'reviews.text'])\n",
    "df4 = pd.DataFrame(df4, columns = ['reviews.rating', 'reviews.text'])\n",
    "\n",
    "\n",
    "df = pd.concat([df1,df2, df3,df3,df4])\n",
    "df.head()"
   ]
  },
  {
   "cell_type": "code",
   "execution_count": 16,
   "metadata": {},
   "outputs": [
    {
     "data": {
      "text/plain": [
       "0     3300\n",
       "2    40200\n",
       "1    41000\n",
       "3    44970\n",
       "5    47550\n",
       "4    68328\n",
       "Name: reviews.rating, dtype: int64"
      ]
     },
     "execution_count": 16,
     "metadata": {},
     "output_type": "execute_result"
    }
   ],
   "source": [
    "df['reviews.rating'].value_counts(ascending=True)"
   ]
  },
  {
   "cell_type": "code",
   "execution_count": 17,
   "metadata": {},
   "outputs": [
    {
     "data": {
      "image/png": "[encoded data removed]",
      "text/plain": [
       "<Figure size 432x288 with 1 Axes>"
      ]
     },
     "metadata": {
      "needs_background": "light"
     },
     "output_type": "display_data"
    }
   ],
   "source": [
    "rate = ['0','1','2','3','4','5']\n",
    "plt.figure(figsize= (6,4))\n",
    "df['reviews.rating'].value_counts().plot(kind='bar');"
   ]
  },
  {
   "cell_type": "markdown",
   "metadata": {},
   "source": [
    "#### Data Preprocessing"
   ]
  },
  {
   "cell_type": "code",
   "execution_count": 18,
   "metadata": {},
   "outputs": [],
   "source": [
    "# function to plot most frequent terms\n",
    "def freq_words(x, terms = 30):\n",
    "  all_words = ' '.join([text for text in x])\n",
    "  all_words = all_words.split()\n",
    "\n",
    "  fdist = FreqDist(all_words)\n",
    "  words_df = pd.DataFrame({'word':list(fdist.keys()), 'count':list(fdist.values())})\n",
    "\n",
    "  # selecting top 20 most frequent words\n",
    "  d = words_df.nlargest(columns=\"count\", n = terms) \n",
    "  plt.figure(figsize=(20,5))\n",
    "  ax = sns.barplot(data=d, x= \"word\", y = \"count\")\n",
    "  ax.set(ylabel = 'Count')\n",
    "  plt.show()"
   ]
  },
  {
   "cell_type": "code",
   "execution_count": 19,
   "metadata": {},
   "outputs": [
    {
     "data": {
      "image/png": "[encoded data removed]",
      "text/plain": [
       "<Figure size 1440x360 with 1 Axes>"
      ]
     },
     "metadata": {
      "needs_background": "light"
     },
     "output_type": "display_data"
    }
   ],
   "source": [
    "freq_words(df['reviews.text'])\n"
   ]
  },
  {
   "cell_type": "code",
   "execution_count": 20,
   "metadata": {},
   "outputs": [],
   "source": [
    "# remove unwanted characters, numbers and symbols\n",
    "df['reviews.text'] = df['reviews.text'].str.replace(\"[^a-zA-Z#]\", \" \")"
   ]
  },
  {
   "cell_type": "code",
   "execution_count": 21,
   "metadata": {},
   "outputs": [],
   "source": [
    "from nltk.corpus import stopwords\n",
    "stop_words = stopwords.words('english')"
   ]
  },
  {
   "cell_type": "code",
   "execution_count": 22,
   "metadata": {},
   "outputs": [],
   "source": [
    "# function to remove stopwords\n",
    "def remove_stopwords(rev):\n",
    "    rev_new = \" \".join([i for i in rev if i not in stop_words])\n",
    "    return rev_new\n",
    "\n",
    "# remove short words (length < 3)\n",
    "df['reviews.text'] = df['reviews.text'].apply(lambda x: ' '.join([w for w in x.split() if len(w)>2]))\n",
    "\n",
    "# remove stopwords from the text\n",
    "reviews = [remove_stopwords(r.split()) for r in df['reviews.text']]\n",
    "\n",
    "# make entire text lowercase\n",
    "reviews = [r.lower() for r in reviews]"
   ]
  },
  {
   "cell_type": "code",
   "execution_count": 23,
   "metadata": {},
   "outputs": [
    {
     "data": {
      "image/png": "[encoded data removed]",
      "text/plain": [
       "<Figure size 1440x360 with 1 Axes>"
      ]
     },
     "metadata": {
      "needs_background": "light"
     },
     "output_type": "display_data"
    }
   ],
   "source": [
    "freq_words(reviews, 35)"
   ]
  },
  {
   "cell_type": "code",
   "execution_count": 24,
   "metadata": {},
   "outputs": [],
   "source": [
    "nlp = spacy.load('en_core_web_sm', disable=['parser', 'ner'])\n",
    "\n",
    "def lemmatization(texts, tags=['NOUN', 'ADJ']): # filter noun and adjective\n",
    "       output = []\n",
    "       for sent in texts:\n",
    "             doc = nlp(\" \".join(sent)) \n",
    "             output.append([token.lemma_ for token in doc if token.pos_ in tags])\n",
    "       return output"
   ]
  },
  {
   "cell_type": "code",
   "execution_count": 25,
   "metadata": {},
   "outputs": [
    {
     "name": "stdout",
     "output_type": "stream",
     "text": [
      "['didn', 'features', 'looking', 'returned', 'next', 'day', 'may', 'good', 'others']\n"
     ]
    }
   ],
   "source": [
    "tokenized_reviews = pd.Series(reviews).apply(lambda x: x.split())\n",
    "print(tokenized_reviews[1])"
   ]
  },
  {
   "cell_type": "code",
   "execution_count": 26,
   "metadata": {},
   "outputs": [
    {
     "name": "stdout",
     "output_type": "stream",
     "text": [
      "['next', 'day', 'other']\n"
     ]
    }
   ],
   "source": [
    "reviews_2 = lemmatization(tokenized_reviews)\n",
    "print(reviews_2[1]) # print lemmatized review"
   ]
  },
  {
   "cell_type": "code",
   "execution_count": 27,
   "metadata": {},
   "outputs": [
    {
     "data": {
      "image/png": "[encoded data removed]",
      "text/plain": [
       "<Figure size 1440x360 with 1 Axes>"
      ]
     },
     "metadata": {
      "needs_background": "light"
     },
     "output_type": "display_data"
    }
   ],
   "source": [
    "reviews_3 = []\n",
    "for i in range(len(reviews_2)):\n",
    "    reviews_3.append(' '.join(reviews_2[i]))\n",
    "\n",
    "df['reviews'] = reviews_3\n",
    "\n",
    "freq_words(df['reviews'], 35)"
   ]
  },
  {
   "cell_type": "markdown",
   "metadata": {},
   "source": [
    "#### Building an LDA model"
   ]
  },
  {
   "cell_type": "code",
   "execution_count": 28,
   "metadata": {},
   "outputs": [],
   "source": [
    "dictionary = corpora.Dictionary(reviews_2)\n"
   ]
  },
  {
   "cell_type": "code",
   "execution_count": 29,
   "metadata": {},
   "outputs": [],
   "source": [
    "doc_term_matrix = [dictionary.doc2bow(rev) for rev in reviews_2]\n"
   ]
  },
  {
   "cell_type": "code",
   "execution_count": 30,
   "metadata": {},
   "outputs": [],
   "source": [
    "# Creating the object for LDA model using gensim library\n",
    "LDA = gensim.models.ldamodel.LdaModel\n",
    "\n",
    "# Build LDA model\n",
    "lda_model = LDA(corpus=doc_term_matrix, id2word=dictionary, num_topics=7, random_state=100,\n",
    "                chunksize=1000, passes=50)"
   ]
  },
  {
   "cell_type": "code",
   "execution_count": 31,
   "metadata": {},
   "outputs": [
    {
     "data": {
      "text/plain": [
       "[(0,\n",
       "  '0.059*\"light\" + 0.051*\"device\" + 0.044*\"fast\" + 0.039*\"able\" + 0.025*\"small\" + 0.025*\"setup\" + 0.024*\"option\" + 0.023*\"reader\" + 0.022*\"simple\" + 0.020*\"news\"'),\n",
       " (1,\n",
       "  '0.145*\"good\" + 0.116*\"product\" + 0.043*\"box\" + 0.031*\"purchase\" + 0.029*\"price\" + 0.027*\"smart\" + 0.024*\"feature\" + 0.023*\"control\" + 0.021*\"amazing\" + 0.018*\"wife\"'),\n",
       " (2,\n",
       "  '0.145*\"fire\" + 0.062*\"cable\" + 0.053*\"movie\" + 0.040*\"stick\" + 0.039*\"new\" + 0.031*\"screen\" + 0.027*\"happy\" + 0.026*\"day\" + 0.025*\"way\" + 0.024*\"excellent\"'),\n",
       " (3,\n",
       "  '0.075*\"tablet\" + 0.060*\"time\" + 0.059*\"app\" + 0.045*\"thing\" + 0.040*\"kid\" + 0.035*\"many\" + 0.033*\"gift\" + 0.026*\"play\" + 0.024*\"money\" + 0.022*\"lot\"'),\n",
       " (4,\n",
       "  '0.139*\"easy\" + 0.126*\"use\" + 0.051*\"book\" + 0.041*\"kindle\" + 0.038*\"old\" + 0.037*\"year\" + 0.036*\"game\" + 0.035*\"home\" + 0.029*\"nice\" + 0.027*\"speaker\"'),\n",
       " (5,\n",
       "  '0.140*\"love\" + 0.069*\"music\" + 0.040*\"work\" + 0.034*\"family\" + 0.033*\"much\" + 0.032*\"item\" + 0.031*\"fun\" + 0.030*\"perfect\" + 0.029*\"weather\" + 0.027*\"question\"'),\n",
       " (6,\n",
       "  '0.217*\"great\" + 0.041*\"echo\" + 0.038*\"device\" + 0.031*\"quality\" + 0.030*\"voice\" + 0.028*\"streaming\" + 0.026*\"sound\" + 0.025*\"alexa\" + 0.023*\"price\" + 0.021*\"music\"')]"
      ]
     },
     "execution_count": 31,
     "metadata": {},
     "output_type": "execute_result"
    }
   ],
   "source": [
    "lda_model.print_topics()\n"
   ]
  },
  {
   "cell_type": "code",
   "execution_count": 32,
   "metadata": {},
   "outputs": [
    {
     "data": {
      "text/plain": [
       "[(0,\n",
       "  '0.059*\"light\" + 0.051*\"device\" + 0.044*\"fast\" + 0.039*\"able\" + 0.025*\"small\" + 0.025*\"setup\" + 0.024*\"option\" + 0.023*\"reader\" + 0.022*\"simple\" + 0.020*\"news\"'),\n",
       " (1,\n",
       "  '0.145*\"good\" + 0.116*\"product\" + 0.043*\"box\" + 0.031*\"purchase\" + 0.029*\"price\" + 0.027*\"smart\" + 0.024*\"feature\" + 0.023*\"control\" + 0.021*\"amazing\" + 0.018*\"wife\"'),\n",
       " (2,\n",
       "  '0.145*\"fire\" + 0.062*\"cable\" + 0.053*\"movie\" + 0.040*\"stick\" + 0.039*\"new\" + 0.031*\"screen\" + 0.027*\"happy\" + 0.026*\"day\" + 0.025*\"way\" + 0.024*\"excellent\"'),\n",
       " (3,\n",
       "  '0.075*\"tablet\" + 0.060*\"time\" + 0.059*\"app\" + 0.045*\"thing\" + 0.040*\"kid\" + 0.035*\"many\" + 0.033*\"gift\" + 0.026*\"play\" + 0.024*\"money\" + 0.022*\"lot\"'),\n",
       " (4,\n",
       "  '0.139*\"easy\" + 0.126*\"use\" + 0.051*\"book\" + 0.041*\"kindle\" + 0.038*\"old\" + 0.037*\"year\" + 0.036*\"game\" + 0.035*\"home\" + 0.029*\"nice\" + 0.027*\"speaker\"'),\n",
       " (5,\n",
       "  '0.140*\"love\" + 0.069*\"music\" + 0.040*\"work\" + 0.034*\"family\" + 0.033*\"much\" + 0.032*\"item\" + 0.031*\"fun\" + 0.030*\"perfect\" + 0.029*\"weather\" + 0.027*\"question\"'),\n",
       " (6,\n",
       "  '0.217*\"great\" + 0.041*\"echo\" + 0.038*\"device\" + 0.031*\"quality\" + 0.030*\"voice\" + 0.028*\"streaming\" + 0.026*\"sound\" + 0.025*\"alexa\" + 0.023*\"price\" + 0.021*\"music\"')]"
      ]
     },
     "execution_count": 32,
     "metadata": {},
     "output_type": "execute_result"
    }
   ],
   "source": [
    "# Print the Keyword in the 10 topics\n",
    "lda_model.print_topics()"
   ]
  },
  {
   "cell_type": "markdown",
   "metadata": {},
   "source": [
    "#### Topics Visualization"
   ]
  },
  {
   "cell_type": "code",
   "execution_count": 33,
   "metadata": {},
   "outputs": [
    {
     "data": {
      "text/html": [
       "\n",
       "<link rel=\"stylesheet\" type=\"text/css\" href=\"https://cdn.rawgit.com/bmabey/pyLDAvis/files/ldavis.v1.0.0.css\">\n",
       "\n",
       "\n",
       "<div id=\"ldavis_el10049620227523957295359\"></div>\n",
       "<script type=\"text/javascript\">\n",
       "\n",
       "var ldavis_el10049620227523957295359_data = {\"mdsDat\": {\"x\": [0.17451003122754238, 0.06567287766394303, 0.14525575227203713, 0.20240166870969128, -0.21597220891885702, -0.04669540018622688, -0.32517272076813003], \"y\": [0.08807745618608051, -0.24304412245378176, 0.1971040874772917, -0.22564481328076624, 0.05374723854891732, 0.2565155517305051, -0.1267553982082468], \"topics\": [1, 2, 3, 4, 5, 6, 7], \"cluster\": [1, 1, 1, 1, 1, 1, 1], \"Freq\": [20.030128479003906, 14.958955764770508, 14.7640380859375, 14.113320350646973, 13.712915420532227, 12.087562561035156, 10.333076477050781]}, \"tinfo\": {\"Term\": [\"great\", \"good\", \"fire\", \"easy\", \"use\", \"product\", \"love\", \"tablet\", \"time\", \"cable\", \"music\", \"app\", \"light\", \"movie\", \"device\", \"book\", \"kid\", \"thing\", \"box\", \"kindle\", \"many\", \"echo\", \"fast\", \"stick\", \"new\", \"gift\", \"old\", \"year\", \"game\", \"able\", \"tablet\", \"time\", \"kid\", \"many\", \"gift\", \"play\", \"money\", \"access\", \"buy\", \"unit\", \"user\", \"friendly\", \"different\", \"store\", \"recommend\", \"extra\", \"fact\", \"bill\", \"capability\", \"android\", \"card\", \"navigate\", \"storage\", \"update\", \"birthday\", \"help\", \"travel\", \"touch\", \"hard\", \"reason\", \"app\", \"thing\", \"available\", \"little\", \"worth\", \"lot\", \"content\", \"device\", \"amazing\", \"good\", \"product\", \"box\", \"purchase\", \"smart\", \"feature\", \"control\", \"wife\", \"battery\", \"issue\", \"reading\", \"life\", \"phone\", \"system\", \"cord\", \"high\", \"right\", \"cheap\", \"entertainment\", \"netflix\", \"review\", \"hour\", \"buffering\", \"ethernet\", \"value\", \"responsive\", \"full\", \"computer\", \"large\", \"handy\", \"amazing\", \"price\", \"remote\", \"worth\", \"easy\", \"use\", \"book\", \"kindle\", \"old\", \"year\", \"game\", \"home\", \"nice\", \"speaker\", \"free\", \"size\", \"daughter\", \"command\", \"download\", \"show\", \"ipad\", \"version\", \"program\", \"husband\", \"model\", \"ton\", \"market\", \"library\", \"expensive\", \"cost\", \"mother\", \"smooth\", \"lighting\", \"paper\", \"app\", \"lot\", \"well\", \"paperwhite\", \"fire\", \"cable\", \"movie\", \"stick\", \"new\", \"screen\", \"happy\", \"day\", \"way\", \"excellent\", \"video\", \"watch\", \"problem\", \"one\", \"first\", \"long\", \"month\", \"second\", \"case\", \"night\", \"quick\", \"portable\", \"week\", \"playstation\", \"wonderful\", \"clear\", \"charge\", \"couple\", \"charger\", \"future\", \"remote\", \"thing\", \"little\", \"great\", \"echo\", \"quality\", \"voice\", \"streaming\", \"sound\", \"alexa\", \"awesome\", \"room\", \"prime\", \"service\", \"apple\", \"internet\", \"house\", \"picture\", \"dot\", \"stream\", \"member\", \"sale\", \"connection\", \"child\", \"enough\", \"bedroom\", \"information\", \"need\", \"song\", \"convenient\", \"account\", \"processor\", \"stuff\", \"well\", \"device\", \"price\", \"music\", \"light\", \"fast\", \"able\", \"small\", \"setup\", \"option\", \"reader\", \"simple\", \"news\", \"set\", \"favorite\", \"big\", \"addition\", \"channel\", \"speed\", \"eye\", \"firetv\", \"useful\", \"page\", \"firestick\", \"technology\", \"ease\", \"helpful\", \"cover\", \"turn\", \"original\", \"overall\", \"button\", \"job\", \"part\", \"device\", \"hand\", \"content\", \"lot\", \"love\", \"work\", \"family\", \"much\", \"item\", \"fun\", \"perfect\", \"weather\", \"question\", \"friend\", \"list\", \"son\", \"memory\", \"shopping\", \"several\", \"answer\", \"tap\", \"timer\", \"fantastic\", \"alarm\", \"automation\", \"people\", \"joke\", \"mom\", \"morning\", \"space\", \"wireless\", \"sport\", \"radio\", \"selection\", \"music\", \"whole\"], \"Freq\": [75930.0, 55232.0, 52221.0, 52191.0, 47359.0, 44370.0, 36803.0, 38152.0, 30442.0, 22453.0, 25723.0, 36644.0, 18128.0, 18998.0, 34070.0, 19054.0, 20298.0, 27942.0, 16333.0, 15431.0, 17959.0, 14359.0, 13486.0, 14471.0, 14089.0, 17093.0, 14321.0, 13976.0, 13672.0, 11981.0, 38151.6328125, 30441.18359375, 20296.984375, 17958.15234375, 17092.6484375, 13159.2802734375, 12141.953125, 8709.345703125, 8615.193359375, 8066.77587890625, 7470.29736328125, 6121.72216796875, 5842.45751953125, 5635.228515625, 5626.99755859375, 5252.53515625, 4798.96240234375, 4670.0478515625, 4577.33935546875, 4187.63916015625, 3977.548828125, 3615.28759765625, 3517.38134765625, 3404.9755859375, 3350.879638671875, 2697.190673828125, 2640.917724609375, 2622.5703125, 2551.676513671875, 2522.456298828125, 30362.490234375, 22741.345703125, 7512.4443359375, 11240.0830078125, 8714.5087890625, 11245.2548828125, 6623.20556640625, 5016.49951171875, 3720.537353515625, 55231.234375, 44369.609375, 16332.3798828125, 11804.4580078125, 10347.9453125, 9126.8466796875, 8590.287109375, 6903.14794921875, 6864.64697265625, 6540.46044921875, 6480.72412109375, 6168.77685546875, 6170.080078125, 4793.34619140625, 4795.80078125, 3612.804931640625, 3608.628173828125, 3416.48486328125, 3277.476806640625, 3137.26708984375, 3068.8583984375, 2770.81201171875, 2777.42333984375, 2738.562744140625, 2695.7109375, 2438.979736328125, 2437.711181640625, 2260.151611328125, 2248.361572265625, 2217.677001953125, 7988.40625, 10923.162109375, 3743.249267578125, 3537.1142578125, 52190.5625, 47358.28515625, 19053.287109375, 15430.1865234375, 14320.03125, 13975.1025390625, 13671.82421875, 13115.966796875, 10937.1259765625, 10193.580078125, 8538.6533203125, 7401.150390625, 6591.7421875, 5477.2431640625, 4654.5791015625, 4369.7490234375, 3861.092041015625, 3654.4736328125, 3498.6748046875, 3192.210693359375, 3157.155517578125, 3049.194091796875, 2529.020263671875, 2416.320556640625, 2395.444091796875, 2119.14501953125, 2004.3876953125, 2000.35693359375, 1930.0955810546875, 1895.1473388671875, 6280.92431640625, 4682.94482421875, 3492.698486328125, 2192.751953125, 52220.12890625, 22452.259765625, 18997.822265625, 14469.9208984375, 14088.54296875, 11025.73828125, 9579.4111328125, 9451.9931640625, 9159.6015625, 8647.0732421875, 6441.52734375, 6069.79345703125, 5734.712890625, 5272.96337890625, 5239.42041015625, 5169.2275390625, 4919.14306640625, 4851.22900390625, 4284.1015625, 3549.5341796875, 3449.0302734375, 3419.050048828125, 3273.741943359375, 3193.05859375, 3013.12890625, 2918.040771484375, 2535.759521484375, 2105.9384765625, 1892.9014892578125, 1822.686767578125, 5508.169921875, 5200.27392578125, 2450.6220703125, 75929.421875, 14358.53125, 10996.6044921875, 10388.439453125, 9620.1123046875, 9249.0654296875, 8632.7275390625, 7386.021484375, 6790.50830078125, 5667.69140625, 5152.5537109375, 5019.48388671875, 4993.89892578125, 4787.2119140625, 4753.02880859375, 4438.82080078125, 4412.0068359375, 4234.46923828125, 3082.3232421875, 2886.27099609375, 2690.766845703125, 2319.44970703125, 2303.085693359375, 2221.29931640625, 2206.8564453125, 2199.3798828125, 2129.435302734375, 2048.29150390625, 1823.494873046875, 1817.2750244140625, 7089.80224609375, 13436.142578125, 8067.01513671875, 7419.7763671875, 18127.498046875, 13485.7470703125, 11980.7275390625, 7802.93701171875, 7718.6494140625, 7380.4990234375, 7160.16259765625, 6856.20947265625, 6033.82470703125, 5391.55126953125, 5207.94580078125, 5118.65625, 4073.9677734375, 3956.49609375, 3860.427734375, 3719.18798828125, 3699.838134765625, 3642.484130859375, 3019.69970703125, 3044.26513671875, 2918.1044921875, 2828.381591796875, 2794.650146484375, 2702.76904296875, 2656.633056640625, 2652.428955078125, 2604.6015625, 2445.76708984375, 2384.058837890625, 2193.775634765625, 15616.841796875, 3218.718994140625, 2623.873779296875, 2676.02490234375, 36802.77734375, 10579.81640625, 8960.8330078125, 8687.1767578125, 8302.869140625, 8246.982421875, 7904.59228515625, 7676.6767578125, 7105.1171875, 6055.7578125, 5463.201171875, 3747.5712890625, 3563.018310546875, 3376.4072265625, 3313.916015625, 3151.4033203125, 2707.5888671875, 2599.1630859375, 2265.327392578125, 2196.96923828125, 2013.8468017578125, 1989.76611328125, 1973.9923095703125, 1843.3836669921875, 1712.1634521484375, 1679.8712158203125, 1646.7342529296875, 1601.620361328125, 1593.8299560546875, 1515.2286376953125, 18302.671875, 1785.267578125], \"Total\": [75930.0, 55232.0, 52221.0, 52191.0, 47359.0, 44370.0, 36803.0, 38152.0, 30442.0, 22453.0, 25723.0, 36644.0, 18128.0, 18998.0, 34070.0, 19054.0, 20298.0, 27942.0, 16333.0, 15431.0, 17959.0, 14359.0, 13486.0, 14471.0, 14089.0, 17093.0, 14321.0, 13976.0, 13672.0, 11981.0, 38152.68359375, 30442.240234375, 20298.037109375, 17959.2109375, 17093.701171875, 13160.3369140625, 12143.009765625, 8710.40234375, 8616.2490234375, 8067.83349609375, 7471.35205078125, 6122.7763671875, 5843.51416015625, 5636.28466796875, 5628.05419921875, 5253.59228515625, 4800.01953125, 4671.109375, 4578.396484375, 4188.6943359375, 3978.603515625, 3616.34375, 3518.436767578125, 3406.033935546875, 3351.9345703125, 2698.248291015625, 2641.972900390625, 2623.62744140625, 2552.733154296875, 2523.512939453125, 36644.2734375, 27942.48828125, 8546.1962890625, 13691.572265625, 12252.4912109375, 18604.892578125, 9247.9453125, 34070.203125, 11709.8095703125, 55232.3671875, 44370.7421875, 16333.5234375, 11805.595703125, 10349.0859375, 9127.984375, 8591.423828125, 6904.28515625, 6865.78271484375, 6541.59814453125, 6481.8603515625, 6169.91259765625, 6171.21728515625, 4794.484375, 4796.94384765625, 3613.943115234375, 3609.766357421875, 3417.62158203125, 3278.615966796875, 3138.407958984375, 3069.998046875, 2771.94970703125, 2778.57080078125, 2739.708740234375, 2696.846923828125, 2440.11865234375, 2438.850830078125, 2261.2890625, 2249.49951171875, 2218.81494140625, 11709.8095703125, 18991.171875, 9252.37109375, 12252.4912109375, 52191.69140625, 47359.4140625, 19054.416015625, 15431.3173828125, 14321.162109375, 13976.2333984375, 13672.955078125, 13117.103515625, 10938.2568359375, 10194.71484375, 8539.787109375, 7402.2802734375, 6592.87158203125, 5478.3798828125, 4655.7099609375, 4370.88671875, 3862.221435546875, 3655.60546875, 3499.8095703125, 3193.342529296875, 3158.28759765625, 3050.32861328125, 2530.15576171875, 2417.451416015625, 2396.57666015625, 2120.27685546875, 2005.5167236328125, 2001.495849609375, 1931.2269287109375, 1896.2786865234375, 36644.2734375, 18604.892578125, 12424.5078125, 3574.235107421875, 52221.265625, 22453.40234375, 18998.962890625, 14471.0595703125, 14089.6806640625, 11026.875, 9580.548828125, 9453.130859375, 9160.7392578125, 8648.2109375, 6442.6650390625, 6070.93115234375, 5735.849609375, 5274.1005859375, 5240.55810546875, 5170.3642578125, 4920.28173828125, 4852.36669921875, 4285.23828125, 3550.671630859375, 3450.169189453125, 3420.189208984375, 3274.87939453125, 3194.197998046875, 3014.26708984375, 2919.17822265625, 2536.895751953125, 2107.076171875, 1894.0382080078125, 1823.826416015625, 9252.37109375, 27942.48828125, 13691.572265625, 75930.609375, 14359.716796875, 10997.7890625, 10389.625, 9621.302734375, 9250.25, 8633.9130859375, 7387.20751953125, 6791.6943359375, 5668.87744140625, 5153.7412109375, 5020.671875, 4995.0859375, 4788.3984375, 4754.21435546875, 4440.0048828125, 4413.197265625, 4235.65673828125, 3083.50830078125, 2887.45947265625, 2691.949951171875, 2320.63720703125, 2304.2724609375, 2222.484375, 2208.041748046875, 2200.566162109375, 2130.620361328125, 2049.478759765625, 1824.68408203125, 1818.4609375, 12424.5078125, 34070.203125, 18991.171875, 25723.484375, 18128.630859375, 13486.884765625, 11981.8623046875, 7804.06982421875, 7719.78515625, 7381.63525390625, 7161.29443359375, 6857.34423828125, 6034.9619140625, 5392.68701171875, 5209.0810546875, 5119.79052734375, 4075.102783203125, 3957.638427734375, 3861.56494140625, 3720.320068359375, 3700.979736328125, 3643.61865234375, 3020.83154296875, 3045.4091796875, 2919.239013671875, 2829.51513671875, 2795.784912109375, 2703.902587890625, 2657.766357421875, 2653.562744140625, 2605.73583984375, 2446.901123046875, 2385.192626953125, 2194.91064453125, 34070.203125, 4759.41259765625, 9247.9453125, 18604.892578125, 36803.95703125, 10580.9951171875, 8962.0107421875, 8688.35546875, 8304.046875, 8248.1591796875, 7905.77001953125, 7677.853515625, 7106.2939453125, 6056.935546875, 5464.37890625, 3748.747802734375, 3564.198974609375, 3377.583740234375, 3315.09716796875, 3152.579833984375, 2708.773681640625, 2600.340087890625, 2266.5068359375, 2198.145751953125, 2015.025146484375, 1990.94580078125, 1975.1693115234375, 1844.560302734375, 1713.3404541015625, 1681.050537109375, 1647.916748046875, 1602.7984619140625, 1595.0067138671875, 1516.4117431640625, 25723.484375, 2472.57177734375], \"Category\": [\"Default\", \"Default\", \"Default\", \"Default\", \"Default\", \"Default\", \"Default\", \"Default\", \"Default\", \"Default\", \"Default\", \"Default\", \"Default\", \"Default\", \"Default\", \"Default\", \"Default\", \"Default\", \"Default\", \"Default\", \"Default\", \"Default\", \"Default\", \"Default\", \"Default\", \"Default\", \"Default\", \"Default\", \"Default\", \"Default\", \"Topic1\", \"Topic1\", \"Topic1\", \"Topic1\", \"Topic1\", \"Topic1\", \"Topic1\", \"Topic1\", \"Topic1\", \"Topic1\", \"Topic1\", \"Topic1\", \"Topic1\", \"Topic1\", \"Topic1\", \"Topic1\", \"Topic1\", \"Topic1\", \"Topic1\", \"Topic1\", \"Topic1\", \"Topic1\", \"Topic1\", \"Topic1\", \"Topic1\", \"Topic1\", \"Topic1\", \"Topic1\", \"Topic1\", \"Topic1\", \"Topic1\", \"Topic1\", \"Topic1\", \"Topic1\", \"Topic1\", \"Topic1\", \"Topic1\", \"Topic1\", \"Topic1\", \"Topic2\", \"Topic2\", \"Topic2\", \"Topic2\", \"Topic2\", \"Topic2\", \"Topic2\", \"Topic2\", \"Topic2\", \"Topic2\", \"Topic2\", \"Topic2\", \"Topic2\", \"Topic2\", \"Topic2\", \"Topic2\", \"Topic2\", \"Topic2\", \"Topic2\", \"Topic2\", \"Topic2\", \"Topic2\", \"Topic2\", \"Topic2\", \"Topic2\", \"Topic2\", \"Topic2\", \"Topic2\", \"Topic2\", \"Topic2\", \"Topic2\", \"Topic2\", \"Topic2\", \"Topic2\", \"Topic3\", \"Topic3\", \"Topic3\", \"Topic3\", \"Topic3\", \"Topic3\", \"Topic3\", \"Topic3\", \"Topic3\", \"Topic3\", \"Topic3\", \"Topic3\", \"Topic3\", \"Topic3\", \"Topic3\", \"Topic3\", \"Topic3\", \"Topic3\", \"Topic3\", \"Topic3\", \"Topic3\", \"Topic3\", \"Topic3\", \"Topic3\", \"Topic3\", \"Topic3\", \"Topic3\", \"Topic3\", \"Topic3\", \"Topic3\", \"Topic3\", \"Topic3\", \"Topic3\", \"Topic3\", \"Topic4\", \"Topic4\", \"Topic4\", \"Topic4\", \"Topic4\", \"Topic4\", \"Topic4\", \"Topic4\", \"Topic4\", \"Topic4\", \"Topic4\", \"Topic4\", \"Topic4\", \"Topic4\", \"Topic4\", \"Topic4\", \"Topic4\", \"Topic4\", \"Topic4\", \"Topic4\", \"Topic4\", \"Topic4\", \"Topic4\", \"Topic4\", \"Topic4\", \"Topic4\", \"Topic4\", \"Topic4\", \"Topic4\", \"Topic4\", \"Topic4\", \"Topic4\", \"Topic4\", \"Topic5\", \"Topic5\", \"Topic5\", \"Topic5\", \"Topic5\", \"Topic5\", \"Topic5\", \"Topic5\", \"Topic5\", \"Topic5\", \"Topic5\", \"Topic5\", \"Topic5\", \"Topic5\", \"Topic5\", \"Topic5\", \"Topic5\", \"Topic5\", \"Topic5\", \"Topic5\", \"Topic5\", \"Topic5\", \"Topic5\", \"Topic5\", \"Topic5\", \"Topic5\", \"Topic5\", \"Topic5\", \"Topic5\", \"Topic5\", \"Topic5\", \"Topic5\", \"Topic5\", \"Topic5\", \"Topic6\", \"Topic6\", \"Topic6\", \"Topic6\", \"Topic6\", \"Topic6\", \"Topic6\", \"Topic6\", \"Topic6\", \"Topic6\", \"Topic6\", \"Topic6\", \"Topic6\", \"Topic6\", \"Topic6\", \"Topic6\", \"Topic6\", \"Topic6\", \"Topic6\", \"Topic6\", \"Topic6\", \"Topic6\", \"Topic6\", \"Topic6\", \"Topic6\", \"Topic6\", \"Topic6\", \"Topic6\", \"Topic6\", \"Topic6\", \"Topic6\", \"Topic6\", \"Topic6\", \"Topic6\", \"Topic7\", \"Topic7\", \"Topic7\", \"Topic7\", \"Topic7\", \"Topic7\", \"Topic7\", \"Topic7\", \"Topic7\", \"Topic7\", \"Topic7\", \"Topic7\", \"Topic7\", \"Topic7\", \"Topic7\", \"Topic7\", \"Topic7\", \"Topic7\", \"Topic7\", \"Topic7\", \"Topic7\", \"Topic7\", \"Topic7\", \"Topic7\", \"Topic7\", \"Topic7\", \"Topic7\", \"Topic7\", \"Topic7\", \"Topic7\", \"Topic7\", \"Topic7\"], \"logprob\": [30.0, 29.0, 28.0, 27.0, 26.0, 25.0, 24.0, 23.0, 22.0, 21.0, 20.0, 19.0, 18.0, 17.0, 16.0, 15.0, 14.0, 13.0, 12.0, 11.0, 10.0, 9.0, 8.0, 7.0, 6.0, 5.0, 4.0, 3.0, 2.0, 1.0, -2.5945000648498535, -2.8203001022338867, -3.225600004196167, -3.3480000495910645, -3.39739990234375, -3.6589999198913574, -3.7393999099731445, -4.071700096130371, -4.082600116729736, -4.1483001708984375, -4.225100040435791, -4.424200057983398, -4.470900058746338, -4.506999969482422, -4.508500099182129, -4.577400207519531, -4.667699813842773, -4.694900035858154, -4.715000152587891, -4.803899765014648, -4.855400085449219, -4.950900077819824, -4.978400230407715, -5.010799884796143, -5.026899814605713, -5.243899822235107, -5.264999866485596, -5.271900177001953, -5.299300193786621, -5.310800075531006, -2.8229000568389893, -3.1119000911712646, -4.2195000648498535, -3.8166000843048096, -4.071100234985352, -3.8160998821258545, -4.3454999923706055, -4.623300075531006, -4.9222002029418945, -1.9326000213623047, -2.151599884033203, -3.1510000228881836, -3.4756999015808105, -3.6073999404907227, -3.7328999042510986, -3.7934999465942383, -4.012199878692627, -4.0177998542785645, -4.066100120544434, -4.075300216674805, -4.12470006942749, -4.1244001388549805, -4.3769001960754395, -4.376399993896484, -4.6596999168396, -4.660799980163574, -4.7154998779296875, -4.7571001052856445, -4.80079984664917, -4.822800159454346, -4.925000190734863, -4.922599792480469, -4.936699867248535, -4.952499866485596, -5.052599906921387, -5.053100109100342, -5.128699779510498, -5.133999824523926, -5.14769983291626, -3.8661999702453613, -3.553299903869629, -4.624199867248535, -4.680799961090088, -1.976099967956543, -2.0732998847961426, -2.983799934387207, -3.194700002670288, -3.269399881362915, -3.293800115585327, -3.315700054168701, -3.3571999073028564, -3.5388998985290527, -3.609299898147583, -3.786400079727173, -3.9293999671936035, -4.045199871063232, -4.230400085449219, -4.393199920654297, -4.456299781799316, -4.580100059509277, -4.6350998878479, -4.678699970245361, -4.770299911499023, -4.781400203704834, -4.816199779510498, -5.003200054168701, -5.048799991607666, -5.057499885559082, -5.179999828338623, -5.2357001304626465, -5.23769998550415, -5.273499965667725, -5.2916998863220215, -4.093500137329102, -4.3871002197265625, -4.6803998947143555, -5.145899772644043, -1.9305000305175781, -2.774600028991699, -2.9416000843048096, -3.213900089263916, -3.240600109100342, -3.4856998920440674, -3.626300096511841, -3.639699935913086, -3.6712000370025635, -3.7286999225616455, -4.023200035095215, -4.082600116729736, -4.139400005340576, -4.223400115966797, -4.229800224304199, -4.243199825286865, -4.292799949645996, -4.306700229644775, -4.431099891662598, -4.619100093841553, -4.647900104522705, -4.656599998474121, -4.699999809265137, -4.724999904632568, -4.7829999923706055, -4.815000057220459, -4.95550012588501, -5.141200065612793, -5.247799873352051, -5.285600185394287, -4.179699897766113, -4.237199783325195, -4.98960018157959, -1.527400016784668, -3.1928000450134277, -3.4595999717712402, -3.5164999961853027, -3.5933001041412354, -3.632699966430664, -3.7016000747680664, -3.857599973678589, -3.941699981689453, -4.122399806976318, -4.217700004577637, -4.243899822235107, -4.249000072479248, -4.291200160980225, -4.298399925231934, -4.366799831390381, -4.372900009155273, -4.413899898529053, -4.731500148773193, -4.7972002029418945, -4.867400169372559, -5.0157999992370605, -5.022900104522705, -5.059100151062012, -5.0655999183654785, -5.068999767303467, -5.10129976272583, -5.140200138092041, -5.256400108337402, -5.259799957275391, -3.8984999656677246, -3.259200096130371, -3.769399881362915, -3.8529999256134033, -2.8336000442504883, -3.1294000148773193, -3.2476999759674072, -3.676500082015991, -3.6874001026153564, -3.7321999073028564, -3.762500047683716, -3.8059000968933105, -3.9335999488830566, -4.046199798583984, -4.0808000564575195, -4.098100185394287, -4.326399803161621, -4.3557000160217285, -4.380199909210205, -4.417500019073486, -4.422699928283691, -4.438399791717529, -4.625899791717529, -4.617800235748291, -4.660099983215332, -4.691299915313721, -4.7032999992370605, -4.736700057983398, -4.754000186920166, -4.755499839782715, -4.77370023727417, -4.836699962615967, -4.862199783325195, -4.945400238037109, -2.9827001094818115, -4.561999797821045, -4.76639986038208, -4.746699810028076, -1.9686000347137451, -3.2151999473571777, -3.3812999725341797, -3.4123001098632812, -3.4576001167297363, -3.4642999172210693, -3.506700038909912, -3.5360000133514404, -3.6133999824523926, -3.773200035095215, -3.876199960708618, -4.2530999183654785, -4.303599834442139, -4.357399940490723, -4.376100063323975, -4.426300048828125, -4.578100204467773, -4.61899995803833, -4.756499767303467, -4.787099838256836, -4.874100208282471, -4.886199951171875, -4.894100189208984, -4.962600231170654, -5.036399841308594, -5.055500030517578, -5.075399875640869, -5.1031999588012695, -5.108099937438965, -5.158599853515625, -2.667099952697754, -4.99459981918335], \"loglift\": [30.0, 29.0, 28.0, 27.0, 26.0, 25.0, 24.0, 23.0, 22.0, 21.0, 20.0, 19.0, 18.0, 17.0, 16.0, 15.0, 14.0, 13.0, 12.0, 11.0, 10.0, 9.0, 8.0, 7.0, 6.0, 5.0, 4.0, 3.0, 2.0, 1.0, 1.6079000234603882, 1.6079000234603882, 1.6079000234603882, 1.6079000234603882, 1.6079000234603882, 1.6079000234603882, 1.607800006866455, 1.607800006866455, 1.607800006866455, 1.607800006866455, 1.607800006866455, 1.607800006866455, 1.607800006866455, 1.607699990272522, 1.607699990272522, 1.607699990272522, 1.607699990272522, 1.607699990272522, 1.607699990272522, 1.607699990272522, 1.607699990272522, 1.6075999736785889, 1.6075999736785889, 1.6075999736785889, 1.6075999736785889, 1.6074999570846558, 1.6074999570846558, 1.6074999570846558, 1.6074999570846558, 1.6074999570846558, 1.4198999404907227, 1.4019999504089355, 1.4789999723434448, 1.410599946975708, 1.267199993133545, 1.1045000553131104, 1.2740999460220337, -0.3077999949455261, 0.46140000224113464, 1.8997999429702759, 1.8997999429702759, 1.8997999429702759, 1.8997999429702759, 1.8997000455856323, 1.8997000455856323, 1.8997000455856323, 1.8997000455856323, 1.8997000455856323, 1.8997000455856323, 1.8997000455856323, 1.8997000455856323, 1.8997000455856323, 1.8996000289916992, 1.8996000289916992, 1.8995000123977661, 1.8995000123977661, 1.8995000123977661, 1.8995000123977661, 1.8995000123977661, 1.8995000123977661, 1.899399995803833, 1.899399995803833, 1.899399995803833, 1.899399995803833, 1.899399995803833, 1.899399995803833, 1.899399995803833, 1.899399995803833, 1.8992999792099, 1.5174000263214111, 1.3467999696731567, 0.9948999881744385, 0.6574000120162964, 1.9129999876022339, 1.9129999876022339, 1.9128999710083008, 1.9128999710083008, 1.9128999710083008, 1.9128999710083008, 1.9128999710083008, 1.9128999710083008, 1.9128999710083008, 1.9128999710083008, 1.9127999544143677, 1.9127999544143677, 1.9127999544143677, 1.9127999544143677, 1.9127000570297241, 1.9127000570297241, 1.9127000570297241, 1.9127000570297241, 1.9127000570297241, 1.912600040435791, 1.912600040435791, 1.912600040435791, 1.912500023841858, 1.912500023841858, 1.912500023841858, 1.9124000072479248, 1.9124000072479248, 1.9124000072479248, 1.9124000072479248, 1.9124000072479248, 0.14920000731945038, 0.5335000157356262, 0.6439999938011169, 1.424399971961975, 1.9579999446868896, 1.9579999446868896, 1.9579999446868896, 1.9579999446868896, 1.9579999446868896, 1.957900047302246, 1.957900047302246, 1.957900047302246, 1.957900047302246, 1.957900047302246, 1.957900047302246, 1.957900047302246, 1.957900047302246, 1.957800030708313, 1.957800030708313, 1.957800030708313, 1.957800030708313, 1.957800030708313, 1.957800030708313, 1.9577000141143799, 1.9577000141143799, 1.9577000141143799, 1.9577000141143799, 1.9577000141143799, 1.9577000141143799, 1.9577000141143799, 1.9575999975204468, 1.9574999809265137, 1.9574999809265137, 1.9573999643325806, 1.4393999576568604, 0.2766000032424927, 0.23759999871253967, 1.986799955368042, 1.9867000579833984, 1.9867000579833984, 1.9867000579833984, 1.9867000579833984, 1.9867000579833984, 1.9867000579833984, 1.9867000579833984, 1.9867000579833984, 1.9866000413894653, 1.9866000413894653, 1.9866000413894653, 1.9866000413894653, 1.9866000413894653, 1.9866000413894653, 1.9866000413894653, 1.9866000413894653, 1.9866000413894653, 1.9864000082015991, 1.9864000082015991, 1.9864000082015991, 1.986299991607666, 1.986299991607666, 1.986299991607666, 1.986299991607666, 1.986299991607666, 1.986299991607666, 1.986299991607666, 1.986199975013733, 1.986199975013733, 1.4257999658584595, 1.056399941444397, 1.1305999755859375, 0.7436000108718872, 2.1129000186920166, 2.1129000186920166, 2.1129000186920166, 2.112799882888794, 2.112799882888794, 2.112799882888794, 2.112799882888794, 2.112799882888794, 2.112799882888794, 2.112799882888794, 2.112799882888794, 2.112799882888794, 2.1126999855041504, 2.1126999855041504, 2.1126999855041504, 2.1126999855041504, 2.1126999855041504, 2.1126999855041504, 2.112600088119507, 2.112600088119507, 2.112600088119507, 2.112600088119507, 2.112600088119507, 2.112600088119507, 2.112600088119507, 2.112600088119507, 2.112600088119507, 2.112499952316284, 2.112499952316284, 2.112499952316284, 1.332900047302246, 1.7218999862670898, 0.8532000184059143, 0.17389999330043793, 2.2697999477386475, 2.269700050354004, 2.269700050354004, 2.269700050354004, 2.269700050354004, 2.269700050354004, 2.269700050354004, 2.269700050354004, 2.269700050354004, 2.2695999145507812, 2.2695999145507812, 2.2695000171661377, 2.2695000171661377, 2.2695000171661377, 2.2695000171661377, 2.269399881362915, 2.269399881362915, 2.269399881362915, 2.2692999839782715, 2.2692999839782715, 2.269200086593628, 2.269200086593628, 2.269200086593628, 2.269200086593628, 2.2690999507904053, 2.2690999507904053, 2.2690999507904053, 2.2690999507904053, 2.2690999507904053, 2.2690000534057617, 1.9294999837875366, 1.944100022315979]}, \"token.table\": {\"Topic\": [6, 1, 5, 6, 7, 5, 1, 2, 1, 7, 1, 3, 5, 7, 1, 3, 5, 2, 5, 6, 1, 1, 3, 2, 2, 6, 1, 4, 1, 1, 4, 6, 4, 4, 2, 5, 4, 3, 2, 5, 1, 6, 2, 5, 2, 3, 4, 6, 3, 4, 1, 5, 6, 1, 5, 3, 6, 3, 5, 5, 2, 2, 4, 3, 1, 6, 1, 7, 7, 6, 6, 2, 4, 6, 6, 4, 3, 7, 1, 2, 7, 4, 3, 1, 2, 5, 3, 6, 2, 4, 1, 1, 6, 2, 3, 2, 5, 3, 5, 5, 3, 2, 7, 6, 7, 1, 3, 2, 3, 2, 6, 3, 7, 1, 4, 4, 1, 3, 6, 7, 1, 3, 5, 7, 3, 7, 1, 4, 7, 3, 4, 7, 5, 7, 1, 5, 2, 4, 6, 3, 4, 3, 4, 6, 6, 6, 6, 3, 3, 4, 6, 7, 7, 2, 5, 1, 4, 4, 2, 5, 5, 4, 5, 2, 3, 2, 5, 7, 4, 7, 6, 2, 1, 1, 2, 4, 2, 2, 2, 5, 5, 4, 4, 7, 5, 6, 6, 7, 7, 3, 6, 3, 6, 2, 3, 7, 5, 5, 7, 3, 6, 7, 4, 1, 1, 5, 5, 5, 2, 1, 7, 6, 1, 4, 1, 7, 3, 1, 1, 6, 1, 1, 3, 6, 1, 2, 3, 4, 5, 4, 4, 7, 4, 1, 3, 5, 1, 7, 2, 7, 4, 7, 1, 2, 3], \"Freq\": [0.9999280571937561, 0.9998390078544617, 0.9992784857749939, 0.9997293949127197, 0.9994787573814392, 0.9998942613601685, 0.31776776909828186, 0.6821631193161011, 0.9998342394828796, 0.9994989037513733, 0.8285605907440186, 0.1714046746492386, 0.9996669888496399, 0.999491274356842, 0.8789875507354736, 0.12087249010801315, 0.9998365640640259, 0.9998859763145447, 0.999447762966156, 0.999845564365387, 0.9997624754905701, 0.9997211694717407, 0.9999256730079651, 0.9999067187309265, 0.9994346499443054, 0.9996317028999329, 0.9998550415039062, 0.9999375343322754, 0.9996950030326843, 0.9998483061790466, 0.9997110366821289, 0.9995859861373901, 0.9996469020843506, 0.9994518756866455, 0.9995255470275879, 0.9996471405029297, 0.999596357345581, 0.9997481107711792, 0.9994299411773682, 0.9994945526123047, 0.7161591053009033, 0.2837387025356293, 0.9998342990875244, 0.9992395043373108, 0.9998032450675964, 0.9993978142738342, 0.9994892477989197, 0.9996662139892578, 0.9998677968978882, 0.9998803734779358, 0.14722542464733124, 0.3943621814250946, 0.45837706327438354, 0.9997408986091614, 0.9997736811637878, 0.9998475313186646, 0.9994645118713379, 0.9999867677688599, 0.999950110912323, 0.9992945194244385, 0.9995071291923523, 0.9997413158416748, 0.9998599886894226, 0.999342143535614, 0.9998872876167297, 0.9996451735496521, 0.9997875690460205, 0.999887228012085, 0.9993351697921753, 0.9999343752861023, 0.9997924566268921, 0.9998921751976013, 0.9999757409095764, 0.9995372891426086, 0.9997352957725525, 0.9997026920318604, 0.9999078512191772, 0.999845564365387, 0.9998732209205627, 0.9996511340141296, 0.9998594522476196, 0.9995468854904175, 0.9999301433563232, 0.9999589920043945, 0.9999752640724182, 0.99997878074646, 0.32356932759284973, 0.6763439774513245, 0.999632716178894, 0.9998383522033691, 0.9997128248214722, 0.9995373487472534, 0.9997192621231079, 0.9997390508651733, 0.9999158978462219, 0.999657392501831, 0.9997079372406006, 0.9995796084403992, 0.9993321299552917, 0.9997826218605042, 0.9996837377548218, 0.9997556805610657, 0.9998739361763, 0.9994999766349792, 0.9994080066680908, 0.9999489188194275, 0.9999146461486816, 0.999333381652832, 0.9993996024131775, 0.9998520612716675, 0.9999100565910339, 0.9993646740913391, 0.999747633934021, 0.8209429979324341, 0.17901523411273956, 0.9997361302375793, 0.6044108867645264, 0.2517079710960388, 0.14383313059806824, 0.9999740123748779, 0.999932587146759, 0.9995431900024414, 0.9996088743209839, 0.9996635913848877, 0.9995923042297363, 0.9991540908813477, 0.9999168515205383, 0.9997395277023315, 0.9992176294326782, 0.9992437362670898, 0.9999493360519409, 0.9998440146446228, 0.2884523570537567, 0.7115287780761719, 0.9996284246444702, 0.9995282292366028, 0.9995513558387756, 0.9999517202377319, 0.9998406171798706, 0.999885082244873, 0.9998108148574829, 0.9999188780784607, 0.9997913241386414, 0.9997784495353699, 0.9994111061096191, 0.9997175931930542, 0.9997247457504272, 0.999325692653656, 0.6135578751564026, 0.38637638092041016, 0.9995850920677185, 0.9995249509811401, 0.999902606010437, 0.9998027682304382, 0.9997445940971375, 0.9998984336853027, 0.9996249675750732, 0.9996523261070251, 0.5751619935035706, 0.4247763156890869, 0.9998452067375183, 0.9998518824577332, 0.9990770816802979, 0.9999832510948181, 0.9997686743736267, 0.9998648166656494, 0.9999282360076904, 0.9998179078102112, 0.9996611475944519, 0.9993688464164734, 0.9998192191123962, 0.9998672604560852, 0.9994004368782043, 0.999812662601471, 0.4045449495315552, 0.5953068733215332, 0.9995415806770325, 0.999674916267395, 0.9997876882553101, 0.9998977780342102, 0.9995108246803284, 0.999920666217804, 0.9997183680534363, 0.9990690350532532, 0.999856173992157, 0.999872624874115, 0.9998983144760132, 0.9996690154075623, 0.999531090259552, 0.9997971057891846, 0.9998039603233337, 0.9998270273208618, 0.9998629093170166, 0.9998950958251953, 0.9992526173591614, 0.9998005032539368, 0.9992883205413818, 0.9998648762702942, 0.99937504529953, 0.9999299049377441, 0.9995947480201721, 0.9995018243789673, 0.9999268054962158, 0.9995916485786438, 0.9997720718383789, 0.9997286796569824, 0.9998645782470703, 0.9991965889930725, 0.9996904134750366, 0.9999820590019226, 0.9997143745422363, 0.9995755553245544, 0.8138502240180969, 0.18609651923179626, 0.9999592304229736, 0.999484658241272, 0.9995644092559814, 0.9997608661651611, 0.9996317625045776, 0.9997116327285767, 0.9998967051506042, 0.9996964335441589, 0.9999701380729675, 0.999555766582489, 0.9998190402984619, 0.9996859431266785, 0.9995608329772949, 0.999896764755249, 0.9998435974121094, 0.9998466372489929, 0.9999192953109741, 0.9998888373374939, 0.9997314810752869, 0.14817488193511963, 0.2811378836631775, 0.570646345615387, 0.27744391560554504, 0.721920371055603, 0.9998138546943665, 0.9994437098503113, 0.9995796084403992, 0.9999059438705444, 0.7112839221954346, 0.288675993680954, 0.9999117255210876], \"Term\": [\"able\", \"access\", \"account\", \"addition\", \"alarm\", \"alexa\", \"amazing\", \"amazing\", \"android\", \"answer\", \"app\", \"app\", \"apple\", \"automation\", \"available\", \"available\", \"awesome\", \"battery\", \"bedroom\", \"big\", \"bill\", \"birthday\", \"book\", \"box\", \"buffering\", \"button\", \"buy\", \"cable\", \"capability\", \"card\", \"case\", \"channel\", \"charge\", \"charger\", \"cheap\", \"child\", \"clear\", \"command\", \"computer\", \"connection\", \"content\", \"content\", \"control\", \"convenient\", \"cord\", \"cost\", \"couple\", \"cover\", \"daughter\", \"day\", \"device\", \"device\", \"device\", \"different\", \"dot\", \"download\", \"ease\", \"easy\", \"echo\", \"enough\", \"entertainment\", \"ethernet\", \"excellent\", \"expensive\", \"extra\", \"eye\", \"fact\", \"family\", \"fantastic\", \"fast\", \"favorite\", \"feature\", \"fire\", \"firestick\", \"firetv\", \"first\", \"free\", \"friend\", \"friendly\", \"full\", \"fun\", \"future\", \"game\", \"gift\", \"good\", \"great\", \"hand\", \"hand\", \"handy\", \"happy\", \"hard\", \"help\", \"helpful\", \"high\", \"home\", \"hour\", \"house\", \"husband\", \"information\", \"internet\", \"ipad\", \"issue\", \"item\", \"job\", \"joke\", \"kid\", \"kindle\", \"large\", \"library\", \"life\", \"light\", \"lighting\", \"list\", \"little\", \"little\", \"long\", \"lot\", \"lot\", \"lot\", \"love\", \"many\", \"market\", \"member\", \"memory\", \"model\", \"mom\", \"money\", \"month\", \"morning\", \"mother\", \"movie\", \"much\", \"music\", \"music\", \"navigate\", \"need\", \"netflix\", \"new\", \"news\", \"nice\", \"night\", \"old\", \"one\", \"option\", \"original\", \"overall\", \"page\", \"paper\", \"paperwhite\", \"paperwhite\", \"part\", \"people\", \"perfect\", \"phone\", \"picture\", \"play\", \"playstation\", \"portable\", \"price\", \"price\", \"prime\", \"problem\", \"processor\", \"product\", \"program\", \"purchase\", \"quality\", \"question\", \"quick\", \"radio\", \"reader\", \"reading\", \"reason\", \"recommend\", \"remote\", \"remote\", \"responsive\", \"review\", \"right\", \"room\", \"sale\", \"screen\", \"second\", \"selection\", \"service\", \"set\", \"setup\", \"several\", \"shopping\", \"show\", \"simple\", \"size\", \"small\", \"smart\", \"smooth\", \"son\", \"song\", \"sound\", \"space\", \"speaker\", \"speed\", \"sport\", \"stick\", \"storage\", \"store\", \"stream\", \"streaming\", \"stuff\", \"system\", \"tablet\", \"tap\", \"technology\", \"thing\", \"thing\", \"time\", \"timer\", \"ton\", \"touch\", \"travel\", \"turn\", \"unit\", \"update\", \"use\", \"useful\", \"user\", \"value\", \"version\", \"video\", \"voice\", \"watch\", \"way\", \"weather\", \"week\", \"well\", \"well\", \"well\", \"whole\", \"whole\", \"wife\", \"wireless\", \"wonderful\", \"work\", \"worth\", \"worth\", \"year\"]}, \"R\": 30, \"lambda.step\": 0.01, \"plot.opts\": {\"xlab\": \"PC1\", \"ylab\": \"PC2\"}, \"topic.order\": [4, 2, 5, 3, 7, 1, 6]};\n",
       "\n",
       "function LDAvis_load_lib(url, callback){\n",
       "  var s = document.createElement('script');\n",
       "  s.src = url;\n",
       "  s.async = true;\n",
       "  s.onreadystatechange = s.onload = callback;\n",
       "  s.onerror = function(){console.warn(\"failed to load library \" + url);};\n",
       "  document.getElementsByTagName(\"head\")[0].appendChild(s);\n",
       "}\n",
       "\n",
       "if(typeof(LDAvis) !== \"undefined\"){\n",
       "   // already loaded: just create the visualization\n",
       "   !function(LDAvis){\n",
       "       new LDAvis(\"#\" + \"ldavis_el10049620227523957295359\", ldavis_el10049620227523957295359_data);\n",
       "   }(LDAvis);\n",
       "}else if(typeof define === \"function\" && define.amd){\n",
       "   // require.js is available: use it to load d3/LDAvis\n",
       "   require.config({paths: {d3: \"https://cdnjs.cloudflare.com/ajax/libs/d3/3.5.5/d3.min\"}});\n",
       "   require([\"d3\"], function(d3){\n",
       "      window.d3 = d3;\n",
       "      LDAvis_load_lib(\"https://cdn.rawgit.com/bmabey/pyLDAvis/files/ldavis.v1.0.0.js\", function(){\n",
       "        new LDAvis(\"#\" + \"ldavis_el10049620227523957295359\", ldavis_el10049620227523957295359_data);\n",
       "      });\n",
       "    });\n",
       "}else{\n",
       "    // require.js not available: dynamically load d3 & LDAvis\n",
       "    LDAvis_load_lib(\"https://cdnjs.cloudflare.com/ajax/libs/d3/3.5.5/d3.min.js\", function(){\n",
       "         LDAvis_load_lib(\"https://cdn.rawgit.com/bmabey/pyLDAvis/files/ldavis.v1.0.0.js\", function(){\n",
       "                 new LDAvis(\"#\" + \"ldavis_el10049620227523957295359\", ldavis_el10049620227523957295359_data);\n",
       "            })\n",
       "         });\n",
       "}\n",
       "</script>"
      ],
      "text/plain": [
       "PreparedData(topic_coordinates=              x         y  topics  cluster       Freq\n",
       "topic                                                \n",
       "3      0.174510  0.088077       1        1  20.030128\n",
       "1      0.065673 -0.243044       2        1  14.958956\n",
       "4      0.145256  0.197104       3        1  14.764038\n",
       "2      0.202402 -0.225645       4        1  14.113320\n",
       "6     -0.215972  0.053747       5        1  13.712915\n",
       "0     -0.046695  0.256516       6        1  12.087563\n",
       "5     -0.325173 -0.126755       7        1  10.333076, topic_info=           Term          Freq         Total Category  logprob  loglift\n",
       "112       great  75930.000000  75930.000000  Default  30.0000  30.0000\n",
       "47         good  55232.000000  55232.000000  Default  29.0000  29.0000\n",
       "193        fire  52221.000000  52221.000000  Default  28.0000  28.0000\n",
       "95         easy  52191.000000  52191.000000  Default  27.0000  27.0000\n",
       "36          use  47359.000000  47359.000000  Default  26.0000  26.0000\n",
       "...         ...           ...           ...      ...      ...      ...\n",
       "713       sport   1601.620361   1602.798462   Topic7  -5.1032   2.2691\n",
       "1532      radio   1593.829956   1595.006714   Topic7  -5.1081   2.2691\n",
       "509   selection   1515.228638   1516.411743   Topic7  -5.1586   2.2690\n",
       "874       music  18302.671875  25723.484375   Topic7  -2.6671   1.9295\n",
       "695       whole   1785.267578   2472.571777   Topic7  -4.9946   1.9441\n",
       "\n",
       "[270 rows x 6 columns], token_table=      Topic      Freq       Term\n",
       "term                            \n",
       "206       6  0.999928       able\n",
       "52        1  0.999839     access\n",
       "285       5  0.999278    account\n",
       "317       6  0.999729   addition\n",
       "1521      7  0.999479      alarm\n",
       "...     ...       ...        ...\n",
       "844       4  0.999580  wonderful\n",
       "39        7  0.999906       work\n",
       "447       1  0.711284      worth\n",
       "447       2  0.288676      worth\n",
       "44        3  0.999912       year\n",
       "\n",
       "[245 rows x 3 columns], R=30, lambda_step=0.01, plot_opts={'xlab': 'PC1', 'ylab': 'PC2'}, topic_order=[4, 2, 5, 3, 7, 1, 6])"
      ]
     },
     "execution_count": 33,
     "metadata": {},
     "output_type": "execute_result"
    }
   ],
   "source": [
    "# Visualize the topics\n",
    "pyLDAvis.enable_notebook()\n",
    "vis = pyLDAvis.gensim.prepare(lda_model, doc_term_matrix, dictionary)\n",
    "vis"
   ]
  },
  {
   "cell_type": "markdown",
   "metadata": {},
   "source": [
    "#### Exploring the Data"
   ]
  },
  {
   "cell_type": "code",
   "execution_count": 34,
   "metadata": {},
   "outputs": [],
   "source": [
    "import logging\n",
    "import pandas as pd\n",
    "import numpy as np\n",
    "from numpy import random\n",
    "import gensim\n",
    "import nltk\n",
    "from sklearn.model_selection import train_test_split\n",
    "from sklearn.feature_extraction.text import CountVectorizer, TfidfVectorizer\n",
    "from sklearn.metrics import accuracy_score, confusion_matrix\n",
    "import matplotlib.pyplot as plt\n",
    "from nltk.corpus import stopwords\n",
    "import re\n",
    "from bs4 import BeautifulSoup\n",
    "%matplotlib inline"
   ]
  },
  {
   "cell_type": "code",
   "execution_count": 35,
   "metadata": {},
   "outputs": [
    {
     "data": {
      "text/plain": [
       "7414302"
      ]
     },
     "execution_count": 35,
     "metadata": {},
     "output_type": "execute_result"
    }
   ],
   "source": [
    "df['reviews.text'].apply(lambda x: len(x.split(' '))).sum()\n"
   ]
  },
  {
   "cell_type": "code",
   "execution_count": 36,
   "metadata": {},
   "outputs": [],
   "source": [
    "X = df['reviews.text']\n",
    "y = df['reviews.rating']\n",
    "X_train, X_test, y_train, y_test = train_test_split(X, y, test_size=0.3, random_state = 42)"
   ]
  },
  {
   "cell_type": "markdown",
   "metadata": {},
   "source": [
    "#### Naive Bayes Classifier for Multinomial Models\n"
   ]
  },
  {
   "cell_type": "code",
   "execution_count": 37,
   "metadata": {},
   "outputs": [
    {
     "name": "stdout",
     "output_type": "stream",
     "text": [
      "accuracy 0.7442293322464506\n",
      "              precision    recall  f1-score   support\n",
      "\n",
      "           0       0.99      0.91      0.95       966\n",
      "           1       0.88      0.92      0.90     12233\n",
      "           2       0.92      0.86      0.89     12051\n",
      "           3       0.82      0.65      0.72     13540\n",
      "           4       0.59      0.84      0.69     20473\n",
      "           5       0.73      0.44      0.55     14342\n",
      "\n",
      "    accuracy                           0.74     73605\n",
      "   macro avg       0.82      0.77      0.78     73605\n",
      "weighted avg       0.77      0.74      0.74     73605\n",
      "\n"
     ]
    }
   ],
   "source": [
    "from sklearn.naive_bayes import MultinomialNB\n",
    "from sklearn.pipeline import Pipeline\n",
    "from sklearn.feature_extraction.text import TfidfTransformer\n",
    "target_names = 1 or 2 or 3 or 4 or 5\n",
    "nb = Pipeline([('vect', CountVectorizer()),\n",
    "               ('tfidf', TfidfTransformer()),\n",
    "               ('clf', MultinomialNB()),\n",
    "              ])\n",
    "nb.fit(X_train, y_train)\n",
    "\n",
    "%matplotlib inline\n",
    "from sklearn.metrics import classification_report\n",
    "y_pred = nb.predict(X_test)\n",
    "\n",
    "print('accuracy %s' % accuracy_score(y_pred, y_test))\n",
    "print(classification_report(y_test, y_pred,target_names= rate))"
   ]
  },
  {
   "cell_type": "code",
   "execution_count": 38,
   "metadata": {},
   "outputs": [
    {
     "name": "stdout",
     "output_type": "stream",
     "text": [
      "accuracy 0.7017865634128116\n",
      "              precision    recall  f1-score   support\n",
      "\n",
      "           0       0.92      0.97      0.95       966\n",
      "           1       0.71      0.96      0.82     12233\n",
      "           2       0.83      0.89      0.86     12051\n",
      "           3       0.80      0.54      0.65     13540\n",
      "           4       0.62      0.62      0.62     20473\n",
      "           5       0.61      0.58      0.59     14342\n",
      "\n",
      "    accuracy                           0.70     73605\n",
      "   macro avg       0.75      0.76      0.75     73605\n",
      "weighted avg       0.70      0.70      0.70     73605\n",
      "\n"
     ]
    }
   ],
   "source": [
    "#Linear Support Vector Machine\n",
    "from sklearn.linear_model import SGDClassifier\n",
    "\n",
    "sgd = Pipeline([('vect', CountVectorizer()),\n",
    "                ('tfidf', TfidfTransformer()),\n",
    "                ('clf', SGDClassifier(loss='hinge', penalty='l2',alpha=1e-3, random_state=42, max_iter=5, tol=None)),\n",
    "               ])\n",
    "sgd.fit(X_train, y_train)\n",
    "\n",
    "%matplotlib inline\n",
    "\n",
    "y_pred = sgd.predict(X_test)\n",
    "\n",
    "print('accuracy %s' % accuracy_score(y_pred, y_test))\n",
    "print(classification_report(y_test, y_pred,target_names= rate))"
   ]
  },
  {
   "cell_type": "code",
   "execution_count": null,
   "metadata": {},
   "outputs": [],
   "source": []
  },
  {
   "cell_type": "code",
   "execution_count": null,
   "metadata": {},
   "outputs": [],
   "source": []
  },
  {
   "cell_type": "code",
   "execution_count": null,
   "metadata": {},
   "outputs": [],
   "source": []
  },
  {
   "cell_type": "code",
   "execution_count": null,
   "metadata": {},
   "outputs": [],
   "source": []
  }
 ],
 "metadata": {
  "kernelspec": {
   "display_name": "Python 3",
   "language": "python",
   "name": "python3"
  },
  "language_info": {
   "codemirror_mode": {
    "name": "ipython",
    "version": 3
   },
   "file_extension": ".py",
   "mimetype": "text/x-python",
   "name": "python",
   "nbconvert_exporter": "python",
   "pygments_lexer": "ipython3",
   "version": "3.8.3"
  }
 },
 "nbformat": 4,
 "nbformat_minor": 4
}
